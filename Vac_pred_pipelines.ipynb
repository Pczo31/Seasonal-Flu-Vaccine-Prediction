{
 "cells": [
  {
   "cell_type": "code",
   "execution_count": 1,
   "id": "8565f37f-cad6-49d1-895c-b3a60e034694",
   "metadata": {},
   "outputs": [],
   "source": [
    "import pandas as pd\n",
    "import numpy as np\n",
    "import matplotlib.pyplot as plt\n",
    "import seaborn as sns\n",
    "%matplotlib inline\n",
    "\n",
    "from sklearn.impute import SimpleImputer\n",
    "from sklearn.compose import ColumnTransformer\n",
    "from sklearn.pipeline import Pipeline\n",
    "\n",
    "from sklearn.linear_model import LogisticRegression\n",
    "from sklearn.ensemble import RandomForestClassifier, GradientBoostingClassifier, HistGradientBoostingClassifier\n",
    "from sklearn.tree import DecisionTreeClassifier\n",
    "from sklearn.neighbors import KNeighborsClassifier\n",
    "from sklearn.naive_bayes import GaussianNB\n",
    "\n",
    "\n",
    "from sklearn.metrics import confusion_matrix, plot_confusion_matrix, accuracy_score, precision_score, recall_score, f1_score\n",
    "from sklearn.metrics import ConfusionMatrixDisplay\n",
    "\n",
    "from sklearn.inspection import permutation_importance\n",
    "from sklearn.model_selection import train_test_split, GridSearchCV, RandomizedSearchCV\n",
    "from sklearn.dummy import DummyRegressor\n",
    "from sklearn.preprocessing import OneHotEncoder\n",
    "\n",
    "# from ipynb.fs.full.Functions import factorial\n",
    "\n",
    "RANDOM_SEED = 1235846\n",
    "import warnings\n",
    "warnings.filterwarnings(\"ignore\")"
   ]
  },
  {
   "cell_type": "code",
   "execution_count": 2,
   "id": "8faea0b0-0f52-4fb9-b396-b5072ad20ae4",
   "metadata": {},
   "outputs": [],
   "source": [
    "def model_predictions(model, x_train, y_train, x_test=None, y_test=None):\n",
    "\n",
    "    '''Enter model name and test/train sets to generate predictions, precision, recall, accuracy, and F1 score'''\n",
    "    model.fit(x_train, y_train)\n",
    "    y_hat_train = model.predict(x_train)\n",
    "    if x_test is not None:\n",
    "        y_hat_test = model.predict(x_test)\n",
    "    print('Training Precision: ', precision_score(y_train, y_hat_train))\n",
    "    if x_test is not None:\n",
    "        print('Testing Precision: ', precision_score(y_test, y_hat_test))\n",
    "    print('-----')\n",
    "\n",
    "    print('Training Recall: ', recall_score(y_train, y_hat_train))\n",
    "    if x_test is not None:\n",
    "        print('Testing Recall: ', recall_score(y_test, y_hat_test))\n",
    "    print('-----')\n",
    "\n",
    "    print('Training Accuracy: ', accuracy_score(y_train, y_hat_train))\n",
    "    if x_test is not None:\n",
    "        print('Testing Accuracy: ', accuracy_score(y_test, y_hat_test))\n",
    "    print('-----')\n",
    "\n",
    "    print('Training F1-Score: ', f1_score(y_train, y_hat_train))\n",
    "    if x_test is not None:\n",
    "        print('Testing F1-Score: ', f1_score(y_test, y_hat_test))\n",
    "    if x_test is not None:\n",
    "        return precision_score(y_test, y_hat_test), accuracy_score(y_test, y_hat_test)\n",
    "    return precision_score(y_train, y_hat_train), accuracy_score(y_train, y_hat_train)"
   ]
  },
  {
   "cell_type": "code",
   "execution_count": 3,
   "id": "fb5c628e-cf10-429b-85fc-dcf8eb54c504",
   "metadata": {},
   "outputs": [],
   "source": [
    "features_df = pd.read_csv('./data/flu_training_set_features.csv', index_col='respondent_id')\n",
    "labels_df = labels_df = pd.read_csv(\"./data/flu_training_set_labels.csv\", index_col=\"respondent_id\")"
   ]
  },
  {
   "cell_type": "code",
   "execution_count": 4,
   "id": "a263471e-7b9f-41a1-ac34-713452994ad7",
   "metadata": {},
   "outputs": [],
   "source": [
    "X_train, X_test, y_train, y_test = train_test_split(\n",
    "    features_df,\n",
    "    labels_df,\n",
    "    test_size=0.25,\n",
    "    random_state=RANDOM_SEED\n",
    ")"
   ]
  },
  {
   "cell_type": "code",
   "execution_count": 5,
   "id": "509fc3a9-3614-41c7-a654-adbc7be680c7",
   "metadata": {},
   "outputs": [],
   "source": [
    "drop_features = ['hhs_geo_region', 'employment_industry','employment_occupation']\n",
    "X_train.drop(drop_features, axis=1, inplace=True)\n",
    "X_test.drop(drop_features, axis=1, inplace=True)\n",
    "numeric_features = [col for col in X_train.columns if X_train[col].dtype != 'O']\n",
    "categorical_features = [col for col in X_train.columns if X_train[col].dtype == 'O']"
   ]
  },
  {
   "cell_type": "code",
   "execution_count": 6,
   "id": "03d651fb-e692-4282-a2d3-faf7407caa62",
   "metadata": {},
   "outputs": [],
   "source": [
    "numeric_transformer = Pipeline(\n",
    "    steps=[(\"imputer\", SimpleImputer(strategy=\"median\", add_indicator=True))]\n",
    ")\n",
    "\n",
    "categorical_transformer = OneHotEncoder(handle_unknown=\"ignore\")\n",
    "\n",
    "preprocessor = ColumnTransformer(\n",
    "    transformers=[\n",
    "        (\"num\", numeric_transformer, numeric_features),\n",
    "        (\"cat\", categorical_transformer, categorical_features),\n",
    "    ]\n",
    ")"
   ]
  },
  {
   "cell_type": "code",
   "execution_count": 7,
   "id": "952bb84a-0c66-475b-b8dd-3a6a19efda62",
   "metadata": {},
   "outputs": [],
   "source": [
    "models = {'Baseline':\n",
    "              {'regressor': DummyRegressor(),\n",
    "               'preprocessor': preprocessor},\n",
    "          'Logistic':\n",
    "              {'regressor': LogisticRegression(),\n",
    "               'preprocessor': preprocessor},\n",
    "          'Naive_Bayes':\n",
    "              {'regressor': GaussianNB(),\n",
    "               'preprocessor': preprocessor},\n",
    "          'Decision_Trees':\n",
    "              {'regressor': DecisionTreeClassifier(),\n",
    "               'preprocessor': preprocessor},\n",
    "          'KNN':\n",
    "              {'regressor': KNeighborsClassifier(),\n",
    "               'preprocessor': preprocessor},\n",
    "          'Random_Forest':\n",
    "              {'regressor': RandomForestClassifier(),\n",
    "               'preprocessor': preprocessor},\n",
    "          'G_Boost':\n",
    "              {'regressor': GradientBoostingClassifier(),\n",
    "               'preprocessor': preprocessor},\n",
    "          'Hist_Boost':\n",
    "              {'regressor': HistGradientBoostingClassifier(),\n",
    "               'preprocessor': preprocessor}\n",
    "              }"
   ]
  },
  {
   "cell_type": "code",
   "execution_count": 8,
   "id": "4054e1c7-eb24-4eb5-baee-2a46f2e4b7a0",
   "metadata": {},
   "outputs": [
    {
     "name": "stdout",
     "output_type": "stream",
     "text": [
      "Baseline\n",
      "{'regressor': DummyRegressor(), 'preprocessor': ColumnTransformer(transformers=[('num',\n",
      "                                 Pipeline(steps=[('imputer',\n",
      "                                                  SimpleImputer(add_indicator=True,\n",
      "                                                                strategy='median'))]),\n",
      "                                 ['h1n1_concern', 'h1n1_knowledge',\n",
      "                                  'behavioral_antiviral_meds',\n",
      "                                  'behavioral_avoidance',\n",
      "                                  'behavioral_face_mask',\n",
      "                                  'behavioral_wash_hands',\n",
      "                                  'behavioral_large_gatherings',\n",
      "                                  'behavioral_outside_home',\n",
      "                                  'behavioral_touch_face', 'doctor_recc_h1n1'...\n",
      "                                  'opinion_h1n1_vacc_effective',\n",
      "                                  'opinion_h1n1_risk',\n",
      "                                  'opinion_h1n1_sick_from_vacc',\n",
      "                                  'opinion_seas_vacc_effective',\n",
      "                                  'opinion_seas_risk',\n",
      "                                  'opinion_seas_sick_from_vacc',\n",
      "                                  'household_adults', 'household_children']),\n",
      "                                ('cat', OneHotEncoder(handle_unknown='ignore'),\n",
      "                                 ['age_group', 'education', 'race', 'sex',\n",
      "                                  'income_poverty', 'marital_status',\n",
      "                                  'rent_or_own', 'employment_status',\n",
      "                                  'census_msa'])]), 'fit_regressor': DummyRegressor()}\n",
      "Logistic\n",
      "{'regressor': LogisticRegression(), 'preprocessor': ColumnTransformer(transformers=[('num',\n",
      "                                 Pipeline(steps=[('imputer',\n",
      "                                                  SimpleImputer(add_indicator=True,\n",
      "                                                                strategy='median'))]),\n",
      "                                 ['h1n1_concern', 'h1n1_knowledge',\n",
      "                                  'behavioral_antiviral_meds',\n",
      "                                  'behavioral_avoidance',\n",
      "                                  'behavioral_face_mask',\n",
      "                                  'behavioral_wash_hands',\n",
      "                                  'behavioral_large_gatherings',\n",
      "                                  'behavioral_outside_home',\n",
      "                                  'behavioral_touch_face', 'doctor_recc_h1n1'...\n",
      "                                  'opinion_h1n1_vacc_effective',\n",
      "                                  'opinion_h1n1_risk',\n",
      "                                  'opinion_h1n1_sick_from_vacc',\n",
      "                                  'opinion_seas_vacc_effective',\n",
      "                                  'opinion_seas_risk',\n",
      "                                  'opinion_seas_sick_from_vacc',\n",
      "                                  'household_adults', 'household_children']),\n",
      "                                ('cat', OneHotEncoder(handle_unknown='ignore'),\n",
      "                                 ['age_group', 'education', 'race', 'sex',\n",
      "                                  'income_poverty', 'marital_status',\n",
      "                                  'rent_or_own', 'employment_status',\n",
      "                                  'census_msa'])]), 'fit_regressor': LogisticRegression()}\n",
      "Training Precision:  0.7740852635112454\n",
      "Testing Precision:  0.7746526601152152\n",
      "-----\n",
      "Training Recall:  0.7420358253780972\n",
      "Testing Recall:  0.7345758354755784\n",
      "-----\n",
      "Training Accuracy:  0.7791313030454319\n",
      "Testing Accuracy:  0.7766961210124307\n",
      "-----\n",
      "Training F1-Score:  0.7577217962760131\n",
      "Testing F1-Score:  0.7540821375556656\n",
      "Naive_Bayes\n",
      "{'regressor': GaussianNB(), 'preprocessor': ColumnTransformer(transformers=[('num',\n",
      "                                 Pipeline(steps=[('imputer',\n",
      "                                                  SimpleImputer(add_indicator=True,\n",
      "                                                                strategy='median'))]),\n",
      "                                 ['h1n1_concern', 'h1n1_knowledge',\n",
      "                                  'behavioral_antiviral_meds',\n",
      "                                  'behavioral_avoidance',\n",
      "                                  'behavioral_face_mask',\n",
      "                                  'behavioral_wash_hands',\n",
      "                                  'behavioral_large_gatherings',\n",
      "                                  'behavioral_outside_home',\n",
      "                                  'behavioral_touch_face', 'doctor_recc_h1n1'...\n",
      "                                  'opinion_h1n1_vacc_effective',\n",
      "                                  'opinion_h1n1_risk',\n",
      "                                  'opinion_h1n1_sick_from_vacc',\n",
      "                                  'opinion_seas_vacc_effective',\n",
      "                                  'opinion_seas_risk',\n",
      "                                  'opinion_seas_sick_from_vacc',\n",
      "                                  'household_adults', 'household_children']),\n",
      "                                ('cat', OneHotEncoder(handle_unknown='ignore'),\n",
      "                                 ['age_group', 'education', 'race', 'sex',\n",
      "                                  'income_poverty', 'marital_status',\n",
      "                                  'rent_or_own', 'employment_status',\n",
      "                                  'census_msa'])]), 'fit_regressor': GaussianNB()}\n",
      "Training Precision:  0.6184415797684539\n",
      "Testing Precision:  0.6257470119521913\n",
      "-----\n",
      "Training Recall:  0.8078944545747078\n",
      "Testing Recall:  0.8075192802056556\n",
      "-----\n",
      "Training Accuracy:  0.6785821268097854\n",
      "Testing Accuracy:  0.6851879586640707\n",
      "-----\n",
      "Training F1-Score:  0.7005859920007441\n",
      "Testing F1-Score:  0.7051066217732884\n",
      "Decision_Trees\n",
      "{'regressor': DecisionTreeClassifier(), 'preprocessor': ColumnTransformer(transformers=[('num',\n",
      "                                 Pipeline(steps=[('imputer',\n",
      "                                                  SimpleImputer(add_indicator=True,\n",
      "                                                                strategy='median'))]),\n",
      "                                 ['h1n1_concern', 'h1n1_knowledge',\n",
      "                                  'behavioral_antiviral_meds',\n",
      "                                  'behavioral_avoidance',\n",
      "                                  'behavioral_face_mask',\n",
      "                                  'behavioral_wash_hands',\n",
      "                                  'behavioral_large_gatherings',\n",
      "                                  'behavioral_outside_home',\n",
      "                                  'behavioral_touch_face', 'doctor_recc_h1n1'...\n",
      "                                  'opinion_h1n1_vacc_effective',\n",
      "                                  'opinion_h1n1_risk',\n",
      "                                  'opinion_h1n1_sick_from_vacc',\n",
      "                                  'opinion_seas_vacc_effective',\n",
      "                                  'opinion_seas_risk',\n",
      "                                  'opinion_seas_sick_from_vacc',\n",
      "                                  'household_adults', 'household_children']),\n",
      "                                ('cat', OneHotEncoder(handle_unknown='ignore'),\n",
      "                                 ['age_group', 'education', 'race', 'sex',\n",
      "                                  'income_poverty', 'marital_status',\n",
      "                                  'rent_or_own', 'employment_status',\n",
      "                                  'census_msa'])]), 'fit_regressor': DecisionTreeClassifier()}\n",
      "Training Precision:  1.0\n",
      "Testing Precision:  0.6606217616580311\n",
      "-----\n",
      "Training Recall:  0.9997854767778612\n",
      "Testing Recall:  0.6555269922879178\n",
      "-----\n",
      "Training Accuracy:  0.999900149775337\n",
      "Testing Accuracy:  0.6824921371873596\n",
      "-----\n",
      "Training F1-Score:  0.9998927268826432\n",
      "Testing F1-Score:  0.6580645161290323\n",
      "KNN\n",
      "{'regressor': KNeighborsClassifier(), 'preprocessor': ColumnTransformer(transformers=[('num',\n",
      "                                 Pipeline(steps=[('imputer',\n",
      "                                                  SimpleImputer(add_indicator=True,\n",
      "                                                                strategy='median'))]),\n",
      "                                 ['h1n1_concern', 'h1n1_knowledge',\n",
      "                                  'behavioral_antiviral_meds',\n",
      "                                  'behavioral_avoidance',\n",
      "                                  'behavioral_face_mask',\n",
      "                                  'behavioral_wash_hands',\n",
      "                                  'behavioral_large_gatherings',\n",
      "                                  'behavioral_outside_home',\n",
      "                                  'behavioral_touch_face', 'doctor_recc_h1n1'...\n",
      "                                  'opinion_h1n1_vacc_effective',\n",
      "                                  'opinion_h1n1_risk',\n",
      "                                  'opinion_h1n1_sick_from_vacc',\n",
      "                                  'opinion_seas_vacc_effective',\n",
      "                                  'opinion_seas_risk',\n",
      "                                  'opinion_seas_sick_from_vacc',\n",
      "                                  'household_adults', 'household_children']),\n",
      "                                ('cat', OneHotEncoder(handle_unknown='ignore'),\n",
      "                                 ['age_group', 'education', 'race', 'sex',\n",
      "                                  'income_poverty', 'marital_status',\n",
      "                                  'rent_or_own', 'employment_status',\n",
      "                                  'census_msa'])]), 'fit_regressor': KNeighborsClassifier()}\n",
      "Training Precision:  0.8003067148647168\n",
      "Testing Precision:  0.7037037037037037\n",
      "-----\n",
      "Training Recall:  0.7836533304730237\n",
      "Testing Recall:  0.6838046272493573\n",
      "-----\n",
      "Training Accuracy:  0.8082875686470294\n",
      "Testing Accuracy:  0.7184364235435076\n",
      "-----\n",
      "Training F1-Score:  0.7918924777801865\n",
      "Testing F1-Score:  0.6936114732724903\n",
      "Random_Forest\n",
      "{'regressor': RandomForestClassifier(), 'preprocessor': ColumnTransformer(transformers=[('num',\n",
      "                                 Pipeline(steps=[('imputer',\n",
      "                                                  SimpleImputer(add_indicator=True,\n",
      "                                                                strategy='median'))]),\n",
      "                                 ['h1n1_concern', 'h1n1_knowledge',\n",
      "                                  'behavioral_antiviral_meds',\n",
      "                                  'behavioral_avoidance',\n",
      "                                  'behavioral_face_mask',\n",
      "                                  'behavioral_wash_hands',\n",
      "                                  'behavioral_large_gatherings',\n",
      "                                  'behavioral_outside_home',\n",
      "                                  'behavioral_touch_face', 'doctor_recc_h1n1'...\n",
      "                                  'opinion_h1n1_vacc_effective',\n",
      "                                  'opinion_h1n1_risk',\n",
      "                                  'opinion_h1n1_sick_from_vacc',\n",
      "                                  'opinion_seas_vacc_effective',\n",
      "                                  'opinion_seas_risk',\n",
      "                                  'opinion_seas_sick_from_vacc',\n",
      "                                  'household_adults', 'household_children']),\n",
      "                                ('cat', OneHotEncoder(handle_unknown='ignore'),\n",
      "                                 ['age_group', 'education', 'race', 'sex',\n",
      "                                  'income_poverty', 'marital_status',\n",
      "                                  'rent_or_own', 'employment_status',\n",
      "                                  'census_msa'])]), 'fit_regressor': RandomForestClassifier()}\n",
      "Training Precision:  0.9998927383889306\n",
      "Testing Precision:  0.7766101694915254\n",
      "-----\n",
      "Training Recall:  0.9998927383889306\n",
      "Testing Recall:  0.7361825192802056\n",
      "-----\n",
      "Training Accuracy:  0.999900149775337\n",
      "Testing Accuracy:  0.7783435674704209\n",
      "-----\n",
      "Training F1-Score:  0.9998927383889306\n",
      "Testing F1-Score:  0.7558561530847905\n",
      "G_Boost\n",
      "{'regressor': GradientBoostingClassifier(), 'preprocessor': ColumnTransformer(transformers=[('num',\n",
      "                                 Pipeline(steps=[('imputer',\n",
      "                                                  SimpleImputer(add_indicator=True,\n",
      "                                                                strategy='median'))]),\n",
      "                                 ['h1n1_concern', 'h1n1_knowledge',\n",
      "                                  'behavioral_antiviral_meds',\n",
      "                                  'behavioral_avoidance',\n",
      "                                  'behavioral_face_mask',\n",
      "                                  'behavioral_wash_hands',\n",
      "                                  'behavioral_large_gatherings',\n",
      "                                  'behavioral_outside_home',\n",
      "                                  'behavioral_touch_face', 'doctor_recc_h1n1'...\n",
      "                                  'opinion_h1n1_vacc_effective',\n",
      "                                  'opinion_h1n1_risk',\n",
      "                                  'opinion_h1n1_sick_from_vacc',\n",
      "                                  'opinion_seas_vacc_effective',\n",
      "                                  'opinion_seas_risk',\n",
      "                                  'opinion_seas_sick_from_vacc',\n",
      "                                  'household_adults', 'household_children']),\n",
      "                                ('cat', OneHotEncoder(handle_unknown='ignore'),\n",
      "                                 ['age_group', 'education', 'race', 'sex',\n",
      "                                  'income_poverty', 'marital_status',\n",
      "                                  'rent_or_own', 'employment_status',\n",
      "                                  'census_msa'])]), 'fit_regressor': GradientBoostingClassifier()}\n",
      "Training Precision:  0.7848424323124723\n",
      "Testing Precision:  0.7829744279946165\n",
      "-----\n",
      "Training Recall:  0.7586613750938539\n",
      "Testing Recall:  0.7477506426735219\n",
      "-----\n",
      "Training Accuracy:  0.790863704443335\n",
      "Testing Accuracy:  0.785831960461285\n",
      "-----\n",
      "Training F1-Score:  0.7715298609217345\n",
      "Testing F1-Score:  0.764957264957265\n",
      "Hist_Boost\n",
      "{'regressor': HistGradientBoostingClassifier(), 'preprocessor': ColumnTransformer(transformers=[('num',\n",
      "                                 Pipeline(steps=[('imputer',\n",
      "                                                  SimpleImputer(add_indicator=True,\n",
      "                                                                strategy='median'))]),\n",
      "                                 ['h1n1_concern', 'h1n1_knowledge',\n",
      "                                  'behavioral_antiviral_meds',\n",
      "                                  'behavioral_avoidance',\n",
      "                                  'behavioral_face_mask',\n",
      "                                  'behavioral_wash_hands',\n",
      "                                  'behavioral_large_gatherings',\n",
      "                                  'behavioral_outside_home',\n",
      "                                  'behavioral_touch_face', 'doctor_recc_h1n1'...\n",
      "                                  'opinion_h1n1_vacc_effective',\n",
      "                                  'opinion_h1n1_risk',\n",
      "                                  'opinion_h1n1_sick_from_vacc',\n",
      "                                  'opinion_seas_vacc_effective',\n",
      "                                  'opinion_seas_risk',\n",
      "                                  'opinion_seas_sick_from_vacc',\n",
      "                                  'household_adults', 'household_children']),\n",
      "                                ('cat', OneHotEncoder(handle_unknown='ignore'),\n",
      "                                 ['age_group', 'education', 'race', 'sex',\n",
      "                                  'income_poverty', 'marital_status',\n",
      "                                  'rent_or_own', 'employment_status',\n",
      "                                  'census_msa'])]), 'fit_regressor': HistGradientBoostingClassifier()}\n",
      "Training Precision:  0.8029572836801753\n",
      "Testing Precision:  0.7783283779319459\n",
      "-----\n",
      "Training Recall:  0.7863348707497586\n",
      "Testing Recall:  0.7570694087403599\n",
      "-----\n",
      "Training Accuracy:  0.8107338991512731\n",
      "Testing Accuracy:  0.7862812640407368\n",
      "-----\n",
      "Training F1-Score:  0.7945591502736682\n",
      "Testing F1-Score:  0.7675517185209318\n"
     ]
    }
   ],
   "source": [
    "count = 0\n",
    "precision_dict = {}\n",
    "accuracy_dict = {}\n",
    "for name, model in models.items():  \n",
    "    print(name)\n",
    "    X_train_processed = model['preprocessor'].fit_transform(X_train)\n",
    "    X_test_processed = model['preprocessor'].transform(X_test)\n",
    "    model['fit_regressor'] = model['regressor'].fit(X_train_processed, y_train.seasonal_vaccine)\n",
    "    # model['output'] = model['fit_regressor'].score(X_test_processed, y_test.seasonal_vaccine)\n",
    "    print(model)\n",
    "    if count > 0:\n",
    "        precision_dict[name], accuracy_dict[name] = model_predictions(model['fit_regressor'], X_train_processed, y_train.seasonal_vaccine, X_test_processed, y_test.seasonal_vaccine)\n",
    "    count += 1"
   ]
  },
  {
   "cell_type": "markdown",
   "id": "ede74bfd-e5e5-4b93-8c59-a42d3ce97770",
   "metadata": {},
   "source": [
    "## Baseline"
   ]
  },
  {
   "cell_type": "code",
   "execution_count": 9,
   "id": "53af6c01-99c5-4d99-b30b-a8e79915f128",
   "metadata": {},
   "outputs": [],
   "source": [
    "# Using only 1 column as predicator\n",
    "base_X_train = X_train.copy()\n",
    "base_X_train.drop(base_X_train.columns.difference(['opinion_seas_risk']), 1, inplace=True)\n",
    "base_X_test = X_test.copy()\n",
    "base_X_test.drop(base_X_test.columns.difference(['opinion_seas_risk']), 1, inplace=True)"
   ]
  },
  {
   "cell_type": "code",
   "execution_count": 10,
   "id": "d64a2226-65be-4ddb-9cba-fce634edf9a0",
   "metadata": {},
   "outputs": [
    {
     "name": "stdout",
     "output_type": "stream",
     "text": [
      "Baseline\n",
      "{'Baseline': {'regressor': LogisticRegression(), 'preprocessor': ColumnTransformer(transformers=[('num',\n",
      "                                 Pipeline(steps=[('imputer',\n",
      "                                                  SimpleImputer(add_indicator=True,\n",
      "                                                                strategy='median'))]),\n",
      "                                 ['h1n1_concern', 'h1n1_knowledge',\n",
      "                                  'behavioral_antiviral_meds',\n",
      "                                  'behavioral_avoidance',\n",
      "                                  'behavioral_face_mask',\n",
      "                                  'behavioral_wash_hands',\n",
      "                                  'behavioral_large_gatherings',\n",
      "                                  'behavioral_outside_home',\n",
      "                                  'behavioral_touch_face', 'doctor_recc_h1n1'...\n",
      "                                  'opinion_h1n1_vacc_effective',\n",
      "                                  'opinion_h1n1_risk',\n",
      "                                  'opinion_h1n1_sick_from_vacc',\n",
      "                                  'opinion_seas_vacc_effective',\n",
      "                                  'opinion_seas_risk',\n",
      "                                  'opinion_seas_sick_from_vacc',\n",
      "                                  'household_adults', 'household_children']),\n",
      "                                ('cat', OneHotEncoder(handle_unknown='ignore'),\n",
      "                                 ['age_group', 'education', 'race', 'sex',\n",
      "                                  'income_poverty', 'marital_status',\n",
      "                                  'rent_or_own', 'employment_status',\n",
      "                                  'census_msa'])]), 'fit_regressor': LogisticRegression()}}\n",
      "Training Precision:  0.6783973368208298\n",
      "Testing Precision:  0.6783461807988788\n",
      "-----\n",
      "Training Recall:  0.6120347527619865\n",
      "Testing Recall:  0.622107969151671\n",
      "-----\n",
      "Training Accuracy:  0.6843734398402397\n",
      "Testing Accuracy:  0.6863861015426089\n",
      "-----\n",
      "Training F1-Score:  0.643509642494643\n",
      "Testing F1-Score:  0.6490110626885686\n"
     ]
    },
    {
     "data": {
      "text/plain": [
       "<sklearn.metrics._plot.confusion_matrix.ConfusionMatrixDisplay at 0x1a795c85d30>"
      ]
     },
     "execution_count": 10,
     "metadata": {},
     "output_type": "execute_result"
    },
    {
     "data": {
      "image/png": "[encoded data removed]",
      "text/plain": [
       "<Figure size 432x288 with 2 Axes>"
      ]
     },
     "metadata": {
      "needs_background": "light"
     },
     "output_type": "display_data"
    }
   ],
   "source": [
    "model_baseline = {'Baseline':\n",
    "              {'regressor': LogisticRegression(),\n",
    "               'preprocessor': preprocessor}}\n",
    " \n",
    "print(list(model_baseline.keys())[0])\n",
    "base_X_train.fillna(value=2, inplace=True)\n",
    "base_X_test.fillna(value=2, inplace=True)\n",
    "model_baseline['Baseline']['fit_regressor'] = model_baseline['Baseline']['regressor'].fit(base_X_train, y_train.seasonal_vaccine)\n",
    "print(model_baseline)\n",
    "precision_dict['Baseline'], accuracy_dict['Baseline'] = model_predictions(model_baseline['Baseline']['fit_regressor'], base_X_train, y_train.seasonal_vaccine, base_X_test, y_test.seasonal_vaccine)\n",
    "\n",
    "y_hat_test_baseline = model_baseline['Baseline']['fit_regressor'].predict(base_X_test)\n",
    "cm_baseline = confusion_matrix(y_test.seasonal_vaccine, y_hat_test_baseline)\n",
    "ConfusionMatrixDisplay(cm_baseline, display_labels=['No', 'Yes']).plot()"
   ]
  },
  {
   "cell_type": "code",
   "execution_count": 11,
   "id": "8df737c6-f98d-4efd-b0bf-8f35c21456f3",
   "metadata": {},
   "outputs": [
    {
     "data": {
      "text/plain": [
       "{'Logistic': 0.7746526601152152,\n",
       " 'Naive_Bayes': 0.6257470119521913,\n",
       " 'Decision_Trees': 0.6606217616580311,\n",
       " 'KNN': 0.7037037037037037,\n",
       " 'Random_Forest': 0.7766101694915254,\n",
       " 'G_Boost': 0.7829744279946165,\n",
       " 'Hist_Boost': 0.7783283779319459,\n",
       " 'Baseline': 0.6783461807988788}"
      ]
     },
     "execution_count": 11,
     "metadata": {},
     "output_type": "execute_result"
    }
   ],
   "source": [
    "precision_dict"
   ]
  },
  {
   "cell_type": "code",
   "execution_count": 12,
   "id": "5f97dffb-a7a0-4479-8e07-6ff19a638de1",
   "metadata": {},
   "outputs": [
    {
     "data": {
      "text/plain": [
       "{'Logistic': 0.7766961210124307,\n",
       " 'Naive_Bayes': 0.6851879586640707,\n",
       " 'Decision_Trees': 0.6824921371873596,\n",
       " 'KNN': 0.7184364235435076,\n",
       " 'Random_Forest': 0.7783435674704209,\n",
       " 'G_Boost': 0.785831960461285,\n",
       " 'Hist_Boost': 0.7862812640407368,\n",
       " 'Baseline': 0.6863861015426089}"
      ]
     },
     "execution_count": 12,
     "metadata": {},
     "output_type": "execute_result"
    }
   ],
   "source": [
    "accuracy_dict"
   ]
  },
  {
   "cell_type": "markdown",
   "id": "0200f60e-8d8a-4c90-8cfa-af6493f86d88",
   "metadata": {},
   "source": [
    "## Tuning Naive Bayes"
   ]
  },
  {
   "cell_type": "code",
   "execution_count": 13,
   "id": "3a6fb6ea-ca2d-4827-84de-2c6785637c2f",
   "metadata": {},
   "outputs": [],
   "source": [
    "# # Grid_search for Naive Bayes\n",
    "# pipeline_nb = Pipeline([( \"preprocessor\" , preprocessor),\n",
    "#                        (\"nb\",GaussianNB())])\n",
    "\n",
    "# parameters_nb = {'nb__var_smoothing': np.logspace(0,-9, num=10)}\n",
    "\n",
    "# gs_nb=GridSearchCV(pipeline_nb,parameters_nb)\n",
    "\n",
    "# gs_nb.fit(X_train,y_train.seasonal_vaccine)\n",
    "\n",
    "# gs_nb.best_params_"
   ]
  },
  {
   "cell_type": "code",
   "execution_count": 14,
   "id": "892a3897-a2bb-4ebc-b87b-32df8fe49a56",
   "metadata": {},
   "outputs": [],
   "source": [
    "# nb_tuned = GaussianNB(var_smoothing=1.0)\n",
    "# precision_dict[name], accuracy_dict[name] = model_predictions(nb_tuned, X_train_processed, y_train.seasonal_vaccine, X_test_processed, y_test.seasonal_vaccine)"
   ]
  },
  {
   "cell_type": "code",
   "execution_count": 15,
   "id": "2de519a9-6d20-4846-a585-ef0c69cc5ec1",
   "metadata": {},
   "outputs": [],
   "source": [
    "# def best_param_model(model_name, regressor, parameters, X_train, y_train, X_test, y_test):\n",
    "#     model_tuned = {model_name:\n",
    "#               {'regressor': regressor(),\n",
    "#                'preprocessor': preprocessor}}\n",
    "                     \n",
    "#     print(list(model_tuned.keys())[0])\n",
    "#     X_train_processed = model_tuned[model_name]['preprocessor'].fit_transform(X_train)\n",
    "#     X_test_processed = model_tuned[model_name]['preprocessor'].transform(X_test)\n",
    "#     model_tuned[model_name]['fit_regressor'] = model_tuned[model_name]['regressor'].fit(X_train_processed, y_train.seasonal_vaccine)\n",
    "#     # model['output'] = model['fit_regressor'].score(X_test_processed, y_test.seasonal_vaccine)\n",
    "#     print(model_tuned)\n",
    "#     precision_dict[name], accuracy_dict[name] = model_predictions(model_tuned[model_name]['fit_regressor'], X_train_processed, y_train.seasonal_vaccine, X_test_processed, y_test.seasonal_vaccine)\n",
    "    "
   ]
  },
  {
   "cell_type": "code",
   "execution_count": 16,
   "id": "e99c0c5d-b7f7-49f1-8c59-1cfbcbb90f5f",
   "metadata": {},
   "outputs": [],
   "source": [
    "precision_dict_tuned = {}\n",
    "accuracy_dict_tuned = {}"
   ]
  },
  {
   "cell_type": "code",
   "execution_count": 18,
   "id": "7ce331bb-7254-43de-8b69-4cdeb90dfdc9",
   "metadata": {},
   "outputs": [
    {
     "name": "stdout",
     "output_type": "stream",
     "text": [
      "Naive_Bayes\n",
      "{'Naive_Bayes': {'regressor': GaussianNB(var_smoothing=1.0), 'preprocessor': ColumnTransformer(transformers=[('num',\n",
      "                                 Pipeline(steps=[('imputer',\n",
      "                                                  SimpleImputer(add_indicator=True,\n",
      "                                                                strategy='median'))]),\n",
      "                                 ['h1n1_concern', 'h1n1_knowledge',\n",
      "                                  'behavioral_antiviral_meds',\n",
      "                                  'behavioral_avoidance',\n",
      "                                  'behavioral_face_mask',\n",
      "                                  'behavioral_wash_hands',\n",
      "                                  'behavioral_large_gatherings',\n",
      "                                  'behavioral_outside_home',\n",
      "                                  'behavioral_touch_face', 'doctor_recc_h1n1'...\n",
      "                                  'opinion_h1n1_vacc_effective',\n",
      "                                  'opinion_h1n1_risk',\n",
      "                                  'opinion_h1n1_sick_from_vacc',\n",
      "                                  'opinion_seas_vacc_effective',\n",
      "                                  'opinion_seas_risk',\n",
      "                                  'opinion_seas_sick_from_vacc',\n",
      "                                  'household_adults', 'household_children']),\n",
      "                                ('cat', OneHotEncoder(handle_unknown='ignore'),\n",
      "                                 ['age_group', 'education', 'race', 'sex',\n",
      "                                  'income_poverty', 'marital_status',\n",
      "                                  'rent_or_own', 'employment_status',\n",
      "                                  'census_msa'])]), 'fit_regressor': GaussianNB(var_smoothing=1.0)}}\n",
      "Training Precision:  0.6949456684278736\n",
      "Testing Precision:  0.6908442330558858\n",
      "-----\n",
      "Training Recall:  0.7477206907647753\n",
      "Testing Recall:  0.7467866323907455\n",
      "-----\n",
      "Training Accuracy:  0.7298052920619071\n",
      "Testing Accuracy:  0.7262243522540063\n",
      "-----\n",
      "Training F1-Score:  0.7203678826082465\n",
      "Testing F1-Score:  0.7177269919703521\n"
     ]
    }
   ],
   "source": [
    "model_nb_tuned = {'Naive_Bayes':\n",
    "              {'regressor': GaussianNB(var_smoothing=1.0),\n",
    "               'preprocessor': preprocessor}}\n",
    " \n",
    "print(list(model_nb_tuned.keys())[0])\n",
    "X_train_processed = model_nb_tuned['Naive_Bayes']['preprocessor'].fit_transform(X_train)\n",
    "X_test_processed = model_nb_tuned['Naive_Bayes']['preprocessor'].transform(X_test)\n",
    "model_nb_tuned['Naive_Bayes']['fit_regressor'] = model_nb_tuned['Naive_Bayes']['regressor'].fit(X_train_processed, y_train.seasonal_vaccine)\n",
    "# model['output'] = model['fit_regressor'].score(X_test_processed, y_test.seasonal_vaccine)\n",
    "print(model_nb_tuned)\n",
    "precision_dict_tuned['Naive_Bayes'], accuracy_dict_tuned['Naive_Bayes'] = model_predictions(model_nb_tuned['Naive_Bayes']['fit_regressor'], X_train_processed, y_train.seasonal_vaccine, X_test_processed, y_test.seasonal_vaccine)\n"
   ]
  },
  {
   "cell_type": "markdown",
   "id": "f48fbf4e-6a28-4527-808f-82d03404ac4c",
   "metadata": {},
   "source": [
    "## Tuning Random Forest"
   ]
  },
  {
   "cell_type": "code",
   "execution_count": 19,
   "id": "dc9b8aa6-9e75-4424-8eec-20f16ceb101f",
   "metadata": {},
   "outputs": [],
   "source": [
    "# # Grid_search for Random Forest\n",
    "# pipeline_rfc = Pipeline([( \"preprocessor\" , preprocessor),\n",
    "#                        (\"rfc\",RandomForestClassifier())])\n",
    "\n",
    "# parameters_rfc = {}\n",
    "# parameters_rfc['rfc__criterion'] = ['gini', 'entropy']\n",
    "# parameters_rfc['rfc__min_samples_leaf'] = [1, 5, 10]\n",
    "# parameters_rfc['rfc__max_depth'] = [1, 3, 5, 10, 15, 25]\n",
    "\n",
    "# gs_rfc=GridSearchCV(pipeline_rfc,parameters_rfc)\n",
    "\n",
    "# gs_rfc.fit(X_train,y_train.seasonal_vaccine)\n",
    "\n",
    "# gs_rfc.best_params_"
   ]
  },
  {
   "cell_type": "code",
   "execution_count": 20,
   "id": "b47176b2-354a-404a-b1f4-d27451c7718c",
   "metadata": {},
   "outputs": [
    {
     "name": "stdout",
     "output_type": "stream",
     "text": [
      "Random_Forest\n",
      "{'Random_Forest': {'regressor': RandomForestClassifier(max_depth=15, min_samples_leaf=5), 'preprocessor': ColumnTransformer(transformers=[('num',\n",
      "                                 Pipeline(steps=[('imputer',\n",
      "                                                  SimpleImputer(add_indicator=True,\n",
      "                                                                strategy='median'))]),\n",
      "                                 ['h1n1_concern', 'h1n1_knowledge',\n",
      "                                  'behavioral_antiviral_meds',\n",
      "                                  'behavioral_avoidance',\n",
      "                                  'behavioral_face_mask',\n",
      "                                  'behavioral_wash_hands',\n",
      "                                  'behavioral_large_gatherings',\n",
      "                                  'behavioral_outside_home',\n",
      "                                  'behavioral_touch_face', 'doctor_recc_h1n1'...\n",
      "                                  'opinion_h1n1_vacc_effective',\n",
      "                                  'opinion_h1n1_risk',\n",
      "                                  'opinion_h1n1_sick_from_vacc',\n",
      "                                  'opinion_seas_vacc_effective',\n",
      "                                  'opinion_seas_risk',\n",
      "                                  'opinion_seas_sick_from_vacc',\n",
      "                                  'household_adults', 'household_children']),\n",
      "                                ('cat', OneHotEncoder(handle_unknown='ignore'),\n",
      "                                 ['age_group', 'education', 'race', 'sex',\n",
      "                                  'income_poverty', 'marital_status',\n",
      "                                  'rent_or_own', 'employment_status',\n",
      "                                  'census_msa'])]), 'fit_regressor': RandomForestClassifier(max_depth=15, min_samples_leaf=5)}}\n",
      "Training Precision:  0.846916054330884\n",
      "Testing Precision:  0.7750677506775068\n",
      "-----\n",
      "Training Recall:  0.8159390754049126\n",
      "Testing Recall:  0.7352185089974294\n",
      "-----\n",
      "Training Accuracy:  0.845681477783325\n",
      "Testing Accuracy:  0.7771454245918826\n",
      "-----\n",
      "Training F1-Score:  0.831139033051079\n",
      "Testing F1-Score:  0.7546174142480212\n"
     ]
    }
   ],
   "source": [
    "model_rfc_tuned = {'Random_Forest':\n",
    "              {'regressor': RandomForestClassifier(criterion='gini', max_depth=15, min_samples_leaf=5),\n",
    "               'preprocessor': preprocessor}}\n",
    " \n",
    "print(list(model_rfc_tuned.keys())[0])\n",
    "X_train_processed = model_rfc_tuned['Random_Forest']['preprocessor'].fit_transform(X_train)\n",
    "X_test_processed = model_rfc_tuned['Random_Forest']['preprocessor'].transform(X_test)\n",
    "model_rfc_tuned['Random_Forest']['fit_regressor'] = model_rfc_tuned['Random_Forest']['regressor'].fit(X_train_processed, y_train.seasonal_vaccine)\n",
    "# model['output'] = model['fit_regressor'].score(X_test_processed, y_test.seasonal_vaccine)\n",
    "print(model_rfc_tuned)\n",
    "precision_dict_tuned['Random_Forest'], accuracy_dict_tuned['Random_Forest'] = model_predictions(model_rfc_tuned['Random_Forest']['fit_regressor'], X_train_processed, y_train.seasonal_vaccine, X_test_processed, y_test.seasonal_vaccine)\n"
   ]
  },
  {
   "cell_type": "markdown",
   "id": "5dfbd601-b920-477e-98d3-9526288968f4",
   "metadata": {},
   "source": [
    "## Tuning Random Forest #2"
   ]
  },
  {
   "cell_type": "code",
   "execution_count": 21,
   "id": "6609e92b-9a7a-4bb6-a142-ca510a190d3f",
   "metadata": {},
   "outputs": [],
   "source": [
    "# # Grid_search for Random Forest #2\n",
    "# pipeline_rfc = Pipeline([( \"preprocessor\" , preprocessor),\n",
    "#                        (\"rfc\",RandomForestClassifier(criterion='gini', min_samples_leaf=5))])\n",
    "\n",
    "# parameters_rfc = {}\n",
    "# parameters_rfc['rfc__max_depth'] = [3, 5]\n",
    "# parameters_rfc['rfc__ccp_alpha'] = [0, 0.1, 0.5, 1, 2]\n",
    "# parameters_rfc['rfc__n_estimators'] = [50, 100, 250, 500]\n",
    "\n",
    "\n",
    "# gs_rfc=GridSearchCV(pipeline_rfc,parameters_rfc)\n",
    "\n",
    "# gs_rfc.fit(X_train,y_train.seasonal_vaccine)\n",
    "\n",
    "# gs_rfc.best_params_"
   ]
  },
  {
   "cell_type": "code",
   "execution_count": 22,
   "id": "4eff555b-7c6f-420c-a870-3e589f1106da",
   "metadata": {},
   "outputs": [
    {
     "name": "stdout",
     "output_type": "stream",
     "text": [
      "Random_Forest\n",
      "{'Random_Forest': {'regressor': RandomForestClassifier(max_depth=5, min_samples_leaf=5, n_estimators=500), 'preprocessor': ColumnTransformer(transformers=[('num',\n",
      "                                 Pipeline(steps=[('imputer',\n",
      "                                                  SimpleImputer(add_indicator=True,\n",
      "                                                                strategy='median'))]),\n",
      "                                 ['h1n1_concern', 'h1n1_knowledge',\n",
      "                                  'behavioral_antiviral_meds',\n",
      "                                  'behavioral_avoidance',\n",
      "                                  'behavioral_face_mask',\n",
      "                                  'behavioral_wash_hands',\n",
      "                                  'behavioral_large_gatherings',\n",
      "                                  'behavioral_outside_home',\n",
      "                                  'behavioral_touch_face', 'doctor_recc_h1n1'...\n",
      "                                  'opinion_h1n1_vacc_effective',\n",
      "                                  'opinion_h1n1_risk',\n",
      "                                  'opinion_h1n1_sick_from_vacc',\n",
      "                                  'opinion_seas_vacc_effective',\n",
      "                                  'opinion_seas_risk',\n",
      "                                  'opinion_seas_sick_from_vacc',\n",
      "                                  'household_adults', 'household_children']),\n",
      "                                ('cat', OneHotEncoder(handle_unknown='ignore'),\n",
      "                                 ['age_group', 'education', 'race', 'sex',\n",
      "                                  'income_poverty', 'marital_status',\n",
      "                                  'rent_or_own', 'employment_status',\n",
      "                                  'census_msa'])]), 'fit_regressor': RandomForestClassifier(max_depth=5, min_samples_leaf=5, n_estimators=500)}}\n",
      "Training Precision:  0.7858871943839264\n",
      "Testing Precision:  0.7852941176470588\n",
      "-----\n",
      "Training Recall:  0.6964496406736029\n",
      "Testing Recall:  0.6863753213367609\n",
      "-----\n",
      "Training Accuracy:  0.7703944083874189\n",
      "Testing Accuracy:  0.7663621386850382\n",
      "-----\n",
      "Training F1-Score:  0.7384702871765708\n",
      "Testing F1-Score:  0.7325102880658436\n"
     ]
    }
   ],
   "source": [
    "model_rfc_tuned = {'Random_Forest':\n",
    "              {'regressor': RandomForestClassifier(criterion='gini', max_depth=5, min_samples_leaf=5, n_estimators=500),\n",
    "               'preprocessor': preprocessor}}\n",
    " \n",
    "print(list(model_rfc_tuned.keys())[0])\n",
    "X_train_processed = model_rfc_tuned['Random_Forest']['preprocessor'].fit_transform(X_train)\n",
    "X_test_processed = model_rfc_tuned['Random_Forest']['preprocessor'].transform(X_test)\n",
    "model_rfc_tuned['Random_Forest']['fit_regressor'] = model_rfc_tuned['Random_Forest']['regressor'].fit(X_train_processed, y_train.seasonal_vaccine)\n",
    "# model['output'] = model['fit_regressor'].score(X_test_processed, y_test.seasonal_vaccine)\n",
    "print(model_rfc_tuned)\n",
    "precision_dict_tuned['Random_Forest'], accuracy_dict_tuned['Random_Forest'] = model_predictions(model_rfc_tuned['Random_Forest']['fit_regressor'], X_train_processed, y_train.seasonal_vaccine, X_test_processed, y_test.seasonal_vaccine)\n"
   ]
  },
  {
   "cell_type": "markdown",
   "id": "2efc76e2-4299-4eca-9058-43bc23303811",
   "metadata": {},
   "source": [
    "## Tuning Random Forest #3"
   ]
  },
  {
   "cell_type": "code",
   "execution_count": 23,
   "id": "852e09cf-7fb9-45e9-a6e8-647fd5fb15f6",
   "metadata": {},
   "outputs": [],
   "source": [
    "# # Randomized_search for Random Forest #3\n",
    "# pipeline_rfc = Pipeline([( \"preprocessor\" , preprocessor),\n",
    "#                        (\"rfc\",RandomForestClassifier(min_samples_leaf=5, max_depth=5, n_estimators=100))])\n",
    "\n",
    "# parameters_rfc = {}\n",
    "# parameters_rfc['rfc__criterion'] = ['gini', 'entropy']\n",
    "# parameters_rfc['rfc__max_features'] = [9, 11, 15, 19]\n",
    "\n",
    "# gs_rfc=RandomizedSearchCV(pipeline_rfc,parameters_rfc)\n",
    "\n",
    "# gs_rfc.fit(X_train,y_train.seasonal_vaccine)\n",
    "\n",
    "# gs_rfc.best_params_"
   ]
  },
  {
   "cell_type": "code",
   "execution_count": 24,
   "id": "81bb21dd-f365-4121-85d1-9b135f706353",
   "metadata": {},
   "outputs": [],
   "source": [
    "# model_rfc_tuned = {'Random_Forest':\n",
    "#               {'regressor': RandomForestClassifier(criterion='entropy', max_depth=5, min_samples_leaf=5, n_estimators=500, max_features=11),\n",
    "#                'preprocessor': preprocessor}}\n",
    " \n",
    "# print(list(model_rfc_tuned.keys())[0])\n",
    "# X_train_processed = model_rfc_tuned['Random_Forest']['preprocessor'].fit_transform(X_train)\n",
    "# X_test_processed = model_rfc_tuned['Random_Forest']['preprocessor'].transform(X_test)\n",
    "# model_rfc_tuned['Random_Forest']['fit_regressor'] = model_rfc_tuned['Random_Forest']['regressor'].fit(X_train_processed, y_train.seasonal_vaccine)\n",
    "# # model['output'] = model['fit_regressor'].score(X_test_processed, y_test.seasonal_vaccine)\n",
    "# print(model_rfc_tuned)\n",
    "# precision_dict_tuned['Random_Forest'], accuracy_dict_tuned['Random_Forest'] = model_predictions(model_rfc_tuned['Random_Forest']['fit_regressor'], X_train_processed, y_train.seasonal_vaccine, X_test_processed, y_test.seasonal_vaccine)\n"
   ]
  },
  {
   "cell_type": "markdown",
   "id": "d0e96f64-35ec-4f84-85ef-e77b64ad7e9b",
   "metadata": {},
   "source": [
    "## Tuning Gradient Boosting"
   ]
  },
  {
   "cell_type": "code",
   "execution_count": 25,
   "id": "1850b0e5-1299-4f9d-9dd5-c16ef9b32729",
   "metadata": {},
   "outputs": [],
   "source": [
    "# # Grid_search for Gradient Boosting\n",
    "# pipeline_gbc = Pipeline([( \"preprocessor\" , preprocessor),\n",
    "#                        (\"gbc\",GradientBoostingClassifier(n_estimators=100, learning_rate=0.1))])\n",
    "\n",
    "# parameters_gbc = {}\n",
    "# parameters_gbc['gbc__min_samples_leaf'] = [1, 5, 10]\n",
    "# parameters_gbc['gbc__max_depth'] = [3, 5, 10, 15, 20]\n",
    "\n",
    "# gs_gbc=GridSearchCV(pipeline_gbc,parameters_gbc)\n",
    "\n",
    "# gs_gbc.fit(X_train,y_train.seasonal_vaccine)\n",
    "\n",
    "# gs_gbc.best_params_"
   ]
  },
  {
   "cell_type": "code",
   "execution_count": 26,
   "id": "422f00df-f876-4147-a2b8-e7f1ed75c201",
   "metadata": {},
   "outputs": [
    {
     "name": "stdout",
     "output_type": "stream",
     "text": [
      "Gradient_Boosting\n",
      "{'Gradient_Boosting': {'regressor': GradientBoostingClassifier(max_depth=5, min_samples_leaf=5), 'preprocessor': ColumnTransformer(transformers=[('num',\n",
      "                                 Pipeline(steps=[('imputer',\n",
      "                                                  SimpleImputer(add_indicator=True,\n",
      "                                                                strategy='median'))]),\n",
      "                                 ['h1n1_concern', 'h1n1_knowledge',\n",
      "                                  'behavioral_antiviral_meds',\n",
      "                                  'behavioral_avoidance',\n",
      "                                  'behavioral_face_mask',\n",
      "                                  'behavioral_wash_hands',\n",
      "                                  'behavioral_large_gatherings',\n",
      "                                  'behavioral_outside_home',\n",
      "                                  'behavioral_touch_face', 'doctor_recc_h1n1'...\n",
      "                                  'opinion_h1n1_vacc_effective',\n",
      "                                  'opinion_h1n1_risk',\n",
      "                                  'opinion_h1n1_sick_from_vacc',\n",
      "                                  'opinion_seas_vacc_effective',\n",
      "                                  'opinion_seas_risk',\n",
      "                                  'opinion_seas_sick_from_vacc',\n",
      "                                  'household_adults', 'household_children']),\n",
      "                                ('cat', OneHotEncoder(handle_unknown='ignore'),\n",
      "                                 ['age_group', 'education', 'race', 'sex',\n",
      "                                  'income_poverty', 'marital_status',\n",
      "                                  'rent_or_own', 'employment_status',\n",
      "                                  'census_msa'])]), 'fit_regressor': GradientBoostingClassifier(max_depth=5, min_samples_leaf=5)}}\n",
      "Training Precision:  0.8092931072451002\n",
      "Testing Precision:  0.7825210084033614\n",
      "-----\n",
      "Training Recall:  0.7883728413600772\n",
      "Testing Recall:  0.7480719794344473\n",
      "-----\n",
      "Training Accuracy:  0.8150274588117823\n",
      "Testing Accuracy:  0.7856821926014678\n",
      "-----\n",
      "Training F1-Score:  0.7986960065199674\n",
      "Testing F1-Score:  0.7649088220798423\n"
     ]
    },
    {
     "data": {
      "text/plain": [
       "<sklearn.metrics._plot.confusion_matrix.ConfusionMatrixDisplay at 0x1a795d88f70>"
      ]
     },
     "execution_count": 26,
     "metadata": {},
     "output_type": "execute_result"
    },
    {
     "data": {
      "image/png": "[encoded data removed]",
      "text/plain": [
       "<Figure size 432x288 with 2 Axes>"
      ]
     },
     "metadata": {
      "needs_background": "light"
     },
     "output_type": "display_data"
    }
   ],
   "source": [
    "model_gbc_tuned = {'Gradient_Boosting':\n",
    "              {'regressor': GradientBoostingClassifier(min_samples_leaf=5, max_depth=5),\n",
    "               'preprocessor': preprocessor}}\n",
    " \n",
    "print(list(model_gbc_tuned.keys())[0])\n",
    "X_train_processed = model_gbc_tuned['Gradient_Boosting']['preprocessor'].fit_transform(X_train)\n",
    "X_test_processed = model_gbc_tuned['Gradient_Boosting']['preprocessor'].transform(X_test)\n",
    "model_gbc_tuned['Gradient_Boosting']['fit_regressor'] = model_gbc_tuned['Gradient_Boosting']['regressor'].fit(X_train_processed, y_train.seasonal_vaccine)\n",
    "# model['output'] = model['fit_regressor'].score(X_test_processed, y_test.seasonal_vaccine)\n",
    "print(model_gbc_tuned)\n",
    "precision_dict_tuned['Gradient_Boosting'], accuracy_dict_tuned['Gradient_Boosting'] = model_predictions(model_gbc_tuned['Gradient_Boosting']['fit_regressor'], X_train_processed, y_train.seasonal_vaccine, X_test_processed, y_test.seasonal_vaccine)\n",
    "\n",
    "y_hat_test_gbc = model_gbc_tuned['Gradient_Boosting']['fit_regressor'].predict(X_test_processed)\n",
    "cm_gbc = confusion_matrix(y_test.seasonal_vaccine, y_hat_test_gbc)\n",
    "ConfusionMatrixDisplay(cm_gbc, display_labels=['No', 'Yes']).plot()"
   ]
  },
  {
   "cell_type": "markdown",
   "id": "f30afa2a-dde9-4fc1-bb7b-c4020a7ca37b",
   "metadata": {},
   "source": [
    "### Tuning Gradient Boost #2"
   ]
  },
  {
   "cell_type": "code",
   "execution_count": null,
   "id": "b3b7acb1-9392-4f67-9386-45f575146feb",
   "metadata": {},
   "outputs": [],
   "source": [
    "# Grid_search for Gradient Boosting #2\n",
    "pipeline_gbc = Pipeline([( \"preprocessor\" , preprocessor),\n",
    "                       (\"gbc\",GradientBoostingClassifier(n_estimators=500, learning_rate=0.1))])\n",
    "\n",
    "parameters_gbc = {}\n",
    "parameters_gbc['gbc__min_samples_leaf'] = [1, 5, 10]\n",
    "parameters_gbc['gbc__max_depth'] = [3, 5, 10, 15, 20]\n",
    "\n",
    "gs_gbc=GridSearchCV(pipeline_gbc,parameters_gbc)\n",
    "\n",
    "gs_gbc.fit(X_train,y_train.seasonal_vaccine)\n",
    "\n",
    "gs_gbc.best_params_"
   ]
  },
  {
   "cell_type": "code",
   "execution_count": 47,
   "id": "553c1792-9e0b-4294-99fc-bab87c650433",
   "metadata": {},
   "outputs": [
    {
     "name": "stdout",
     "output_type": "stream",
     "text": [
      "Gradient_Boosting\n",
      "{'Gradient_Boosting': {'regressor': GradientBoostingClassifier(learning_rate=0.01, max_depth=5, min_samples_leaf=5,\n",
      "                           n_estimators=500), 'preprocessor': ColumnTransformer(transformers=[('num',\n",
      "                                 Pipeline(steps=[('imputer',\n",
      "                                                  SimpleImputer(add_indicator=True,\n",
      "                                                                strategy='median'))]),\n",
      "                                 ['h1n1_concern', 'h1n1_knowledge',\n",
      "                                  'behavioral_antiviral_meds',\n",
      "                                  'behavioral_avoidance',\n",
      "                                  'behavioral_face_mask',\n",
      "                                  'behavioral_wash_hands',\n",
      "                                  'behavioral_large_gatherings',\n",
      "                                  'behavioral_outside_home',\n",
      "                                  'behavioral_touch_face', 'doctor_recc_h1n1'...\n",
      "                                  'opinion_h1n1_vacc_effective',\n",
      "                                  'opinion_h1n1_risk',\n",
      "                                  'opinion_h1n1_sick_from_vacc',\n",
      "                                  'opinion_seas_vacc_effective',\n",
      "                                  'opinion_seas_risk',\n",
      "                                  'opinion_seas_sick_from_vacc',\n",
      "                                  'household_adults', 'household_children']),\n",
      "                                ('cat', OneHotEncoder(handle_unknown='ignore'),\n",
      "                                 ['age_group', 'education', 'race', 'sex',\n",
      "                                  'income_poverty', 'marital_status',\n",
      "                                  'rent_or_own', 'employment_status',\n",
      "                                  'census_msa'])]), 'fit_regressor': GradientBoostingClassifier(learning_rate=0.01, max_depth=5, min_samples_leaf=5,\n",
      "                           n_estimators=500)}}\n",
      "Training Precision:  0.7965463803409343\n",
      "Testing Precision:  0.7834738617200675\n",
      "-----\n",
      "Training Recall:  0.7718545532553899\n",
      "Testing Recall:  0.74646529562982\n",
      "-----\n",
      "Training Accuracy:  0.8020469296055917\n",
      "Testing Accuracy:  0.7856821926014678\n",
      "-----\n",
      "Training F1-Score:  0.7840061012147954\n",
      "Testing F1-Score:  0.7645219680763534\n"
     ]
    },
    {
     "data": {
      "text/plain": [
       "<sklearn.metrics._plot.confusion_matrix.ConfusionMatrixDisplay at 0x1a7974e02b0>"
      ]
     },
     "execution_count": 47,
     "metadata": {},
     "output_type": "execute_result"
    },
    {
     "data": {
      "image/png": "[encoded data removed]",
      "text/plain": [
       "<Figure size 432x288 with 2 Axes>"
      ]
     },
     "metadata": {
      "needs_background": "light"
     },
     "output_type": "display_data"
    }
   ],
   "source": [
    "model_gbc_tuned = {'Gradient_Boosting':\n",
    "              {'regressor': GradientBoostingClassifier(min_samples_leaf=5, max_depth=5, n_estimators=500, learning_rate=0.01),\n",
    "               'preprocessor': preprocessor}}\n",
    " \n",
    "print(list(model_gbc_tuned.keys())[0])\n",
    "X_train_processed = model_gbc_tuned['Gradient_Boosting']['preprocessor'].fit_transform(X_train)\n",
    "X_test_processed = model_gbc_tuned['Gradient_Boosting']['preprocessor'].transform(X_test)\n",
    "model_gbc_tuned['Gradient_Boosting']['fit_regressor'] = model_gbc_tuned['Gradient_Boosting']['regressor'].fit(X_train_processed, y_train.seasonal_vaccine)\n",
    "# model['output'] = model['fit_regressor'].score(X_test_processed, y_test.seasonal_vaccine)\n",
    "print(model_gbc_tuned)\n",
    "precision_dict_tuned['Gradient_Boosting'], accuracy_dict_tuned['Gradient_Boosting'] = model_predictions(model_gbc_tuned['Gradient_Boosting']['fit_regressor'], X_train_processed, y_train.seasonal_vaccine, X_test_processed, y_test.seasonal_vaccine)\n",
    "\n",
    "y_hat_test_gbc = model_gbc_tuned['Gradient_Boosting']['fit_regressor'].predict(X_test_processed)\n",
    "cm_gbc = confusion_matrix(y_test.seasonal_vaccine, y_hat_test_gbc)\n",
    "ConfusionMatrixDisplay(cm_gbc, display_labels=['No', 'Yes']).plot()"
   ]
  },
  {
   "cell_type": "code",
   "execution_count": 49,
   "id": "c893fe03-483f-4095-aa9a-071cb6206af1",
   "metadata": {},
   "outputs": [
    {
     "name": "stdout",
     "output_type": "stream",
     "text": [
      "Gradient_Boosting\n",
      "{'Gradient_Boosting': {'regressor': GradientBoostingClassifier(learning_rate=0.001, max_depth=6, min_samples_leaf=5), 'preprocessor': ColumnTransformer(transformers=[('num',\n",
      "                                 Pipeline(steps=[('imputer',\n",
      "                                                  SimpleImputer(add_indicator=True,\n",
      "                                                                strategy='median'))]),\n",
      "                                 ['h1n1_concern', 'h1n1_knowledge',\n",
      "                                  'behavioral_antiviral_meds',\n",
      "                                  'behavioral_avoidance',\n",
      "                                  'behavioral_face_mask',\n",
      "                                  'behavioral_wash_hands',\n",
      "                                  'behavioral_large_gatherings',\n",
      "                                  'behavioral_outside_home',\n",
      "                                  'behavioral_touch_face', 'doctor_recc_h1n1'...\n",
      "                                  'opinion_h1n1_vacc_effective',\n",
      "                                  'opinion_h1n1_risk',\n",
      "                                  'opinion_h1n1_sick_from_vacc',\n",
      "                                  'opinion_seas_vacc_effective',\n",
      "                                  'opinion_seas_risk',\n",
      "                                  'opinion_seas_sick_from_vacc',\n",
      "                                  'household_adults', 'household_children']),\n",
      "                                ('cat', OneHotEncoder(handle_unknown='ignore'),\n",
      "                                 ['age_group', 'education', 'race', 'sex',\n",
      "                                  'income_poverty', 'marital_status',\n",
      "                                  'rent_or_own', 'employment_status',\n",
      "                                  'census_msa'])]), 'fit_regressor': GradientBoostingClassifier(learning_rate=0.001, max_depth=6, min_samples_leaf=5)}}\n",
      "Training Precision:  0.9249633967789166\n",
      "Testing Precision:  0.9101861993428259\n",
      "-----\n",
      "Training Recall:  0.2710500911723694\n",
      "Testing Recall:  0.26703084832904883\n",
      "-----\n",
      "Training Accuracy:  0.6504742885671493\n",
      "Testing Accuracy:  0.6460985472517597\n",
      "-----\n",
      "Training F1-Score:  0.4192451265035255\n",
      "Testing F1-Score:  0.41291925465838514\n"
     ]
    },
    {
     "data": {
      "text/plain": [
       "<sklearn.metrics._plot.confusion_matrix.ConfusionMatrixDisplay at 0x1a7975621f0>"
      ]
     },
     "execution_count": 49,
     "metadata": {},
     "output_type": "execute_result"
    },
    {
     "data": {
      "image/png": "[encoded data removed]",
      "text/plain": [
       "<Figure size 432x288 with 2 Axes>"
      ]
     },
     "metadata": {
      "needs_background": "light"
     },
     "output_type": "display_data"
    }
   ],
   "source": [
    "model_gbc_tuned = {'Gradient_Boosting':\n",
    "              {'regressor': GradientBoostingClassifier(min_samples_leaf=5, max_depth=6, n_estimators=100, learning_rate=0.001),\n",
    "               'preprocessor': preprocessor}}\n",
    " \n",
    "print(list(model_gbc_tuned.keys())[0])\n",
    "X_train_processed = model_gbc_tuned['Gradient_Boosting']['preprocessor'].fit_transform(X_train)\n",
    "X_test_processed = model_gbc_tuned['Gradient_Boosting']['preprocessor'].transform(X_test)\n",
    "model_gbc_tuned['Gradient_Boosting']['fit_regressor'] = model_gbc_tuned['Gradient_Boosting']['regressor'].fit(X_train_processed, y_train.seasonal_vaccine)\n",
    "# model['output'] = model['fit_regressor'].score(X_test_processed, y_test.seasonal_vaccine)\n",
    "print(model_gbc_tuned)\n",
    "precision_dict_tuned['Gradient_Boosting'], accuracy_dict_tuned['Gradient_Boosting'] = model_predictions(model_gbc_tuned['Gradient_Boosting']['fit_regressor'], X_train_processed, y_train.seasonal_vaccine, X_test_processed, y_test.seasonal_vaccine)\n",
    "\n",
    "y_hat_test_gbc = model_gbc_tuned['Gradient_Boosting']['fit_regressor'].predict(X_test_processed)\n",
    "cm_gbc = confusion_matrix(y_test.seasonal_vaccine, y_hat_test_gbc)\n",
    "ConfusionMatrixDisplay(cm_gbc, display_labels=['No', 'Yes']).plot()"
   ]
  },
  {
   "cell_type": "code",
   "execution_count": 57,
   "id": "f14182fc-d04a-40b6-93c8-a90fd5547bdc",
   "metadata": {},
   "outputs": [
    {
     "name": "stdout",
     "output_type": "stream",
     "text": [
      "Gradient_Boosting\n",
      "{'Gradient_Boosting': {'regressor': GradientBoostingClassifier(learning_rate=0.001, max_depth=5, min_samples_leaf=5,\n",
      "                           n_estimators=500), 'preprocessor': ColumnTransformer(transformers=[('num',\n",
      "                                 Pipeline(steps=[('imputer',\n",
      "                                                  SimpleImputer(add_indicator=True,\n",
      "                                                                strategy='median'))]),\n",
      "                                 ['h1n1_concern', 'h1n1_knowledge',\n",
      "                                  'behavioral_antiviral_meds',\n",
      "                                  'behavioral_avoidance',\n",
      "                                  'behavioral_face_mask',\n",
      "                                  'behavioral_wash_hands',\n",
      "                                  'behavioral_large_gatherings',\n",
      "                                  'behavioral_outside_home',\n",
      "                                  'behavioral_touch_face', 'doctor_recc_h1n1'...\n",
      "                                  'opinion_h1n1_vacc_effective',\n",
      "                                  'opinion_h1n1_risk',\n",
      "                                  'opinion_h1n1_sick_from_vacc',\n",
      "                                  'opinion_seas_vacc_effective',\n",
      "                                  'opinion_seas_risk',\n",
      "                                  'opinion_seas_sick_from_vacc',\n",
      "                                  'household_adults', 'household_children']),\n",
      "                                ('cat', OneHotEncoder(handle_unknown='ignore'),\n",
      "                                 ['age_group', 'education', 'race', 'sex',\n",
      "                                  'income_poverty', 'marital_status',\n",
      "                                  'rent_or_own', 'employment_status',\n",
      "                                  'census_msa'])]), 'fit_regressor': GradientBoostingClassifier(learning_rate=0.001, max_depth=5, min_samples_leaf=5,\n",
      "                           n_estimators=500)}}\n",
      "Training Precision:  0.7988196721311476\n",
      "Testing Precision:  0.7945368171021377\n",
      "-----\n",
      "Training Recall:  0.6533304730237048\n",
      "Testing Recall:  0.6449228791773779\n",
      "-----\n",
      "Training Accuracy:  0.7620569146280579\n",
      "Testing Accuracy:  0.7567769956567321\n",
      "-----\n",
      "Training F1-Score:  0.7187868775076705\n",
      "Testing F1-Score:  0.7119545938275984\n"
     ]
    },
    {
     "data": {
      "text/plain": [
       "<sklearn.metrics._plot.confusion_matrix.ConfusionMatrixDisplay at 0x1a79764d7f0>"
      ]
     },
     "execution_count": 57,
     "metadata": {},
     "output_type": "execute_result"
    },
    {
     "data": {
      "image/png": "[encoded data removed]",
      "text/plain": [
       "<Figure size 432x288 with 2 Axes>"
      ]
     },
     "metadata": {
      "needs_background": "light"
     },
     "output_type": "display_data"
    }
   ],
   "source": [
    "model_gbc_tuned = {'Gradient_Boosting':\n",
    "              {'regressor': GradientBoostingClassifier(min_samples_leaf=5, max_depth=5, n_estimators=500, learning_rate=0.001),\n",
    "               'preprocessor': preprocessor}}\n",
    " \n",
    "print(list(model_gbc_tuned.keys())[0])\n",
    "X_train_processed = model_gbc_tuned['Gradient_Boosting']['preprocessor'].fit_transform(X_train)\n",
    "X_test_processed = model_gbc_tuned['Gradient_Boosting']['preprocessor'].transform(X_test)\n",
    "model_gbc_tuned['Gradient_Boosting']['fit_regressor'] = model_gbc_tuned['Gradient_Boosting']['regressor'].fit(X_train_processed, y_train.seasonal_vaccine)\n",
    "# model['output'] = model['fit_regressor'].score(X_test_processed, y_test.seasonal_vaccine)\n",
    "print(model_gbc_tuned)\n",
    "precision_dict_tuned['Gradient_Boosting'], accuracy_dict_tuned['Gradient_Boosting'] = model_predictions(model_gbc_tuned['Gradient_Boosting']['fit_regressor'], X_train_processed, y_train.seasonal_vaccine, X_test_processed, y_test.seasonal_vaccine)\n",
    "\n",
    "y_hat_test_gbc = model_gbc_tuned['Gradient_Boosting']['fit_regressor'].predict(X_test_processed)\n",
    "cm_gbc = confusion_matrix(y_test.seasonal_vaccine, y_hat_test_gbc)\n",
    "ConfusionMatrixDisplay(cm_gbc, display_labels=['No', 'Yes']).plot()"
   ]
  },
  {
   "cell_type": "code",
   "execution_count": 52,
   "id": "9bb2e3f6-ff66-4db1-acdd-22b951d04749",
   "metadata": {},
   "outputs": [
    {
     "name": "stdout",
     "output_type": "stream",
     "text": [
      "Gradient_Boosting\n",
      "{'Gradient_Boosting': {'regressor': GradientBoostingClassifier(learning_rate=0.0005, max_depth=6,\n",
      "                           min_samples_leaf=5, n_estimators=500), 'preprocessor': ColumnTransformer(transformers=[('num',\n",
      "                                 Pipeline(steps=[('imputer',\n",
      "                                                  SimpleImputer(add_indicator=True,\n",
      "                                                                strategy='median'))]),\n",
      "                                 ['h1n1_concern', 'h1n1_knowledge',\n",
      "                                  'behavioral_antiviral_meds',\n",
      "                                  'behavioral_avoidance',\n",
      "                                  'behavioral_face_mask',\n",
      "                                  'behavioral_wash_hands',\n",
      "                                  'behavioral_large_gatherings',\n",
      "                                  'behavioral_outside_home',\n",
      "                                  'behavioral_touch_face', 'doctor_recc_h1n1'...\n",
      "                                  'opinion_h1n1_vacc_effective',\n",
      "                                  'opinion_h1n1_risk',\n",
      "                                  'opinion_h1n1_sick_from_vacc',\n",
      "                                  'opinion_seas_vacc_effective',\n",
      "                                  'opinion_seas_risk',\n",
      "                                  'opinion_seas_sick_from_vacc',\n",
      "                                  'household_adults', 'household_children']),\n",
      "                                ('cat', OneHotEncoder(handle_unknown='ignore'),\n",
      "                                 ['age_group', 'education', 'race', 'sex',\n",
      "                                  'income_poverty', 'marital_status',\n",
      "                                  'rent_or_own', 'employment_status',\n",
      "                                  'census_msa'])]), 'fit_regressor': GradientBoostingClassifier(learning_rate=0.0005, max_depth=6,\n",
      "                           min_samples_leaf=5, n_estimators=500)}}\n",
      "Training Precision:  0.8143170597915523\n",
      "Testing Precision:  0.8052434456928839\n",
      "-----\n",
      "Training Recall:  0.6369194465300869\n",
      "Testing Recall:  0.6217866323907455\n",
      "-----\n",
      "Training Accuracy:  0.7634048926610085\n",
      "Testing Accuracy:  0.7536318706005691\n",
      "-----\n",
      "Training F1-Score:  0.714775804995486\n",
      "Testing F1-Score:  0.701722574796011\n"
     ]
    },
    {
     "data": {
      "text/plain": [
       "<sklearn.metrics._plot.confusion_matrix.ConfusionMatrixDisplay at 0x1a7975ecc10>"
      ]
     },
     "execution_count": 52,
     "metadata": {},
     "output_type": "execute_result"
    },
    {
     "data": {
      "image/png": "[encoded data removed]",
      "text/plain": [
       "<Figure size 432x288 with 2 Axes>"
      ]
     },
     "metadata": {
      "needs_background": "light"
     },
     "output_type": "display_data"
    }
   ],
   "source": [
    "model_gbc_tuned = {'Gradient_Boosting':\n",
    "              {'regressor': GradientBoostingClassifier(min_samples_leaf=5, max_depth=6, n_estimators=500, learning_rate=0.0005),\n",
    "               'preprocessor': preprocessor}}\n",
    " \n",
    "print(list(model_gbc_tuned.keys())[0])\n",
    "X_train_processed = model_gbc_tuned['Gradient_Boosting']['preprocessor'].fit_transform(X_train)\n",
    "X_test_processed = model_gbc_tuned['Gradient_Boosting']['preprocessor'].transform(X_test)\n",
    "model_gbc_tuned['Gradient_Boosting']['fit_regressor'] = model_gbc_tuned['Gradient_Boosting']['regressor'].fit(X_train_processed, y_train.seasonal_vaccine)\n",
    "# model['output'] = model['fit_regressor'].score(X_test_processed, y_test.seasonal_vaccine)\n",
    "print(model_gbc_tuned)\n",
    "precision_dict_tuned['Gradient_Boosting'], accuracy_dict_tuned['Gradient_Boosting'] = model_predictions(model_gbc_tuned['Gradient_Boosting']['fit_regressor'], X_train_processed, y_train.seasonal_vaccine, X_test_processed, y_test.seasonal_vaccine)\n",
    "\n",
    "y_hat_test_gbc = model_gbc_tuned['Gradient_Boosting']['fit_regressor'].predict(X_test_processed)\n",
    "cm_gbc = confusion_matrix(y_test.seasonal_vaccine, y_hat_test_gbc)\n",
    "ConfusionMatrixDisplay(cm_gbc, display_labels=['No', 'Yes']).plot()"
   ]
  },
  {
   "cell_type": "code",
   "execution_count": 50,
   "id": "a23202d4-7191-441c-b3e1-788caf877e9e",
   "metadata": {},
   "outputs": [
    {
     "name": "stdout",
     "output_type": "stream",
     "text": [
      "Gradient_Boosting\n",
      "{'Gradient_Boosting': {'regressor': GradientBoostingClassifier(learning_rate=0.001, max_depth=7, min_samples_leaf=5,\n",
      "                           n_estimators=500), 'preprocessor': ColumnTransformer(transformers=[('num',\n",
      "                                 Pipeline(steps=[('imputer',\n",
      "                                                  SimpleImputer(add_indicator=True,\n",
      "                                                                strategy='median'))]),\n",
      "                                 ['h1n1_concern', 'h1n1_knowledge',\n",
      "                                  'behavioral_antiviral_meds',\n",
      "                                  'behavioral_avoidance',\n",
      "                                  'behavioral_face_mask',\n",
      "                                  'behavioral_wash_hands',\n",
      "                                  'behavioral_large_gatherings',\n",
      "                                  'behavioral_outside_home',\n",
      "                                  'behavioral_touch_face', 'doctor_recc_h1n1'...\n",
      "                                  'opinion_h1n1_vacc_effective',\n",
      "                                  'opinion_h1n1_risk',\n",
      "                                  'opinion_h1n1_sick_from_vacc',\n",
      "                                  'opinion_seas_vacc_effective',\n",
      "                                  'opinion_seas_risk',\n",
      "                                  'opinion_seas_sick_from_vacc',\n",
      "                                  'household_adults', 'household_children']),\n",
      "                                ('cat', OneHotEncoder(handle_unknown='ignore'),\n",
      "                                 ['age_group', 'education', 'race', 'sex',\n",
      "                                  'income_poverty', 'marital_status',\n",
      "                                  'rent_or_own', 'employment_status',\n",
      "                                  'census_msa'])]), 'fit_regressor': GradientBoostingClassifier(learning_rate=0.001, max_depth=7, min_samples_leaf=5,\n",
      "                           n_estimators=500)}}\n",
      "Training Precision:  0.8139769998736257\n",
      "Testing Precision:  0.7938814531548757\n",
      "-----\n",
      "Training Recall:  0.6908720368979943\n",
      "Testing Recall:  0.6670951156812339\n",
      "-----\n",
      "Training Accuracy:  0.7826260609086371\n",
      "Testing Accuracy:  0.764115620787779\n",
      "-----\n",
      "Training F1-Score:  0.7473891854258528\n",
      "Testing F1-Score:  0.7249869041382924\n"
     ]
    },
    {
     "data": {
      "text/plain": [
       "<sklearn.metrics._plot.confusion_matrix.ConfusionMatrixDisplay at 0x1a79764d2e0>"
      ]
     },
     "execution_count": 50,
     "metadata": {},
     "output_type": "execute_result"
    },
    {
     "data": {
      "image/png": "[encoded data removed]",
      "text/plain": [
       "<Figure size 432x288 with 2 Axes>"
      ]
     },
     "metadata": {
      "needs_background": "light"
     },
     "output_type": "display_data"
    }
   ],
   "source": [
    "model_gbc_tuned = {'Gradient_Boosting':\n",
    "              {'regressor': GradientBoostingClassifier(min_samples_leaf=5, max_depth=7, n_estimators=500, learning_rate=0.001),\n",
    "               'preprocessor': preprocessor}}\n",
    " \n",
    "print(list(model_gbc_tuned.keys())[0])\n",
    "X_train_processed = model_gbc_tuned['Gradient_Boosting']['preprocessor'].fit_transform(X_train)\n",
    "X_test_processed = model_gbc_tuned['Gradient_Boosting']['preprocessor'].transform(X_test)\n",
    "model_gbc_tuned['Gradient_Boosting']['fit_regressor'] = model_gbc_tuned['Gradient_Boosting']['regressor'].fit(X_train_processed, y_train.seasonal_vaccine)\n",
    "# model['output'] = model['fit_regressor'].score(X_test_processed, y_test.seasonal_vaccine)\n",
    "print(model_gbc_tuned)\n",
    "precision_dict_tuned['Gradient_Boosting'], accuracy_dict_tuned['Gradient_Boosting'] = model_predictions(model_gbc_tuned['Gradient_Boosting']['fit_regressor'], X_train_processed, y_train.seasonal_vaccine, X_test_processed, y_test.seasonal_vaccine)\n",
    "\n",
    "y_hat_test_gbc = model_gbc_tuned['Gradient_Boosting']['fit_regressor'].predict(X_test_processed)\n",
    "cm_gbc = confusion_matrix(y_test.seasonal_vaccine, y_hat_test_gbc)\n",
    "ConfusionMatrixDisplay(cm_gbc, display_labels=['No', 'Yes']).plot()"
   ]
  },
  {
   "cell_type": "markdown",
   "id": "bb1e0ecd-bf0a-4b36-83db-ae568e4a053e",
   "metadata": {},
   "source": [
    "## Tuning Hist Boost"
   ]
  },
  {
   "cell_type": "code",
   "execution_count": 101,
   "id": "201bd369-d39e-4f9b-956b-05a2c006c39b",
   "metadata": {},
   "outputs": [
    {
     "data": {
      "text/plain": [
       "{'hbc__max_depth': 5, 'hbc__min_samples_leaf': 5}"
      ]
     },
     "execution_count": 101,
     "metadata": {},
     "output_type": "execute_result"
    }
   ],
   "source": [
    "# Grid_search for Hist Boost\n",
    "pipeline_hbc = Pipeline([( \"preprocessor\" , preprocessor),\n",
    "                       (\"hbc\",HistGradientBoostingClassifier(learning_rate=0.1, max_iter=100,))])\n",
    "\n",
    "parameters_hbc = {}\n",
    "parameters_hbc['hbc__min_samples_leaf'] = [5, 10]\n",
    "parameters_hbc['hbc__max_depth'] = [5, 10, 15]\n",
    "\n",
    "gs_hbc=GridSearchCV(pipeline_hbc,parameters_hbc)\n",
    "\n",
    "gs_hbc.fit(X_train,y_train.seasonal_vaccine)\n",
    "\n",
    "gs_hbc.best_params_"
   ]
  },
  {
   "cell_type": "code",
   "execution_count": 28,
   "id": "17f6c6e2-e786-4f61-8069-f92f4c7d858e",
   "metadata": {},
   "outputs": [
    {
     "name": "stdout",
     "output_type": "stream",
     "text": [
      "Hist_Boosting\n",
      "{'Hist_Boosting': {'regressor': HistGradientBoostingClassifier(max_depth=10, min_samples_leaf=10), 'preprocessor': ColumnTransformer(transformers=[('num',\n",
      "                                 Pipeline(steps=[('imputer',\n",
      "                                                  SimpleImputer(add_indicator=True,\n",
      "                                                                strategy='median'))]),\n",
      "                                 ['h1n1_concern', 'h1n1_knowledge',\n",
      "                                  'behavioral_antiviral_meds',\n",
      "                                  'behavioral_avoidance',\n",
      "                                  'behavioral_face_mask',\n",
      "                                  'behavioral_wash_hands',\n",
      "                                  'behavioral_large_gatherings',\n",
      "                                  'behavioral_outside_home',\n",
      "                                  'behavioral_touch_face', 'doctor_recc_h1n1'...\n",
      "                                  'opinion_h1n1_vacc_effective',\n",
      "                                  'opinion_h1n1_risk',\n",
      "                                  'opinion_h1n1_sick_from_vacc',\n",
      "                                  'opinion_seas_vacc_effective',\n",
      "                                  'opinion_seas_risk',\n",
      "                                  'opinion_seas_sick_from_vacc',\n",
      "                                  'household_adults', 'household_children']),\n",
      "                                ('cat', OneHotEncoder(handle_unknown='ignore'),\n",
      "                                 ['age_group', 'education', 'race', 'sex',\n",
      "                                  'income_poverty', 'marital_status',\n",
      "                                  'rent_or_own', 'employment_status',\n",
      "                                  'census_msa'])]), 'fit_regressor': HistGradientBoostingClassifier(max_depth=10, min_samples_leaf=10)}}\n",
      "Training Precision:  0.8141554016924937\n",
      "Testing Precision:  0.7825793382849426\n",
      "-----\n",
      "Training Recall:  0.7945940148021023\n",
      "Testing Recall:  0.7448586118251928\n",
      "-----\n",
      "Training Accuracy:  0.8199700449326011\n",
      "Testing Accuracy:  0.7846338175827468\n",
      "-----\n",
      "Training F1-Score:  0.8042557811312561\n",
      "Testing F1-Score:  0.7632532104050049\n"
     ]
    }
   ],
   "source": [
    "model_hbc_tuned = {'Hist_Boosting':\n",
    "              {'regressor': HistGradientBoostingClassifier(max_depth=10, min_samples_leaf=10),\n",
    "               'preprocessor': preprocessor}}\n",
    " \n",
    "print(list(model_hbc_tuned.keys())[0])\n",
    "X_train_processed = model_hbc_tuned['Hist_Boosting']['preprocessor'].fit_transform(X_train)\n",
    "X_test_processed = model_hbc_tuned['Hist_Boosting']['preprocessor'].transform(X_test)\n",
    "model_hbc_tuned['Hist_Boosting']['fit_regressor'] = model_hbc_tuned['Hist_Boosting']['regressor'].fit(X_train_processed, y_train.seasonal_vaccine)\n",
    "# model['output'] = model['fit_regressor'].score(X_test_processed, y_test.seasonal_vaccine)\n",
    "print(model_hbc_tuned)\n",
    "precision_dict_tuned['Hist_Boosting'], accuracy_dict_tuned['Hist_Boosting'] = model_predictions(model_hbc_tuned['Hist_Boosting']['fit_regressor'], X_train_processed, y_train.seasonal_vaccine, X_test_processed, y_test.seasonal_vaccine)\n"
   ]
  },
  {
   "cell_type": "code",
   "execution_count": 81,
   "id": "4cda42a9-98fc-4a87-afb0-2d261c0bddef",
   "metadata": {},
   "outputs": [
    {
     "name": "stdout",
     "output_type": "stream",
     "text": [
      "Hist_Boosting\n",
      "{'Hist_Boosting': {'regressor': HistGradientBoostingClassifier(max_depth=9, min_samples_leaf=10), 'preprocessor': ColumnTransformer(transformers=[('num',\n",
      "                                 Pipeline(steps=[('imputer',\n",
      "                                                  SimpleImputer(add_indicator=True,\n",
      "                                                                strategy='median'))]),\n",
      "                                 ['h1n1_concern', 'h1n1_knowledge',\n",
      "                                  'behavioral_antiviral_meds',\n",
      "                                  'behavioral_avoidance',\n",
      "                                  'behavioral_face_mask',\n",
      "                                  'behavioral_wash_hands',\n",
      "                                  'behavioral_large_gatherings',\n",
      "                                  'behavioral_outside_home',\n",
      "                                  'behavioral_touch_face', 'doctor_recc_h1n1'...\n",
      "                                  'opinion_h1n1_vacc_effective',\n",
      "                                  'opinion_h1n1_risk',\n",
      "                                  'opinion_h1n1_sick_from_vacc',\n",
      "                                  'opinion_seas_vacc_effective',\n",
      "                                  'opinion_seas_risk',\n",
      "                                  'opinion_seas_sick_from_vacc',\n",
      "                                  'household_adults', 'household_children']),\n",
      "                                ('cat', OneHotEncoder(handle_unknown='ignore'),\n",
      "                                 ['age_group', 'education', 'race', 'sex',\n",
      "                                  'income_poverty', 'marital_status',\n",
      "                                  'rent_or_own', 'employment_status',\n",
      "                                  'census_msa'])]), 'fit_regressor': HistGradientBoostingClassifier(max_depth=9, min_samples_leaf=10)}}\n",
      "Training Precision:  0.8087233575038453\n",
      "Testing Precision:  0.7826961770623743\n",
      "-----\n",
      "Training Recall:  0.7895527190818407\n",
      "Testing Recall:  0.75\n",
      "-----\n",
      "Training Accuracy:  0.8151273090364454\n",
      "Testing Accuracy:  0.7864310319005542\n",
      "-----\n",
      "Training F1-Score:  0.7990230664857529\n",
      "Testing F1-Score:  0.7659993436166722\n"
     ]
    },
    {
     "data": {
      "text/plain": [
       "<sklearn.metrics._plot.confusion_matrix.ConfusionMatrixDisplay at 0x1a797c806d0>"
      ]
     },
     "execution_count": 81,
     "metadata": {},
     "output_type": "execute_result"
    },
    {
     "data": {
      "image/png": "[encoded data removed]",
      "text/plain": [
       "<Figure size 432x288 with 2 Axes>"
      ]
     },
     "metadata": {
      "needs_background": "light"
     },
     "output_type": "display_data"
    }
   ],
   "source": [
    "model_hbc_tuned = {'Hist_Boosting':\n",
    "              {'regressor': HistGradientBoostingClassifier(max_depth=9, min_samples_leaf=10, learning_rate=0.1),\n",
    "               'preprocessor': preprocessor}}\n",
    " \n",
    "print(list(model_hbc_tuned.keys())[0])\n",
    "X_train_processed = model_hbc_tuned['Hist_Boosting']['preprocessor'].fit_transform(X_train)\n",
    "X_test_processed = model_hbc_tuned['Hist_Boosting']['preprocessor'].transform(X_test)\n",
    "model_hbc_tuned['Hist_Boosting']['fit_regressor'] = model_hbc_tuned['Hist_Boosting']['regressor'].fit(X_train_processed, y_train.seasonal_vaccine)\n",
    "# model['output'] = model['fit_regressor'].score(X_test_processed, y_test.seasonal_vaccine)\n",
    "print(model_hbc_tuned)\n",
    "precision_dict_tuned['Hist_Boosting'], accuracy_dict_tuned['Hist_Boosting'] = model_predictions(model_hbc_tuned['Hist_Boosting']['fit_regressor'], X_train_processed, y_train.seasonal_vaccine, X_test_processed, y_test.seasonal_vaccine)\n",
    "\n",
    "y_hat_test_hbc = model_hbc_tuned['Hist_Boosting']['fit_regressor'].predict(X_test_processed)\n",
    "cm_hbc = confusion_matrix(y_test.seasonal_vaccine, y_hat_test_hbc)\n",
    "ConfusionMatrixDisplay(cm_hbc, display_labels=['No', 'Yes']).plot()"
   ]
  },
  {
   "cell_type": "code",
   "execution_count": 85,
   "id": "ff87aee2-e7cc-42a7-ba87-8463c39ae6f0",
   "metadata": {},
   "outputs": [
    {
     "data": {
      "text/plain": [
       "{'Logistic': 0.7746526601152152,\n",
       " 'Naive_Bayes': 0.6257470119521913,\n",
       " 'Decision_Trees': 0.6606217616580311,\n",
       " 'KNN': 0.7037037037037037,\n",
       " 'Random_Forest': 0.7766101694915254,\n",
       " 'G_Boost': 0.7829744279946165,\n",
       " 'Hist_Boost': 0.7783283779319459,\n",
       " 'Baseline': 0.6783461807988788}"
      ]
     },
     "execution_count": 85,
     "metadata": {},
     "output_type": "execute_result"
    }
   ],
   "source": [
    "precision_dict"
   ]
  },
  {
   "cell_type": "code",
   "execution_count": 84,
   "id": "b0d85140-df86-45f2-9e12-746a9fe7bf93",
   "metadata": {},
   "outputs": [
    {
     "data": {
      "text/plain": [
       "{'Logistic': 0.7766961210124307,\n",
       " 'Naive_Bayes': 0.6851879586640707,\n",
       " 'Decision_Trees': 0.6824921371873596,\n",
       " 'KNN': 0.7184364235435076,\n",
       " 'Random_Forest': 0.7783435674704209,\n",
       " 'G_Boost': 0.785831960461285,\n",
       " 'Hist_Boost': 0.7862812640407368,\n",
       " 'Baseline': 0.6863861015426089}"
      ]
     },
     "execution_count": 84,
     "metadata": {},
     "output_type": "execute_result"
    }
   ],
   "source": [
    "accuracy_dict"
   ]
  },
  {
   "cell_type": "code",
   "execution_count": 83,
   "id": "55dddc3a-ee97-4ffc-a6cd-d12d1b98a7ed",
   "metadata": {},
   "outputs": [
    {
     "data": {
      "text/plain": [
       "{'Naive_Bayes': 0.6908442330558858,\n",
       " 'Random_Forest': 0.7852941176470588,\n",
       " 'Gradient_Boosting': 0.7945368171021377,\n",
       " 'Hist_Boosting': 0.7826961770623743}"
      ]
     },
     "execution_count": 83,
     "metadata": {},
     "output_type": "execute_result"
    }
   ],
   "source": [
    "precision_dict_tuned"
   ]
  },
  {
   "cell_type": "code",
   "execution_count": 82,
   "id": "0fa1c346-2fe8-4e6f-ad5d-c55714638db2",
   "metadata": {},
   "outputs": [
    {
     "data": {
      "text/plain": [
       "{'Naive_Bayes': 0.7262243522540063,\n",
       " 'Random_Forest': 0.7663621386850382,\n",
       " 'Gradient_Boosting': 0.7567769956567321,\n",
       " 'Hist_Boosting': 0.7864310319005542}"
      ]
     },
     "execution_count": 82,
     "metadata": {},
     "output_type": "execute_result"
    }
   ],
   "source": [
    "accuracy_dict_tuned"
   ]
  },
  {
   "cell_type": "code",
   "execution_count": null,
   "id": "87888d6b-ef86-4129-980b-e2ab3a5105de",
   "metadata": {},
   "outputs": [],
   "source": []
  },
  {
   "cell_type": "code",
   "execution_count": null,
   "id": "9b22015d-8f02-4c7c-9b4d-868de7ac56a5",
   "metadata": {},
   "outputs": [],
   "source": []
  },
  {
   "cell_type": "code",
   "execution_count": null,
   "id": "404dde20-5054-4e54-b4bb-179b65478141",
   "metadata": {},
   "outputs": [],
   "source": []
  },
  {
   "cell_type": "code",
   "execution_count": 89,
   "id": "125202f1-01bb-42e9-afa9-0f2f160ef298",
   "metadata": {},
   "outputs": [
    {
     "data": {
      "text/plain": [
       "[0.7746526601152152,\n",
       " 0.6257470119521913,\n",
       " 0.6606217616580311,\n",
       " 0.7037037037037037,\n",
       " 0.7766101694915254,\n",
       " 0.7829744279946165,\n",
       " 0.7783283779319459,\n",
       " 0.6783461807988788]"
      ]
     },
     "execution_count": 89,
     "metadata": {},
     "output_type": "execute_result"
    }
   ],
   "source": [
    "precision_v = [v for v in precision_dict.values()]\n",
    "precision_v"
   ]
  },
  {
   "cell_type": "code",
   "execution_count": 90,
   "id": "8afa77ef-8d10-4476-803c-82e6aa48ddb6",
   "metadata": {},
   "outputs": [
    {
     "data": {
      "text/plain": [
       "['Logistic',\n",
       " 'Naive_Bayes',\n",
       " 'Decision_Trees',\n",
       " 'KNN',\n",
       " 'Random_Forest',\n",
       " 'G_Boost',\n",
       " 'Hist_Boost',\n",
       " 'Baseline']"
      ]
     },
     "execution_count": 90,
     "metadata": {},
     "output_type": "execute_result"
    }
   ],
   "source": [
    "precision_k = [k for k in precision_dict.keys()]\n",
    "precision_k"
   ]
  },
  {
   "cell_type": "code",
   "execution_count": 123,
   "id": "f500fea7-0e37-48e3-a8ce-2280a7863392",
   "metadata": {},
   "outputs": [
    {
     "data": {
      "text/plain": [
       "[0.6908442330558858,\n",
       " 0.7852941176470588,\n",
       " 0.7945368171021377,\n",
       " 0.7826961770623743]"
      ]
     },
     "execution_count": 123,
     "metadata": {},
     "output_type": "execute_result"
    }
   ],
   "source": [
    "precision_v_tuned = [v for v in precision_dict_tuned.values()]\n",
    "precision_v_tuned"
   ]
  },
  {
   "cell_type": "code",
   "execution_count": 122,
   "id": "1686167e-41d8-455c-9144-ca1f71646bce",
   "metadata": {},
   "outputs": [
    {
     "data": {
      "text/plain": [
       "['Naive_Bayes', 'Random_Forest', 'Gradient_Boosting', 'Hist_Boosting']"
      ]
     },
     "execution_count": 122,
     "metadata": {},
     "output_type": "execute_result"
    }
   ],
   "source": [
    "precision_k_tuned = [k for k in precision_dict_tuned.keys()]\n",
    "precision_k_tuned"
   ]
  },
  {
   "cell_type": "code",
   "execution_count": 99,
   "id": "1331a497-fea3-4f47-b9ff-860cee9f1990",
   "metadata": {},
   "outputs": [
    {
     "data": {
      "image/png": "[encoded data removed]",
      "text/plain": [
       "<Figure size 1728x1080 with 1 Axes>"
      ]
     },
     "metadata": {
      "needs_background": "light"
     },
     "output_type": "display_data"
    }
   ],
   "source": [
    "precision = [precision_v[1], precision_v[2], precision_v[3], precision_v[4], precision_v[6], precision_v[5], precision_v_tuned[3], precision_v_tuned[1], precision_v_tuned[2]]\n",
    "names = [precision_k[1], precision_k[2], precision_k[3], precision_k[4]+'_1', precision_k[6], precision_k[5], precision_k_tuned[3], precision_k_tuned[1], precision_k_tuned[2]]\n",
    "\n",
    "fig, ax = plt.subplots(figsize=(24, 15))\n",
    "x_label = names\n",
    "ax = sns.barplot(x_label, precision, palette=\"Blues\")\n",
    "plt.xticks(rotation=25, size=30)\n",
    "plt.yticks(size=30)\n",
    "sns.despine()\n",
    "ax.set_title('Percentage Increase in Model Precision', fontsize=35)\n",
    "# plt.savefig('Skyler_graph', bbox_inches='tight');"
   ]
  },
  {
   "cell_type": "code",
   "execution_count": null,
   "id": "a6830c72-17a5-49e8-9e5a-aabb71f8823a",
   "metadata": {},
   "outputs": [],
   "source": []
  },
  {
   "cell_type": "code",
   "execution_count": 121,
   "id": "15076515-0944-4555-a12c-542afa2260b6",
   "metadata": {},
   "outputs": [
    {
     "data": {
      "image/png": "[encoded data removed]",
      "text/plain": [
       "<Figure size 1296x864 with 1 Axes>"
      ]
     },
     "metadata": {
      "needs_background": "light"
     },
     "output_type": "display_data"
    }
   ],
   "source": [
    "result = permutation_importance(\n",
    "    gs_hbc, X_test, y_test.seasonal_vaccine, n_repeats=10, random_state=RANDOM_SEED, n_jobs=2\n",
    ")\n",
    "sorted_idx = result.importances_mean.argsort()\n",
    "\n",
    "fig, ax = plt.subplots(figsize=(18, 12))\n",
    "ax.boxplot(\n",
    "    result.importances[sorted_idx].T, vert=False, labels=X_test.columns[sorted_idx], showfliers=False\n",
    ")\n",
    "\n",
    "ax.set_title(\"Permutation Importances\", fontsize=30)\n",
    "plt.xticks(size=15)\n",
    "plt.yticks(size=15)\n",
    "sns.despine()\n",
    "# ax.set_ylim(bottom=25.5, top=32.5)\n",
    "\n",
    "# plt.savefig('Permutation_Importances2', bbox_inches='tight');"
   ]
  },
  {
   "cell_type": "code",
   "execution_count": null,
   "id": "ba0c391a-ee73-4039-b5b0-0eba35585fe8",
   "metadata": {},
   "outputs": [],
   "source": []
  },
  {
   "cell_type": "code",
   "execution_count": null,
   "id": "2b601b3e-6f06-4427-a1cf-4c90dda30a3f",
   "metadata": {},
   "outputs": [],
   "source": []
  },
  {
   "cell_type": "code",
   "execution_count": null,
   "id": "3f342417-7257-45b9-9e81-5ec6e04c4d12",
   "metadata": {},
   "outputs": [],
   "source": [
    "model_x_tuned = {'Gradient_Boosting':\n",
    "              {'regressor': GradientBoostingClassifier(min_samples_leaf=5, max_depth=5, n_estimators=500, learning_rate=0.01),\n",
    "               'preprocessor': preprocessor}}\n",
    " \n",
    "print(list(model_gbc_tuned.keys())[0])\n",
    "X_train_processed = model_x_tuned['Gradient_Boosting']['preprocessor'].fit_transform(X_train)\n",
    "X_test_processed = model_x_tuned['Gradient_Boosting']['preprocessor'].transform(X_test)\n",
    "model_x_tuned['Gradient_Boosting']['fit_regressor'] = model_x_tuned['Gradient_Boosting']['regressor'].fit(X_train_processed, y_train.seasonal_vaccine)\n",
    "# model['output'] = model['fit_regressor'].score(X_test_processed, y_test.seasonal_vaccine)\n",
    "print(model_x_tuned)\n",
    "model_predictions(model_x_tuned['Gradient_Boosting']['fit_regressor'], X_train_processed, y_train.seasonal_vaccine, X_test_processed, y_test.seasonal_vaccine)\n",
    "\n",
    "y_hat_test_gbc = model_x_tuned['Gradient_Boosting']['fit_regressor'].predict(X_test_processed)\n",
    "cm_gbc = confusion_matrix(y_test.seasonal_vaccine, y_hat_test_gbc)\n",
    "ConfusionMatrixDisplay(cm_gbc, display_labels=['No', 'Yes']).plot()"
   ]
  }
 ],
 "metadata": {
  "kernelspec": {
   "display_name": "Python (learn-env)",
   "language": "python",
   "name": "learn-env"
  },
  "language_info": {
   "codemirror_mode": {
    "name": "ipython",
    "version": 3
   },
   "file_extension": ".py",
   "mimetype": "text/x-python",
   "name": "python",
   "nbconvert_exporter": "python",
   "pygments_lexer": "ipython3",
   "version": "3.8.5"
  }
 },
 "nbformat": 4,
 "nbformat_minor": 5
}
