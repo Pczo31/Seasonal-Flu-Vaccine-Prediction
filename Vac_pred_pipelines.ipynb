{
 "cells": [
  {
   "cell_type": "code",
   "execution_count": 240,
   "id": "8565f37f-cad6-49d1-895c-b3a60e034694",
   "metadata": {},
   "outputs": [],
   "source": [
    "import pandas as pd\n",
    "import numpy as np\n",
    "import matplotlib.pyplot as plt\n",
    "import seaborn as sns\n",
    "%matplotlib inline\n",
    "\n",
    "from sklearn.preprocessing import StandardScaler\n",
    "from sklearn.impute import SimpleImputer\n",
    "from sklearn.compose import ColumnTransformer\n",
    "\n",
    "from sklearn.linear_model import LogisticRegression\n",
    "from sklearn.multioutput import MultiOutputClassifier\n",
    "from sklearn.ensemble import RandomForestClassifier, GradientBoostingClassifier\n",
    "from sklearn.ensemble import HistGradientBoostingClassifier\n",
    "from sklearn.tree import DecisionTreeClassifier\n",
    "from sklearn.neighbors import KNeighborsClassifier\n",
    "from sklearn.pipeline import Pipeline\n",
    "from sklearn.impute import SimpleImputer\n",
    "from sklearn.compose import ColumnTransformer\n",
    "from sklearn.metrics import log_loss, confusion_matrix, plot_confusion_matrix, accuracy_score, precision_score, recall_score, f1_score, roc_curve, roc_auc_score, plot_roc_curve\n",
    "from sklearn.model_selection import cross_validate, cross_val_score\n",
    "\n",
    "from sklearn.model_selection import train_test_split\n",
    "\n",
    "from sklearn.naive_bayes import GaussianNB\n",
    "from sklearn.model_selection import GridSearchCV\n",
    "from sklearn.dummy import DummyRegressor\n",
    "from sklearn.preprocessing import OneHotEncoder\n",
    "\n",
    "# from ipynb.fs.full.Functions import factorial\n",
    "\n",
    "RANDOM_SEED = 1235846    # Set a random seed for reproducibility!"
   ]
  },
  {
   "cell_type": "code",
   "execution_count": 273,
   "id": "8faea0b0-0f52-4fb9-b396-b5072ad20ae4",
   "metadata": {},
   "outputs": [],
   "source": [
    "def model_predictions(model, x_train, y_train, x_test=None, y_test=None):\n",
    "\n",
    "    '''Enter model name and test/train sets to generate predictions, precision, recall, accuracy, and F1 score'''\n",
    "    model.fit(x_train, y_train)\n",
    "    y_hat_train = model.predict(x_train)\n",
    "    if x_test is not None:\n",
    "        y_hat_test = model.predict(x_test)\n",
    "    print('Training Precision: ', precision_score(y_train, y_hat_train))\n",
    "    if x_test is not None:\n",
    "        print('Testing Precision: ', precision_score(y_test, y_hat_test))\n",
    "    print('-----')\n",
    "\n",
    "    print('Training Recall: ', recall_score(y_train, y_hat_train))\n",
    "    if x_test is not None:\n",
    "        print('Testing Recall: ', recall_score(y_test, y_hat_test))\n",
    "    print('-----')\n",
    "\n",
    "    print('Training Accuracy: ', accuracy_score(y_train, y_hat_train))\n",
    "    if x_test is not None:\n",
    "        print('Testing Accuracy: ', accuracy_score(y_test, y_hat_test))\n",
    "    print('-----')\n",
    "\n",
    "    print('Training F1-Score: ', f1_score(y_train, y_hat_train))\n",
    "    if x_test is not None:\n",
    "        print('Testing F1-Score: ', f1_score(y_test, y_hat_test))\n",
    "    return precision_score(y_test, y_hat_test), accuracy_score(y_test, y_hat_test)"
   ]
  },
  {
   "cell_type": "code",
   "execution_count": 246,
   "id": "fb5c628e-cf10-429b-85fc-dcf8eb54c504",
   "metadata": {},
   "outputs": [],
   "source": [
    "features_df = pd.read_csv('./data/flu_training_set_features.csv', index_col='respondent_id')\n",
    "labels_df = labels_df = pd.read_csv(\"./data/flu_training_set_labels.csv\", index_col=\"respondent_id\")"
   ]
  },
  {
   "cell_type": "code",
   "execution_count": 247,
   "id": "a263471e-7b9f-41a1-ac34-713452994ad7",
   "metadata": {},
   "outputs": [],
   "source": [
    "X_train, X_test, y_train, y_test = train_test_split(\n",
    "    features_df,\n",
    "    labels_df,\n",
    "    test_size=0.25,\n",
    "    random_state=RANDOM_SEED\n",
    ")"
   ]
  },
  {
   "cell_type": "code",
   "execution_count": 248,
   "id": "509fc3a9-3614-41c7-a654-adbc7be680c7",
   "metadata": {},
   "outputs": [],
   "source": [
    "drop_features = ['hhs_geo_region', 'employment_industry','employment_occupation']\n",
    "X_train.drop(drop_features, axis=1, inplace=True)\n",
    "X_test.drop(drop_features, axis=1, inplace=True)\n",
    "numeric_features = [col for col in X_train.columns if X_train[col].dtype != 'O']\n",
    "categorical_features = [col for col in X_train.columns if X_train[col].dtype == 'O']"
   ]
  },
  {
   "cell_type": "code",
   "execution_count": 249,
   "id": "03d651fb-e692-4282-a2d3-faf7407caa62",
   "metadata": {},
   "outputs": [],
   "source": [
    "numeric_transformer = Pipeline(\n",
    "    steps=[(\"imputer\", SimpleImputer(strategy=\"median\", add_indicator=True))]\n",
    ")\n",
    "\n",
    "categorical_transformer = OneHotEncoder(handle_unknown=\"ignore\")\n",
    "\n",
    "preprocessor = ColumnTransformer(\n",
    "    transformers=[\n",
    "        (\"num\", numeric_transformer, numeric_features),\n",
    "        (\"cat\", categorical_transformer, categorical_features),\n",
    "    ]\n",
    ")"
   ]
  },
  {
   "cell_type": "code",
   "execution_count": 241,
   "id": "952bb84a-0c66-475b-b8dd-3a6a19efda62",
   "metadata": {},
   "outputs": [],
   "source": [
    "models = {'Baseline':\n",
    "              {'regressor': DummyRegressor(),\n",
    "               'preprocessor': preprocessor},\n",
    "          'Logistic':\n",
    "              {'regressor': LogisticRegression(),\n",
    "               'preprocessor': preprocessor},\n",
    "          'Naive_Bayes':\n",
    "              {'regressor': GaussianNB(),\n",
    "               'preprocessor': preprocessor},\n",
    "          'Decision_Trees':\n",
    "              {'regressor': DecisionTreeClassifier(),\n",
    "               'preprocessor': preprocessor},\n",
    "          'KNN':\n",
    "              {'regressor': KNeighborsClassifier(),\n",
    "               'preprocessor': preprocessor},\n",
    "          'Random_Forest':\n",
    "              {'regressor': RandomForestClassifier(),\n",
    "               'preprocessor': preprocessor},\n",
    "          'G_Boost':\n",
    "              {'regressor': GradientBoostingClassifier(),\n",
    "               'preprocessor': preprocessor},\n",
    "          'Hist_Boost':\n",
    "              {'regressor': HistGradientBoostingClassifier(),\n",
    "               'preprocessor': preprocessor}\n",
    "              }"
   ]
  },
  {
   "cell_type": "code",
   "execution_count": 274,
   "id": "4054e1c7-eb24-4eb5-baee-2a46f2e4b7a0",
   "metadata": {},
   "outputs": [
    {
     "name": "stdout",
     "output_type": "stream",
     "text": [
      "Baseline\n",
      "{'regressor': DummyRegressor(), 'preprocessor': ColumnTransformer(transformers=[('num',\n",
      "                                 Pipeline(steps=[('imputer',\n",
      "                                                  SimpleImputer(add_indicator=True,\n",
      "                                                                strategy='median')),\n",
      "                                                 ('scaler', StandardScaler())]),\n",
      "                                 ['h1n1_concern', 'h1n1_knowledge',\n",
      "                                  'behavioral_antiviral_meds',\n",
      "                                  'behavioral_avoidance',\n",
      "                                  'behavioral_face_mask',\n",
      "                                  'behavioral_wash_hands',\n",
      "                                  'behavioral_large_gatherings',\n",
      "                                  'behavioral_outside_home',\n",
      "                                  'behavioral_to...\n",
      "                                  'opinion_h1n1_vacc_effective',\n",
      "                                  'opinion_h1n1_risk',\n",
      "                                  'opinion_h1n1_sick_from_vacc',\n",
      "                                  'opinion_seas_vacc_effective',\n",
      "                                  'opinion_seas_risk',\n",
      "                                  'opinion_seas_sick_from_vacc',\n",
      "                                  'household_adults', 'household_children']),\n",
      "                                ('cat', OneHotEncoder(handle_unknown='ignore'),\n",
      "                                 ['age_group', 'education', 'race', 'sex',\n",
      "                                  'income_poverty', 'marital_status',\n",
      "                                  'rent_or_own', 'employment_status',\n",
      "                                  'census_msa'])]), 'fit_regressor': DummyRegressor(), 'output': -1.5735325675780842e-06}\n",
      "Logistic\n",
      "{'regressor': LogisticRegression(), 'preprocessor': ColumnTransformer(transformers=[('num',\n",
      "                                 Pipeline(steps=[('imputer',\n",
      "                                                  SimpleImputer(add_indicator=True,\n",
      "                                                                strategy='median')),\n",
      "                                                 ('scaler', StandardScaler())]),\n",
      "                                 ['h1n1_concern', 'h1n1_knowledge',\n",
      "                                  'behavioral_antiviral_meds',\n",
      "                                  'behavioral_avoidance',\n",
      "                                  'behavioral_face_mask',\n",
      "                                  'behavioral_wash_hands',\n",
      "                                  'behavioral_large_gatherings',\n",
      "                                  'behavioral_outside_home',\n",
      "                                  'behavioral_to...\n",
      "                                  'opinion_h1n1_vacc_effective',\n",
      "                                  'opinion_h1n1_risk',\n",
      "                                  'opinion_h1n1_sick_from_vacc',\n",
      "                                  'opinion_seas_vacc_effective',\n",
      "                                  'opinion_seas_risk',\n",
      "                                  'opinion_seas_sick_from_vacc',\n",
      "                                  'household_adults', 'household_children']),\n",
      "                                ('cat', OneHotEncoder(handle_unknown='ignore'),\n",
      "                                 ['age_group', 'education', 'race', 'sex',\n",
      "                                  'income_poverty', 'marital_status',\n",
      "                                  'rent_or_own', 'employment_status',\n",
      "                                  'census_msa'])]), 'fit_regressor': LogisticRegression(), 'output': 0.7769956567320653}\n",
      "Training Precision:  0.7748655913978495\n",
      "Testing Precision:  0.7753647777400746\n",
      "-----\n",
      "Training Recall:  0.7420358253780972\n",
      "Testing Recall:  0.734254498714653\n",
      "-----\n",
      "Training Accuracy:  0.7795806290564153\n",
      "Testing Accuracy:  0.7769956567320653\n",
      "-----\n",
      "Training F1-Score:  0.7580954468248315\n",
      "Testing F1-Score:  0.7542498762171975\n",
      "Naive_Bayes\n",
      "{'regressor': GaussianNB(), 'preprocessor': ColumnTransformer(transformers=[('num',\n",
      "                                 Pipeline(steps=[('imputer',\n",
      "                                                  SimpleImputer(add_indicator=True,\n",
      "                                                                strategy='median')),\n",
      "                                                 ('scaler', StandardScaler())]),\n",
      "                                 ['h1n1_concern', 'h1n1_knowledge',\n",
      "                                  'behavioral_antiviral_meds',\n",
      "                                  'behavioral_avoidance',\n",
      "                                  'behavioral_face_mask',\n",
      "                                  'behavioral_wash_hands',\n",
      "                                  'behavioral_large_gatherings',\n",
      "                                  'behavioral_outside_home',\n",
      "                                  'behavioral_to...\n",
      "                                  'opinion_h1n1_vacc_effective',\n",
      "                                  'opinion_h1n1_risk',\n",
      "                                  'opinion_h1n1_sick_from_vacc',\n",
      "                                  'opinion_seas_vacc_effective',\n",
      "                                  'opinion_seas_risk',\n",
      "                                  'opinion_seas_sick_from_vacc',\n",
      "                                  'household_adults', 'household_children']),\n",
      "                                ('cat', OneHotEncoder(handle_unknown='ignore'),\n",
      "                                 ['age_group', 'education', 'race', 'sex',\n",
      "                                  'income_poverty', 'marital_status',\n",
      "                                  'rent_or_own', 'employment_status',\n",
      "                                  'census_msa'])]), 'fit_regressor': GaussianNB(), 'output': 0.6851879586640707}\n",
      "Training Precision:  0.6184415797684539\n",
      "Testing Precision:  0.6257470119521913\n",
      "-----\n",
      "Training Recall:  0.8078944545747078\n",
      "Testing Recall:  0.8075192802056556\n",
      "-----\n",
      "Training Accuracy:  0.6785821268097854\n",
      "Testing Accuracy:  0.6851879586640707\n",
      "-----\n",
      "Training F1-Score:  0.7005859920007441\n",
      "Testing F1-Score:  0.7051066217732884\n",
      "Decision_Trees\n",
      "{'regressor': DecisionTreeClassifier(), 'preprocessor': ColumnTransformer(transformers=[('num',\n",
      "                                 Pipeline(steps=[('imputer',\n",
      "                                                  SimpleImputer(add_indicator=True,\n",
      "                                                                strategy='median')),\n",
      "                                                 ('scaler', StandardScaler())]),\n",
      "                                 ['h1n1_concern', 'h1n1_knowledge',\n",
      "                                  'behavioral_antiviral_meds',\n",
      "                                  'behavioral_avoidance',\n",
      "                                  'behavioral_face_mask',\n",
      "                                  'behavioral_wash_hands',\n",
      "                                  'behavioral_large_gatherings',\n",
      "                                  'behavioral_outside_home',\n",
      "                                  'behavioral_to...\n",
      "                                  'opinion_h1n1_vacc_effective',\n",
      "                                  'opinion_h1n1_risk',\n",
      "                                  'opinion_h1n1_sick_from_vacc',\n",
      "                                  'opinion_seas_vacc_effective',\n",
      "                                  'opinion_seas_risk',\n",
      "                                  'opinion_seas_sick_from_vacc',\n",
      "                                  'household_adults', 'household_children']),\n",
      "                                ('cat', OneHotEncoder(handle_unknown='ignore'),\n",
      "                                 ['age_group', 'education', 'race', 'sex',\n",
      "                                  'income_poverty', 'marital_status',\n",
      "                                  'rent_or_own', 'employment_status',\n",
      "                                  'census_msa'])]), 'fit_regressor': DecisionTreeClassifier(), 'output': 0.6778493335330238}\n",
      "Training Precision:  1.0\n",
      "Testing Precision:  0.6565428109854604\n",
      "-----\n",
      "Training Recall:  0.9997854767778612\n",
      "Testing Recall:  0.6529562982005142\n",
      "-----\n",
      "Training Accuracy:  0.999900149775337\n",
      "Testing Accuracy:  0.679047476411562\n",
      "-----\n",
      "Training F1-Score:  0.9998927268826432\n",
      "Testing F1-Score:  0.6547446431448364\n",
      "KNN\n",
      "{'regressor': KNeighborsClassifier(), 'preprocessor': ColumnTransformer(transformers=[('num',\n",
      "                                 Pipeline(steps=[('imputer',\n",
      "                                                  SimpleImputer(add_indicator=True,\n",
      "                                                                strategy='median')),\n",
      "                                                 ('scaler', StandardScaler())]),\n",
      "                                 ['h1n1_concern', 'h1n1_knowledge',\n",
      "                                  'behavioral_antiviral_meds',\n",
      "                                  'behavioral_avoidance',\n",
      "                                  'behavioral_face_mask',\n",
      "                                  'behavioral_wash_hands',\n",
      "                                  'behavioral_large_gatherings',\n",
      "                                  'behavioral_outside_home',\n",
      "                                  'behavioral_to...\n",
      "                                  'opinion_h1n1_vacc_effective',\n",
      "                                  'opinion_h1n1_risk',\n",
      "                                  'opinion_h1n1_sick_from_vacc',\n",
      "                                  'opinion_seas_vacc_effective',\n",
      "                                  'opinion_seas_risk',\n",
      "                                  'opinion_seas_sick_from_vacc',\n",
      "                                  'household_adults', 'household_children']),\n",
      "                                ('cat', OneHotEncoder(handle_unknown='ignore'),\n",
      "                                 ['age_group', 'education', 'race', 'sex',\n",
      "                                  'income_poverty', 'marital_status',\n",
      "                                  'rent_or_own', 'employment_status',\n",
      "                                  'census_msa'])]), 'fit_regressor': KNeighborsClassifier(), 'output': 0.7184364235435076}\n",
      "Training Precision:  0.7972471050906708\n",
      "Testing Precision:  0.7050599201065246\n",
      "-----\n",
      "Training Recall:  0.7827952375844686\n",
      "Testing Recall:  0.6805912596401028\n",
      "-----\n",
      "Training Accuracy:  0.8062406390414378\n",
      "Testing Accuracy:  0.7184364235435076\n",
      "-----\n",
      "Training F1-Score:  0.7899550792877631\n",
      "Testing F1-Score:  0.6926095487246565\n",
      "Random_Forest\n",
      "{'regressor': RandomForestClassifier(), 'preprocessor': ColumnTransformer(transformers=[('num',\n",
      "                                 Pipeline(steps=[('imputer',\n",
      "                                                  SimpleImputer(add_indicator=True,\n",
      "                                                                strategy='median')),\n",
      "                                                 ('scaler', StandardScaler())]),\n",
      "                                 ['h1n1_concern', 'h1n1_knowledge',\n",
      "                                  'behavioral_antiviral_meds',\n",
      "                                  'behavioral_avoidance',\n",
      "                                  'behavioral_face_mask',\n",
      "                                  'behavioral_wash_hands',\n",
      "                                  'behavioral_large_gatherings',\n",
      "                                  'behavioral_outside_home',\n",
      "                                  'behavioral_to...\n",
      "                                  'opinion_h1n1_vacc_effective',\n",
      "                                  'opinion_h1n1_risk',\n",
      "                                  'opinion_h1n1_sick_from_vacc',\n",
      "                                  'opinion_seas_vacc_effective',\n",
      "                                  'opinion_seas_risk',\n",
      "                                  'opinion_seas_sick_from_vacc',\n",
      "                                  'household_adults', 'household_children']),\n",
      "                                ('cat', OneHotEncoder(handle_unknown='ignore'),\n",
      "                                 ['age_group', 'education', 'race', 'sex',\n",
      "                                  'income_poverty', 'marital_status',\n",
      "                                  'rent_or_own', 'employment_status',\n",
      "                                  'census_msa'])]), 'fit_regressor': RandomForestClassifier(), 'output': 0.7790924067695073}\n",
      "Training Precision:  0.9998927383889306\n",
      "Testing Precision:  0.7763741891430522\n",
      "-----\n",
      "Training Recall:  0.9998927383889306\n",
      "Testing Recall:  0.730719794344473\n",
      "-----\n",
      "Training Accuracy:  0.999900149775337\n",
      "Testing Accuracy:  0.7763965852927962\n",
      "-----\n",
      "Training F1-Score:  0.9998927383889306\n",
      "Testing F1-Score:  0.7528554875020691\n",
      "G_Boost\n",
      "{'regressor': GradientBoostingClassifier(), 'preprocessor': ColumnTransformer(transformers=[('num',\n",
      "                                 Pipeline(steps=[('imputer',\n",
      "                                                  SimpleImputer(add_indicator=True,\n",
      "                                                                strategy='median')),\n",
      "                                                 ('scaler', StandardScaler())]),\n",
      "                                 ['h1n1_concern', 'h1n1_knowledge',\n",
      "                                  'behavioral_antiviral_meds',\n",
      "                                  'behavioral_avoidance',\n",
      "                                  'behavioral_face_mask',\n",
      "                                  'behavioral_wash_hands',\n",
      "                                  'behavioral_large_gatherings',\n",
      "                                  'behavioral_outside_home',\n",
      "                                  'behavioral_to...\n",
      "                                  'opinion_h1n1_vacc_effective',\n",
      "                                  'opinion_h1n1_risk',\n",
      "                                  'opinion_h1n1_sick_from_vacc',\n",
      "                                  'opinion_seas_vacc_effective',\n",
      "                                  'opinion_seas_risk',\n",
      "                                  'opinion_seas_sick_from_vacc',\n",
      "                                  'household_adults', 'household_children']),\n",
      "                                ('cat', OneHotEncoder(handle_unknown='ignore'),\n",
      "                                 ['age_group', 'education', 'race', 'sex',\n",
      "                                  'income_poverty', 'marital_status',\n",
      "                                  'rent_or_own', 'employment_status',\n",
      "                                  'census_msa'])]), 'fit_regressor': GradientBoostingClassifier(), 'output': 0.785831960461285}\n",
      "Training Precision:  0.7848424323124723\n",
      "Testing Precision:  0.7829744279946165\n",
      "-----\n",
      "Training Recall:  0.7586613750938539\n",
      "Testing Recall:  0.7477506426735219\n",
      "-----\n",
      "Training Accuracy:  0.790863704443335\n",
      "Testing Accuracy:  0.785831960461285\n",
      "-----\n",
      "Training F1-Score:  0.7715298609217345\n",
      "Testing F1-Score:  0.764957264957265\n",
      "Hist_Boost\n",
      "{'regressor': HistGradientBoostingClassifier(), 'preprocessor': ColumnTransformer(transformers=[('num',\n",
      "                                 Pipeline(steps=[('imputer',\n",
      "                                                  SimpleImputer(add_indicator=True,\n",
      "                                                                strategy='median')),\n",
      "                                                 ('scaler', StandardScaler())]),\n",
      "                                 ['h1n1_concern', 'h1n1_knowledge',\n",
      "                                  'behavioral_antiviral_meds',\n",
      "                                  'behavioral_avoidance',\n",
      "                                  'behavioral_face_mask',\n",
      "                                  'behavioral_wash_hands',\n",
      "                                  'behavioral_large_gatherings',\n",
      "                                  'behavioral_outside_home',\n",
      "                                  'behavioral_to...\n",
      "                                  'opinion_h1n1_vacc_effective',\n",
      "                                  'opinion_h1n1_risk',\n",
      "                                  'opinion_h1n1_sick_from_vacc',\n",
      "                                  'opinion_seas_vacc_effective',\n",
      "                                  'opinion_seas_risk',\n",
      "                                  'opinion_seas_sick_from_vacc',\n",
      "                                  'household_adults', 'household_children']),\n",
      "                                ('cat', OneHotEncoder(handle_unknown='ignore'),\n",
      "                                 ['age_group', 'education', 'race', 'sex',\n",
      "                                  'income_poverty', 'marital_status',\n",
      "                                  'rent_or_own', 'employment_status',\n",
      "                                  'census_msa'])]), 'fit_regressor': HistGradientBoostingClassifier(), 'output': 0.7856821926014678}\n",
      "Training Precision:  0.8002629560644242\n",
      "Testing Precision:  0.7785547785547785\n",
      "-----\n",
      "Training Recall:  0.7834388072508849\n",
      "Testing Recall:  0.7512853470437018\n",
      "-----\n",
      "Training Accuracy:  0.8081877184223665\n",
      "Testing Accuracy:  0.7844840497229295\n",
      "-----\n",
      "Training F1-Score:  0.791761517615176\n",
      "Testing F1-Score:  0.7646770237121833\n"
     ]
    }
   ],
   "source": [
    "count = 0\n",
    "precision_dict = {}\n",
    "accuracy_dict = {}\n",
    "for name, model in models.items():  \n",
    "    print(name)\n",
    "    X_train_processed = model['preprocessor'].fit_transform(X_train)\n",
    "    X_test_processed = model['preprocessor'].transform(X_test)\n",
    "    model['fit_regressor'] = model['regressor'].fit(X_train_processed, y_train.seasonal_vaccine)\n",
    "    # model['output'] = model['fit_regressor'].score(X_test_processed, y_test.seasonal_vaccine)\n",
    "    print(model)\n",
    "    if count > 0:\n",
    "        precision_dict[name], accuracy_dict[name] = model_predictions(model['fit_regressor'], X_train_processed, y_train.seasonal_vaccine, X_test_processed, y_test.seasonal_vaccine)\n",
    "    count += 1"
   ]
  },
  {
   "cell_type": "code",
   "execution_count": 275,
   "id": "8df737c6-f98d-4efd-b0bf-8f35c21456f3",
   "metadata": {},
   "outputs": [
    {
     "data": {
      "text/plain": [
       "{'Logistic': 0.7753647777400746,\n",
       " 'Naive_Bayes': 0.6257470119521913,\n",
       " 'Decision_Trees': 0.6565428109854604,\n",
       " 'KNN': 0.7050599201065246,\n",
       " 'Random_Forest': 0.7763741891430522,\n",
       " 'G_Boost': 0.7829744279946165,\n",
       " 'Hist_Boost': 0.7785547785547785}"
      ]
     },
     "execution_count": 275,
     "metadata": {},
     "output_type": "execute_result"
    }
   ],
   "source": [
    "precision_dict"
   ]
  },
  {
   "cell_type": "code",
   "execution_count": 276,
   "id": "5f97dffb-a7a0-4479-8e07-6ff19a638de1",
   "metadata": {},
   "outputs": [
    {
     "data": {
      "text/plain": [
       "{'Logistic': 0.7769956567320653,\n",
       " 'Naive_Bayes': 0.6851879586640707,\n",
       " 'Decision_Trees': 0.679047476411562,\n",
       " 'KNN': 0.7184364235435076,\n",
       " 'Random_Forest': 0.7763965852927962,\n",
       " 'G_Boost': 0.785831960461285,\n",
       " 'Hist_Boost': 0.7844840497229295}"
      ]
     },
     "execution_count": 276,
     "metadata": {},
     "output_type": "execute_result"
    }
   ],
   "source": [
    "accuracy_dict"
   ]
  },
  {
   "cell_type": "markdown",
   "id": "0200f60e-8d8a-4c90-8cfa-af6493f86d88",
   "metadata": {},
   "source": [
    "## Tuning Naive Bayes"
   ]
  },
  {
   "cell_type": "code",
   "execution_count": 293,
   "id": "3a6fb6ea-ca2d-4827-84de-2c6785637c2f",
   "metadata": {},
   "outputs": [
    {
     "data": {
      "text/plain": [
       "{'nb__var_smoothing': 1.0}"
      ]
     },
     "execution_count": 293,
     "metadata": {},
     "output_type": "execute_result"
    }
   ],
   "source": [
    "# Grid_search for Naive Bayes\n",
    "pipeline_nb = Pipeline([( \"preprocessor\" , preprocessor),\n",
    "                       (\"nb\",GaussianNB())])\n",
    "\n",
    "parameters_nb = {'nb__var_smoothing': np.logspace(0,-9, num=10)}\n",
    "\n",
    "gs_nb=GridSearchCV(pipeline_nb,parameters_nb)\n",
    "\n",
    "gs_nb.fit(X_train,y_train.seasonal_vaccine)\n",
    "\n",
    "gs_nb.best_params_"
   ]
  },
  {
   "cell_type": "code",
   "execution_count": null,
   "id": "892a3897-a2bb-4ebc-b87b-32df8fe49a56",
   "metadata": {},
   "outputs": [],
   "source": [
    "# nb_tuned = GaussianNB(var_smoothing=1.0)\n",
    "# precision_dict[name], accuracy_dict[name] = model_predictions(nb_tuned, X_train_processed, y_train.seasonal_vaccine, X_test_processed, y_test.seasonal_vaccine)"
   ]
  },
  {
   "cell_type": "code",
   "execution_count": 325,
   "id": "2de519a9-6d20-4846-a585-ef0c69cc5ec1",
   "metadata": {},
   "outputs": [],
   "source": [
    "# def best_param_model(model_name, regressor, parameters, X_train, y_train, X_test, y_test):\n",
    "#     model_tuned = {model_name:\n",
    "#               {'regressor': regressor(),\n",
    "#                'preprocessor': preprocessor}}\n",
    "                     \n",
    "#     print(list(model_tuned.keys())[0])\n",
    "#     X_train_processed = model_tuned[model_name]['preprocessor'].fit_transform(X_train)\n",
    "#     X_test_processed = model_tuned[model_name]['preprocessor'].transform(X_test)\n",
    "#     model_tuned[model_name]['fit_regressor'] = model_tuned[model_name]['regressor'].fit(X_train_processed, y_train.seasonal_vaccine)\n",
    "#     # model['output'] = model['fit_regressor'].score(X_test_processed, y_test.seasonal_vaccine)\n",
    "#     print(model_tuned)\n",
    "#     precision_dict[name], accuracy_dict[name] = model_predictions(model_tuned[model_name]['fit_regressor'], X_train_processed, y_train.seasonal_vaccine, X_test_processed, y_test.seasonal_vaccine)\n",
    "    "
   ]
  },
  {
   "cell_type": "code",
   "execution_count": 329,
   "id": "e99c0c5d-b7f7-49f1-8c59-1cfbcbb90f5f",
   "metadata": {},
   "outputs": [],
   "source": [
    "precision_dict_tuned = {}\n",
    "accuracy_dict_tuned = {}"
   ]
  },
  {
   "cell_type": "code",
   "execution_count": 326,
   "id": "7ce331bb-7254-43de-8b69-4cdeb90dfdc9",
   "metadata": {},
   "outputs": [
    {
     "name": "stdout",
     "output_type": "stream",
     "text": [
      "Naive_Bayes\n",
      "{'Naive_Bayes': {'regressor': GaussianNB(var_smoothing=1.0), 'preprocessor': ColumnTransformer(transformers=[('num',\n",
      "                                 Pipeline(steps=[('imputer',\n",
      "                                                  SimpleImputer(add_indicator=True,\n",
      "                                                                strategy='median'))]),\n",
      "                                 ['h1n1_concern', 'h1n1_knowledge',\n",
      "                                  'behavioral_antiviral_meds',\n",
      "                                  'behavioral_avoidance',\n",
      "                                  'behavioral_face_mask',\n",
      "                                  'behavioral_wash_hands',\n",
      "                                  'behavioral_large_gatherings',\n",
      "                                  'behavioral_outside_home',\n",
      "                                  'behavioral_touch_face', 'doctor_recc_h1n1'...\n",
      "                                  'opinion_h1n1_vacc_effective',\n",
      "                                  'opinion_h1n1_risk',\n",
      "                                  'opinion_h1n1_sick_from_vacc',\n",
      "                                  'opinion_seas_vacc_effective',\n",
      "                                  'opinion_seas_risk',\n",
      "                                  'opinion_seas_sick_from_vacc',\n",
      "                                  'household_adults', 'household_children']),\n",
      "                                ('cat', OneHotEncoder(handle_unknown='ignore'),\n",
      "                                 ['age_group', 'education', 'race', 'sex',\n",
      "                                  'income_poverty', 'marital_status',\n",
      "                                  'rent_or_own', 'employment_status',\n",
      "                                  'census_msa'])]), 'fit_regressor': GaussianNB(var_smoothing=1.0)}}\n",
      "Training Precision:  0.6949456684278736\n",
      "Testing Precision:  0.6908442330558858\n",
      "-----\n",
      "Training Recall:  0.7477206907647753\n",
      "Testing Recall:  0.7467866323907455\n",
      "-----\n",
      "Training Accuracy:  0.7298052920619071\n",
      "Testing Accuracy:  0.7262243522540063\n",
      "-----\n",
      "Training F1-Score:  0.7203678826082465\n",
      "Testing F1-Score:  0.7177269919703521\n"
     ]
    }
   ],
   "source": [
    "model_nb_tuned = {'Naive_Bayes':\n",
    "              {'regressor': GaussianNB(var_smoothing=1.0),\n",
    "               'preprocessor': preprocessor}}\n",
    " \n",
    "print(list(model_nb_tuned.keys())[0])\n",
    "X_train_processed = model_nb_tuned['Naive_Bayes']['preprocessor'].fit_transform(X_train)\n",
    "X_test_processed = model_nb_tuned['Naive_Bayes']['preprocessor'].transform(X_test)\n",
    "model_nb_tuned['Naive_Bayes']['fit_regressor'] = model_nb_tuned['Naive_Bayes']['regressor'].fit(X_train_processed, y_train.seasonal_vaccine)\n",
    "# model['output'] = model['fit_regressor'].score(X_test_processed, y_test.seasonal_vaccine)\n",
    "print(model_nb_tuned)\n",
    "precision_dict_tuned[name], accuracy_dic_tunedt[name] = model_predictions(model_nb_tuned['Naive_Bayes']['fit_regressor'], X_train_processed, y_train.seasonal_vaccine, X_test_processed, y_test.seasonal_vaccine)\n"
   ]
  },
  {
   "cell_type": "markdown",
   "id": "f48fbf4e-6a28-4527-808f-82d03404ac4c",
   "metadata": {},
   "source": [
    "## Tuning Random Forest"
   ]
  },
  {
   "cell_type": "code",
   "execution_count": 327,
   "id": "dc9b8aa6-9e75-4424-8eec-20f16ceb101f",
   "metadata": {},
   "outputs": [
    {
     "data": {
      "text/plain": [
       "{'rfc__criterion': 'gini', 'rfc__max_depth': 15, 'rfc__min_samples_leaf': 5}"
      ]
     },
     "execution_count": 327,
     "metadata": {},
     "output_type": "execute_result"
    }
   ],
   "source": [
    "# Grid_search for Random Forest\n",
    "pipeline_rfc = Pipeline([( \"preprocessor\" , preprocessor),\n",
    "                       (\"rfc\",RandomForestClassifier())])\n",
    "\n",
    "parameters_rfc = {}\n",
    "parameters_rfc['rfc__criterion'] = ['gini', 'entropy']\n",
    "parameters_rfc['rfc__min_samples_leaf'] = [1, 5, 10]\n",
    "parameters_rfc['rfc__max_depth'] = [1, 3, 5, 10, 15, 25]\n",
    "\n",
    "gs_rfc=GridSearchCV(pipeline_rfc,parameters_rfc)\n",
    "\n",
    "gs_rfc.fit(X_train,y_train.seasonal_vaccine)\n",
    "\n",
    "gs_rfc.best_params_"
   ]
  },
  {
   "cell_type": "code",
   "execution_count": 331,
   "id": "b47176b2-354a-404a-b1f4-d27451c7718c",
   "metadata": {},
   "outputs": [
    {
     "name": "stdout",
     "output_type": "stream",
     "text": [
      "Random_Forest\n",
      "{'Random_Forest': {'regressor': RandomForestClassifier(max_depth=15, min_samples_leaf=5), 'preprocessor': ColumnTransformer(transformers=[('num',\n",
      "                                 Pipeline(steps=[('imputer',\n",
      "                                                  SimpleImputer(add_indicator=True,\n",
      "                                                                strategy='median'))]),\n",
      "                                 ['h1n1_concern', 'h1n1_knowledge',\n",
      "                                  'behavioral_antiviral_meds',\n",
      "                                  'behavioral_avoidance',\n",
      "                                  'behavioral_face_mask',\n",
      "                                  'behavioral_wash_hands',\n",
      "                                  'behavioral_large_gatherings',\n",
      "                                  'behavioral_outside_home',\n",
      "                                  'behavioral_touch_face', 'doctor_recc_h1n1'...\n",
      "                                  'opinion_h1n1_vacc_effective',\n",
      "                                  'opinion_h1n1_risk',\n",
      "                                  'opinion_h1n1_sick_from_vacc',\n",
      "                                  'opinion_seas_vacc_effective',\n",
      "                                  'opinion_seas_risk',\n",
      "                                  'opinion_seas_sick_from_vacc',\n",
      "                                  'household_adults', 'household_children']),\n",
      "                                ('cat', OneHotEncoder(handle_unknown='ignore'),\n",
      "                                 ['age_group', 'education', 'race', 'sex',\n",
      "                                  'income_poverty', 'marital_status',\n",
      "                                  'rent_or_own', 'employment_status',\n",
      "                                  'census_msa'])]), 'fit_regressor': RandomForestClassifier(max_depth=15, min_samples_leaf=5)}}\n",
      "Training Precision:  0.8443727039964377\n",
      "Testing Precision:  0.7770570160464322\n",
      "-----\n",
      "Training Recall:  0.8135793199613858\n",
      "Testing Recall:  0.7313624678663239\n",
      "-----\n",
      "Training Accuracy:  0.8434348477284074\n",
      "Testing Accuracy:  0.7769956567320653\n",
      "-----\n",
      "Training F1-Score:  0.8286900469791324\n",
      "Testing F1-Score:  0.7535176295315344\n"
     ]
    }
   ],
   "source": [
    "model_rfc_tuned = {'Random_Forest':\n",
    "              {'regressor': RandomForestClassifier(criterion='gini', max_depth=15, min_samples_leaf=5),\n",
    "               'preprocessor': preprocessor}}\n",
    " \n",
    "print(list(model_rfc_tuned.keys())[0])\n",
    "X_train_processed = model_rfc_tuned['Random_Forest']['preprocessor'].fit_transform(X_train)\n",
    "X_test_processed = model_rfc_tuned['Random_Forest']['preprocessor'].transform(X_test)\n",
    "model_rfc_tuned['Random_Forest']['fit_regressor'] = model_rfc_tuned['Random_Forest']['regressor'].fit(X_train_processed, y_train.seasonal_vaccine)\n",
    "# model['output'] = model['fit_regressor'].score(X_test_processed, y_test.seasonal_vaccine)\n",
    "print(model_rfc_tuned)\n",
    "precision_dict_tuned[name], accuracy_dict_tuned[name] = model_predictions(model_rfc_tuned['Random_Forest']['fit_regressor'], X_train_processed, y_train.seasonal_vaccine, X_test_processed, y_test.seasonal_vaccine)\n"
   ]
  },
  {
   "cell_type": "markdown",
   "id": "5dfbd601-b920-477e-98d3-9526288968f4",
   "metadata": {},
   "source": [
    "## Tuning Random Forest #2"
   ]
  },
  {
   "cell_type": "code",
   "execution_count": 337,
   "id": "6609e92b-9a7a-4bb6-a142-ca510a190d3f",
   "metadata": {},
   "outputs": [
    {
     "data": {
      "text/plain": [
       "{'rfc__ccp_alpha': 0, 'rfc__max_depth': 5, 'rfc__n_estimators': 500}"
      ]
     },
     "execution_count": 337,
     "metadata": {},
     "output_type": "execute_result"
    }
   ],
   "source": [
    "# Grid_search for Random Forest #2\n",
    "pipeline_rfc = Pipeline([( \"preprocessor\" , preprocessor),\n",
    "                       (\"rfc\",RandomForestClassifier(criterion='gini', min_samples_leaf=5))])\n",
    "\n",
    "parameters_rfc = {}\n",
    "parameters_rfc['rfc__max_depth'] = [3, 5]\n",
    "parameters_rfc['rfc__ccp_alpha'] = [0, 0.1, 0.5, 1, 2]\n",
    "parameters_rfc['rfc__n_estimators'] = [50, 100, 250, 500]\n",
    "\n",
    "\n",
    "gs_rfc=GridSearchCV(pipeline_rfc,parameters_rfc)\n",
    "\n",
    "gs_rfc.fit(X_train,y_train.seasonal_vaccine)\n",
    "\n",
    "gs_rfc.best_params_"
   ]
  },
  {
   "cell_type": "code",
   "execution_count": 343,
   "id": "4eff555b-7c6f-420c-a870-3e589f1106da",
   "metadata": {},
   "outputs": [
    {
     "name": "stdout",
     "output_type": "stream",
     "text": [
      "Random_Forest\n",
      "{'Random_Forest': {'regressor': RandomForestClassifier(max_depth=7, min_samples_leaf=5, n_estimators=300), 'preprocessor': ColumnTransformer(transformers=[('num',\n",
      "                                 Pipeline(steps=[('imputer',\n",
      "                                                  SimpleImputer(add_indicator=True,\n",
      "                                                                strategy='median'))]),\n",
      "                                 ['h1n1_concern', 'h1n1_knowledge',\n",
      "                                  'behavioral_antiviral_meds',\n",
      "                                  'behavioral_avoidance',\n",
      "                                  'behavioral_face_mask',\n",
      "                                  'behavioral_wash_hands',\n",
      "                                  'behavioral_large_gatherings',\n",
      "                                  'behavioral_outside_home',\n",
      "                                  'behavioral_touch_face', 'doctor_recc_h1n1'...\n",
      "                                  'opinion_h1n1_vacc_effective',\n",
      "                                  'opinion_h1n1_risk',\n",
      "                                  'opinion_h1n1_sick_from_vacc',\n",
      "                                  'opinion_seas_vacc_effective',\n",
      "                                  'opinion_seas_risk',\n",
      "                                  'opinion_seas_sick_from_vacc',\n",
      "                                  'household_adults', 'household_children']),\n",
      "                                ('cat', OneHotEncoder(handle_unknown='ignore'),\n",
      "                                 ['age_group', 'education', 'race', 'sex',\n",
      "                                  'income_poverty', 'marital_status',\n",
      "                                  'rent_or_own', 'employment_status',\n",
      "                                  'census_msa'])]), 'fit_regressor': RandomForestClassifier(max_depth=7, min_samples_leaf=5, n_estimators=300)}}\n",
      "Training Precision:  0.7930668553236646\n",
      "Testing Precision:  0.7846374730796841\n",
      "-----\n",
      "Training Recall:  0.7214415960527727\n",
      "Testing Recall:  0.7024421593830334\n",
      "-----\n",
      "Training Accuracy:  0.7827259111333\n",
      "Testing Accuracy:  0.7714542459188258\n",
      "-----\n",
      "Training F1-Score:  0.7555605481914177\n",
      "Testing F1-Score:  0.7412682265174636\n"
     ]
    }
   ],
   "source": [
    "model_rfc_tuned = {'Random_Forest':\n",
    "              {'regressor': RandomForestClassifier(criterion='gini', max_depth=5, min_samples_leaf=5, n_estimators=500),\n",
    "               'preprocessor': preprocessor}}\n",
    " \n",
    "print(list(model_rfc_tuned.keys())[0])\n",
    "X_train_processed = model_rfc_tuned['Random_Forest']['preprocessor'].fit_transform(X_train)\n",
    "X_test_processed = model_rfc_tuned['Random_Forest']['preprocessor'].transform(X_test)\n",
    "model_rfc_tuned['Random_Forest']['fit_regressor'] = model_rfc_tuned['Random_Forest']['regressor'].fit(X_train_processed, y_train.seasonal_vaccine)\n",
    "# model['output'] = model['fit_regressor'].score(X_test_processed, y_test.seasonal_vaccine)\n",
    "print(model_rfc_tuned)\n",
    "precision_dict_tuned['Random_Forest'], accuracy_dict_tuned['Random_Forest'] = model_predictions(model_rfc_tuned['Random_Forest']['fit_regressor'], X_train_processed, y_train.seasonal_vaccine, X_test_processed, y_test.seasonal_vaccine)\n"
   ]
  },
  {
   "cell_type": "markdown",
   "id": "d0e96f64-35ec-4f84-85ef-e77b64ad7e9b",
   "metadata": {},
   "source": [
    "## Tuning Gradient Boosting"
   ]
  },
  {
   "cell_type": "code",
   "execution_count": 348,
   "id": "1850b0e5-1299-4f9d-9dd5-c16ef9b32729",
   "metadata": {},
   "outputs": [
    {
     "data": {
      "text/plain": [
       "{'gbc__max_depth': 5, 'gbc__min_samples_leaf': 5}"
      ]
     },
     "execution_count": 348,
     "metadata": {},
     "output_type": "execute_result"
    }
   ],
   "source": [
    "# Grid_search for Gradient Boosting\n",
    "pipeline_gbc = Pipeline([( \"preprocessor\" , preprocessor),\n",
    "                       (\"gbc\",GradientBoostingClassifier(n_estimators=100, learning_rate=0.1))])\n",
    "\n",
    "parameters_gbc = {}\n",
    "parameters_gbc['gbc__min_samples_leaf'] = [1, 5, 10]\n",
    "parameters_gbc['gbc__max_depth'] = [3, 5, 10, 15, 20]\n",
    "\n",
    "gs_gbc=GridSearchCV(pipeline_gbc,parameters_gbc)\n",
    "\n",
    "gs_gbc.fit(X_train,y_train.seasonal_vaccine)\n",
    "\n",
    "gs_gbc.best_params_"
   ]
  },
  {
   "cell_type": "code",
   "execution_count": 349,
   "id": "422f00df-f876-4147-a2b8-e7f1ed75c201",
   "metadata": {},
   "outputs": [
    {
     "name": "stdout",
     "output_type": "stream",
     "text": [
      "Gradient_Boosting\n",
      "{'Gradient_Boosting': {'regressor': GradientBoostingClassifier(max_depth=5, min_samples_leaf=5), 'preprocessor': ColumnTransformer(transformers=[('num',\n",
      "                                 Pipeline(steps=[('imputer',\n",
      "                                                  SimpleImputer(add_indicator=True,\n",
      "                                                                strategy='median'))]),\n",
      "                                 ['h1n1_concern', 'h1n1_knowledge',\n",
      "                                  'behavioral_antiviral_meds',\n",
      "                                  'behavioral_avoidance',\n",
      "                                  'behavioral_face_mask',\n",
      "                                  'behavioral_wash_hands',\n",
      "                                  'behavioral_large_gatherings',\n",
      "                                  'behavioral_outside_home',\n",
      "                                  'behavioral_touch_face', 'doctor_recc_h1n1'...\n",
      "                                  'opinion_h1n1_vacc_effective',\n",
      "                                  'opinion_h1n1_risk',\n",
      "                                  'opinion_h1n1_sick_from_vacc',\n",
      "                                  'opinion_seas_vacc_effective',\n",
      "                                  'opinion_seas_risk',\n",
      "                                  'opinion_seas_sick_from_vacc',\n",
      "                                  'household_adults', 'household_children']),\n",
      "                                ('cat', OneHotEncoder(handle_unknown='ignore'),\n",
      "                                 ['age_group', 'education', 'race', 'sex',\n",
      "                                  'income_poverty', 'marital_status',\n",
      "                                  'rent_or_own', 'employment_status',\n",
      "                                  'census_msa'])]), 'fit_regressor': GradientBoostingClassifier(max_depth=5, min_samples_leaf=5)}}\n",
      "Training Precision:  0.8092931072451002\n",
      "Testing Precision:  0.7825210084033614\n",
      "-----\n",
      "Training Recall:  0.7883728413600772\n",
      "Testing Recall:  0.7480719794344473\n",
      "-----\n",
      "Training Accuracy:  0.8150274588117823\n",
      "Testing Accuracy:  0.7856821926014678\n",
      "-----\n",
      "Training F1-Score:  0.7986960065199674\n",
      "Testing F1-Score:  0.7649088220798423\n"
     ]
    }
   ],
   "source": [
    "model_gbc_tuned = {'Gradient_Boosting':\n",
    "              {'regressor': GradientBoostingClassifier(min_samples_leaf=5, max_depth=5),\n",
    "               'preprocessor': preprocessor}}\n",
    " \n",
    "print(list(model_gbc_tuned.keys())[0])\n",
    "X_train_processed = model_gbc_tuned['Gradient_Boosting']['preprocessor'].fit_transform(X_train)\n",
    "X_test_processed = model_gbc_tuned['Gradient_Boosting']['preprocessor'].transform(X_test)\n",
    "model_gbc_tuned['Gradient_Boosting']['fit_regressor'] = model_gbc_tuned['Gradient_Boosting']['regressor'].fit(X_train_processed, y_train.seasonal_vaccine)\n",
    "# model['output'] = model['fit_regressor'].score(X_test_processed, y_test.seasonal_vaccine)\n",
    "print(model_gbc_tuned)\n",
    "precision_dict_tuned['Gradient_Boosting'], accuracy_dict_tuned['Gradient_Boosting'] = model_predictions(model_gbc_tuned['Gradient_Boosting']['fit_regressor'], X_train_processed, y_train.seasonal_vaccine, X_test_processed, y_test.seasonal_vaccine)\n"
   ]
  },
  {
   "cell_type": "markdown",
   "id": "bb1e0ecd-bf0a-4b36-83db-ae568e4a053e",
   "metadata": {},
   "source": [
    "## Tuning Hist Boost"
   ]
  },
  {
   "cell_type": "code",
   "execution_count": 350,
   "id": "201bd369-d39e-4f9b-956b-05a2c006c39b",
   "metadata": {},
   "outputs": [
    {
     "data": {
      "text/plain": [
       "{'hbc__max_depth': 10, 'hbc__min_samples_leaf': 10}"
      ]
     },
     "execution_count": 350,
     "metadata": {},
     "output_type": "execute_result"
    }
   ],
   "source": [
    "# Grid_search for Hist Boost\n",
    "pipeline_hbc = Pipeline([( \"preprocessor\" , preprocessor),\n",
    "                       (\"hbc\",HistGradientBoostingClassifier(learning_rate=0.1, max_iter=100,))])\n",
    "\n",
    "parameters_hbc = {}\n",
    "parameters_hbc['hbc__min_samples_leaf'] = [1, 5, 10]\n",
    "parameters_hbc['hbc__max_depth'] = [3, 5, 10, 15, 20]\n",
    "\n",
    "gs_hbc=GridSearchCV(pipeline_hbc,parameters_hbc)\n",
    "\n",
    "gs_hbc.fit(X_train,y_train.seasonal_vaccine)\n",
    "\n",
    "gs_hbc.best_params_"
   ]
  },
  {
   "cell_type": "code",
   "execution_count": 351,
   "id": "17f6c6e2-e786-4f61-8069-f92f4c7d858e",
   "metadata": {},
   "outputs": [
    {
     "name": "stdout",
     "output_type": "stream",
     "text": [
      "Hist_Boosting\n",
      "{'Hist_Boosting': {'regressor': HistGradientBoostingClassifier(max_depth=10, min_samples_leaf=10), 'preprocessor': ColumnTransformer(transformers=[('num',\n",
      "                                 Pipeline(steps=[('imputer',\n",
      "                                                  SimpleImputer(add_indicator=True,\n",
      "                                                                strategy='median'))]),\n",
      "                                 ['h1n1_concern', 'h1n1_knowledge',\n",
      "                                  'behavioral_antiviral_meds',\n",
      "                                  'behavioral_avoidance',\n",
      "                                  'behavioral_face_mask',\n",
      "                                  'behavioral_wash_hands',\n",
      "                                  'behavioral_large_gatherings',\n",
      "                                  'behavioral_outside_home',\n",
      "                                  'behavioral_touch_face', 'doctor_recc_h1n1'...\n",
      "                                  'opinion_h1n1_vacc_effective',\n",
      "                                  'opinion_h1n1_risk',\n",
      "                                  'opinion_h1n1_sick_from_vacc',\n",
      "                                  'opinion_seas_vacc_effective',\n",
      "                                  'opinion_seas_risk',\n",
      "                                  'opinion_seas_sick_from_vacc',\n",
      "                                  'household_adults', 'household_children']),\n",
      "                                ('cat', OneHotEncoder(handle_unknown='ignore'),\n",
      "                                 ['age_group', 'education', 'race', 'sex',\n",
      "                                  'income_poverty', 'marital_status',\n",
      "                                  'rent_or_own', 'employment_status',\n",
      "                                  'census_msa'])]), 'fit_regressor': HistGradientBoostingClassifier(max_depth=10, min_samples_leaf=10)}}\n",
      "Training Precision:  0.8070425625274243\n",
      "Testing Precision:  0.7789543348775645\n",
      "-----\n",
      "Training Recall:  0.789123672637563\n",
      "Testing Recall:  0.756426735218509\n",
      "-----\n",
      "Training Accuracy:  0.8140289565651523\n",
      "Testing Accuracy:  0.7864310319005542\n",
      "-----\n",
      "Training F1-Score:  0.797982537013938\n",
      "Testing F1-Score:  0.7675252689925008\n"
     ]
    }
   ],
   "source": [
    "model_hbc_tuned = {'Hist_Boosting':\n",
    "              {'regressor': HistGradientBoostingClassifier(max_depth=10, min_samples_leaf=10),\n",
    "               'preprocessor': preprocessor}}\n",
    " \n",
    "print(list(model_hbc_tuned.keys())[0])\n",
    "X_train_processed = model_hbc_tuned['Hist_Boosting']['preprocessor'].fit_transform(X_train)\n",
    "X_test_processed = model_hbc_tuned['Hist_Boosting']['preprocessor'].transform(X_test)\n",
    "model_hbc_tuned['Hist_Boosting']['fit_regressor'] = model_hbc_tuned['Hist_Boosting']['regressor'].fit(X_train_processed, y_train.seasonal_vaccine)\n",
    "# model['output'] = model['fit_regressor'].score(X_test_processed, y_test.seasonal_vaccine)\n",
    "print(model_hbc_tuned)\n",
    "precision_dict_tuned['Hist_Boosting'], accuracy_dict_tuned['Hist_Boosting'] = model_predictions(model_hbc_tuned['Hist_Boosting']['fit_regressor'], X_train_processed, y_train.seasonal_vaccine, X_test_processed, y_test.seasonal_vaccine)\n"
   ]
  },
  {
   "cell_type": "code",
   "execution_count": 352,
   "id": "ff87aee2-e7cc-42a7-ba87-8463c39ae6f0",
   "metadata": {},
   "outputs": [
    {
     "data": {
      "text/plain": [
       "{'Logistic': 0.7753647777400746,\n",
       " 'Naive_Bayes': 0.6257470119521913,\n",
       " 'Decision_Trees': 0.6565428109854604,\n",
       " 'KNN': 0.7050599201065246,\n",
       " 'Random_Forest': 0.7763741891430522,\n",
       " 'G_Boost': 0.7829744279946165,\n",
       " 'Hist_Boost': 0.7797476986021139}"
      ]
     },
     "execution_count": 352,
     "metadata": {},
     "output_type": "execute_result"
    }
   ],
   "source": [
    "precision_dict"
   ]
  },
  {
   "cell_type": "code",
   "execution_count": 353,
   "id": "b0d85140-df86-45f2-9e12-746a9fe7bf93",
   "metadata": {},
   "outputs": [
    {
     "data": {
      "text/plain": [
       "{'Logistic': 0.7769956567320653,\n",
       " 'Naive_Bayes': 0.6851879586640707,\n",
       " 'Decision_Trees': 0.679047476411562,\n",
       " 'KNN': 0.7184364235435076,\n",
       " 'Random_Forest': 0.7763965852927962,\n",
       " 'G_Boost': 0.785831960461285,\n",
       " 'Hist_Boost': 0.7796914782087764}"
      ]
     },
     "execution_count": 353,
     "metadata": {},
     "output_type": "execute_result"
    }
   ],
   "source": [
    "accuracy_dict"
   ]
  },
  {
   "cell_type": "code",
   "execution_count": 354,
   "id": "55dddc3a-ee97-4ffc-a6cd-d12d1b98a7ed",
   "metadata": {},
   "outputs": [
    {
     "data": {
      "text/plain": [
       "{'Hist_Boost': 0.7832494608195543,\n",
       " 'Random_Forest': 0.7846374730796841,\n",
       " 'Gradient_Boosting': 0.7825210084033614,\n",
       " 'Hist_Boosting': 0.7789543348775645}"
      ]
     },
     "execution_count": 354,
     "metadata": {},
     "output_type": "execute_result"
    }
   ],
   "source": [
    "precision_dict_tuned"
   ]
  },
  {
   "cell_type": "code",
   "execution_count": 355,
   "id": "0fa1c346-2fe8-4e6f-ad5d-c55714638db2",
   "metadata": {},
   "outputs": [
    {
     "data": {
      "text/plain": [
       "{'Hist_Boost': 0.769956567320653,\n",
       " 'Random_Forest': 0.7714542459188258,\n",
       " 'Gradient_Boosting': 0.7856821926014678,\n",
       " 'Hist_Boosting': 0.7864310319005542}"
      ]
     },
     "execution_count": 355,
     "metadata": {},
     "output_type": "execute_result"
    }
   ],
   "source": [
    "accuracy_dict_tuned"
   ]
  },
  {
   "cell_type": "code",
   "execution_count": null,
   "id": "a06db2c1-7d63-43f2-8fe5-120d98498399",
   "metadata": {},
   "outputs": [],
   "source": []
  }
 ],
 "metadata": {
  "kernelspec": {
   "display_name": "Python (learn-env)",
   "language": "python",
   "name": "learn-env"
  },
  "language_info": {
   "codemirror_mode": {
    "name": "ipython",
    "version": 3
   },
   "file_extension": ".py",
   "mimetype": "text/x-python",
   "name": "python",
   "nbconvert_exporter": "python",
   "pygments_lexer": "ipython3",
   "version": "3.8.5"
  }
 },
 "nbformat": 4,
 "nbformat_minor": 5
}
