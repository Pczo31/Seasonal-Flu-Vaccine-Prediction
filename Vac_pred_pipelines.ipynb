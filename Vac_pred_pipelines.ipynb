{
 "cells": [
  {
   "cell_type": "markdown",
   "id": "883e31d5-e768-4d72-b2ab-a790cb632ded",
   "metadata": {},
   "source": [
    "## Classification Problem: Seasonal Flu\n",
    "\n",
    "* Student name: Anthony Warren, Marcelo Scatena, Piotr Czolpik\n",
    "* Student pace: full time\n",
    "* Scheduled project review date: 28/01/2021\n",
    "* Instructor name: Skyler English\n",
    "***"
   ]
  },
  {
   "cell_type": "code",
   "execution_count": 1,
   "id": "8565f37f-cad6-49d1-895c-b3a60e034694",
   "metadata": {},
   "outputs": [],
   "source": [
    "import pandas as pd\n",
    "import numpy as np\n",
    "import matplotlib.pyplot as plt\n",
    "import seaborn as sns\n",
    "%matplotlib inline\n",
    "\n",
    "from sklearn.impute import SimpleImputer\n",
    "from sklearn.compose import ColumnTransformer\n",
    "from sklearn.pipeline import Pipeline\n",
    "\n",
    "from sklearn.linear_model import LogisticRegression\n",
    "from sklearn.ensemble import RandomForestClassifier, GradientBoostingClassifier, HistGradientBoostingClassifier\n",
    "from sklearn.tree import DecisionTreeClassifier\n",
    "from sklearn.neighbors import KNeighborsClassifier\n",
    "from sklearn.naive_bayes import GaussianNB\n",
    "\n",
    "\n",
    "from sklearn.metrics import confusion_matrix, plot_confusion_matrix, accuracy_score, precision_score, recall_score, f1_score\n",
    "from sklearn.metrics import ConfusionMatrixDisplay, roc_auc_score\n",
    "\n",
    "from sklearn.inspection import permutation_importance\n",
    "from sklearn.model_selection import train_test_split, GridSearchCV, RandomizedSearchCV\n",
    "from sklearn.dummy import DummyRegressor\n",
    "from sklearn.preprocessing import OneHotEncoder\n",
    "\n",
    "# from ipynb.fs.full.Functions import factorial\n",
    "\n",
    "RANDOM_SEED = 1235846\n",
    "import warnings\n",
    "warnings.filterwarnings(\"ignore\")"
   ]
  },
  {
   "cell_type": "code",
   "execution_count": 3,
   "id": "fb5c628e-cf10-429b-85fc-dcf8eb54c504",
   "metadata": {},
   "outputs": [],
   "source": [
    "features_df = pd.read_csv('./data/flu_training_set_features.csv', index_col='respondent_id')\n",
    "labels_df = labels_df = pd.read_csv(\"./data/flu_training_set_labels.csv\", index_col=\"respondent_id\")"
   ]
  },
  {
   "cell_type": "code",
   "execution_count": 4,
   "id": "a263471e-7b9f-41a1-ac34-713452994ad7",
   "metadata": {},
   "outputs": [],
   "source": [
    "X_train, X_test, y_train, y_test = train_test_split(\n",
    "    features_df,\n",
    "    labels_df,\n",
    "    test_size=0.25,\n",
    "    random_state=RANDOM_SEED\n",
    ")"
   ]
  },
  {
   "cell_type": "code",
   "execution_count": 5,
   "id": "509fc3a9-3614-41c7-a654-adbc7be680c7",
   "metadata": {},
   "outputs": [],
   "source": [
    "drop_features = ['hhs_geo_region', 'employment_industry','employment_occupation']\n",
    "X_train.drop(drop_features, axis=1, inplace=True)\n",
    "X_test.drop(drop_features, axis=1, inplace=True)\n",
    "numeric_features = [col for col in X_train.columns if X_train[col].dtype != 'O']\n",
    "categorical_features = [col for col in X_train.columns if X_train[col].dtype == 'O']"
   ]
  },
  {
   "cell_type": "code",
   "execution_count": 6,
   "id": "03d651fb-e692-4282-a2d3-faf7407caa62",
   "metadata": {},
   "outputs": [],
   "source": [
    "numeric_transformer = Pipeline(\n",
    "    steps=[(\"imputer\", SimpleImputer(strategy=\"median\", add_indicator=True))]\n",
    ")\n",
    "\n",
    "categorical_transformer = OneHotEncoder(handle_unknown=\"ignore\")\n",
    "\n",
    "preprocessor = ColumnTransformer(\n",
    "    transformers=[\n",
    "        (\"num\", numeric_transformer, numeric_features),\n",
    "        (\"cat\", categorical_transformer, categorical_features),\n",
    "    ]\n",
    ")"
   ]
  },
  {
   "cell_type": "code",
   "execution_count": 7,
   "id": "952bb84a-0c66-475b-b8dd-3a6a19efda62",
   "metadata": {},
   "outputs": [],
   "source": [
    "models = {'Logistic':\n",
    "              {'regressor': LogisticRegression(random_state=RANDOM_SEED),\n",
    "               'preprocessor': preprocessor},\n",
    "          'Naive_Bayes':\n",
    "              {'regressor': GaussianNB(),\n",
    "               'preprocessor': preprocessor},\n",
    "          'Decision_Trees':\n",
    "              {'regressor': DecisionTreeClassifier(random_state=RANDOM_SEED),\n",
    "               'preprocessor': preprocessor},\n",
    "          'KNN':\n",
    "              {'regressor': KNeighborsClassifier(),\n",
    "               'preprocessor': preprocessor},\n",
    "          'Random_Forest':\n",
    "              {'regressor': RandomForestClassifier(random_state=RANDOM_SEED),\n",
    "               'preprocessor': preprocessor},\n",
    "          'G_Boost':\n",
    "              {'regressor': GradientBoostingClassifier(random_state=RANDOM_SEED),\n",
    "               'preprocessor': preprocessor},\n",
    "          'Hist_Boost':\n",
    "              {'regressor': HistGradientBoostingClassifier(random_state=RANDOM_SEED),\n",
    "               'preprocessor': preprocessor}\n",
    "              }"
   ]
  },
  {
   "cell_type": "code",
   "execution_count": 2,
   "id": "8faea0b0-0f52-4fb9-b396-b5072ad20ae4",
   "metadata": {},
   "outputs": [],
   "source": [
    "def model_predictions(model, x_train, y_train, x_test=None, y_test=None):\n",
    "\n",
    "    '''Enter model name and test/train sets to generate predictions, precision, recall, accuracy, and F1 score'''\n",
    "    model.fit(x_train, y_train)\n",
    "    y_hat_train = model.predict(x_train)\n",
    "    if x_test is not None:\n",
    "        y_hat_test = model.predict(x_test)\n",
    "    print('Training Precision: ', precision_score(y_train, y_hat_train))\n",
    "    if x_test is not None:\n",
    "        print('Testing Precision: ', precision_score(y_test, y_hat_test))\n",
    "    print('-----')\n",
    "\n",
    "    print('Training Recall: ', recall_score(y_train, y_hat_train))\n",
    "    if x_test is not None:\n",
    "        print('Testing Recall: ', recall_score(y_test, y_hat_test))\n",
    "    print('-----')\n",
    "\n",
    "    print('Training Accuracy: ', accuracy_score(y_train, y_hat_train))\n",
    "    if x_test is not None:\n",
    "        print('Testing Accuracy: ', accuracy_score(y_test, y_hat_test))\n",
    "    print('-----')\n",
    "\n",
    "    print('Training F1-Score: ', f1_score(y_train, y_hat_train))\n",
    "    if x_test is not None:\n",
    "        print('Testing F1-Score: ', f1_score(y_test, y_hat_test))\n",
    "    if x_test is not None:\n",
    "        return precision_score(y_test, y_hat_test), accuracy_score(y_test, y_hat_test), y_hat_test\n",
    "    return precision_score(y_train, y_hat_train), accuracy_score(y_train, y_hat_train), y_hat_train"
   ]
  },
  {
   "cell_type": "code",
   "execution_count": null,
   "id": "d61368ee-8b4f-4747-965c-62be2504f8cf",
   "metadata": {},
   "outputs": [],
   "source": [
    "precision_dict = {}\n",
    "accuracy_dict = {}\n",
    "auc_dict = {}"
   ]
  },
  {
   "cell_type": "code",
   "execution_count": 8,
   "id": "4054e1c7-eb24-4eb5-baee-2a46f2e4b7a0",
   "metadata": {},
   "outputs": [
    {
     "name": "stdout",
     "output_type": "stream",
     "text": [
      "Logistic\n",
      "{'regressor': LogisticRegression(random_state=1235846), 'preprocessor': ColumnTransformer(transformers=[('num',\n",
      "                                 Pipeline(steps=[('imputer',\n",
      "                                                  SimpleImputer(add_indicator=True,\n",
      "                                                                strategy='median'))]),\n",
      "                                 ['h1n1_concern', 'h1n1_knowledge',\n",
      "                                  'behavioral_antiviral_meds',\n",
      "                                  'behavioral_avoidance',\n",
      "                                  'behavioral_face_mask',\n",
      "                                  'behavioral_wash_hands',\n",
      "                                  'behavioral_large_gatherings',\n",
      "                                  'behavioral_outside_home',\n",
      "                                  'behavioral_touch_face', 'doctor_recc_h1n1'...\n",
      "                                  'opinion_h1n1_vacc_effective',\n",
      "                                  'opinion_h1n1_risk',\n",
      "                                  'opinion_h1n1_sick_from_vacc',\n",
      "                                  'opinion_seas_vacc_effective',\n",
      "                                  'opinion_seas_risk',\n",
      "                                  'opinion_seas_sick_from_vacc',\n",
      "                                  'household_adults', 'household_children']),\n",
      "                                ('cat', OneHotEncoder(handle_unknown='ignore'),\n",
      "                                 ['age_group', 'education', 'race', 'sex',\n",
      "                                  'income_poverty', 'marital_status',\n",
      "                                  'rent_or_own', 'employment_status',\n",
      "                                  'census_msa'])]), 'fit_regressor': LogisticRegression(random_state=1235846)}\n",
      "Training Precision:  0.7740852635112454\n",
      "Testing Precision:  0.7746526601152152\n",
      "-----\n",
      "Training Recall:  0.7420358253780972\n",
      "Testing Recall:  0.7345758354755784\n",
      "-----\n",
      "Training Accuracy:  0.7791313030454319\n",
      "Testing Accuracy:  0.7766961210124307\n",
      "-----\n",
      "Training F1-Score:  0.7577217962760131\n",
      "Testing F1-Score:  0.7540821375556656\n",
      "Area under the curve for Logistic model: 0.7740200355498509.\n",
      "Naive_Bayes\n",
      "{'regressor': GaussianNB(), 'preprocessor': ColumnTransformer(transformers=[('num',\n",
      "                                 Pipeline(steps=[('imputer',\n",
      "                                                  SimpleImputer(add_indicator=True,\n",
      "                                                                strategy='median'))]),\n",
      "                                 ['h1n1_concern', 'h1n1_knowledge',\n",
      "                                  'behavioral_antiviral_meds',\n",
      "                                  'behavioral_avoidance',\n",
      "                                  'behavioral_face_mask',\n",
      "                                  'behavioral_wash_hands',\n",
      "                                  'behavioral_large_gatherings',\n",
      "                                  'behavioral_outside_home',\n",
      "                                  'behavioral_touch_face', 'doctor_recc_h1n1'...\n",
      "                                  'opinion_h1n1_vacc_effective',\n",
      "                                  'opinion_h1n1_risk',\n",
      "                                  'opinion_h1n1_sick_from_vacc',\n",
      "                                  'opinion_seas_vacc_effective',\n",
      "                                  'opinion_seas_risk',\n",
      "                                  'opinion_seas_sick_from_vacc',\n",
      "                                  'household_adults', 'household_children']),\n",
      "                                ('cat', OneHotEncoder(handle_unknown='ignore'),\n",
      "                                 ['age_group', 'education', 'race', 'sex',\n",
      "                                  'income_poverty', 'marital_status',\n",
      "                                  'rent_or_own', 'employment_status',\n",
      "                                  'census_msa'])]), 'fit_regressor': GaussianNB()}\n",
      "Training Precision:  0.6184415797684539\n",
      "Testing Precision:  0.6257470119521913\n",
      "-----\n",
      "Training Recall:  0.8078944545747078\n",
      "Testing Recall:  0.8075192802056556\n",
      "-----\n",
      "Training Accuracy:  0.6785821268097854\n",
      "Testing Accuracy:  0.6851879586640707\n",
      "-----\n",
      "Training F1-Score:  0.7005859920007441\n",
      "Testing F1-Score:  0.7051066217732884\n",
      "Area under the curve for Naive_Bayes model: 0.6929602011126454.\n",
      "Decision_Trees\n",
      "{'regressor': DecisionTreeClassifier(random_state=1235846), 'preprocessor': ColumnTransformer(transformers=[('num',\n",
      "                                 Pipeline(steps=[('imputer',\n",
      "                                                  SimpleImputer(add_indicator=True,\n",
      "                                                                strategy='median'))]),\n",
      "                                 ['h1n1_concern', 'h1n1_knowledge',\n",
      "                                  'behavioral_antiviral_meds',\n",
      "                                  'behavioral_avoidance',\n",
      "                                  'behavioral_face_mask',\n",
      "                                  'behavioral_wash_hands',\n",
      "                                  'behavioral_large_gatherings',\n",
      "                                  'behavioral_outside_home',\n",
      "                                  'behavioral_touch_face', 'doctor_recc_h1n1'...\n",
      "                                  'opinion_h1n1_vacc_effective',\n",
      "                                  'opinion_h1n1_risk',\n",
      "                                  'opinion_h1n1_sick_from_vacc',\n",
      "                                  'opinion_seas_vacc_effective',\n",
      "                                  'opinion_seas_risk',\n",
      "                                  'opinion_seas_sick_from_vacc',\n",
      "                                  'household_adults', 'household_children']),\n",
      "                                ('cat', OneHotEncoder(handle_unknown='ignore'),\n",
      "                                 ['age_group', 'education', 'race', 'sex',\n",
      "                                  'income_poverty', 'marital_status',\n",
      "                                  'rent_or_own', 'employment_status',\n",
      "                                  'census_msa'])]), 'fit_regressor': DecisionTreeClassifier(random_state=1235846)}\n",
      "Training Precision:  1.0\n",
      "Testing Precision:  0.6526592252133946\n",
      "-----\n",
      "Training Recall:  0.9997854767778612\n",
      "Testing Recall:  0.6388174807197944\n",
      "-----\n",
      "Training Accuracy:  0.999900149775337\n",
      "Testing Accuracy:  0.673206529878688\n",
      "-----\n",
      "Training F1-Score:  0.9998927268826432\n",
      "Testing F1-Score:  0.6456641766807405\n",
      "Area under the curve for Decision_Trees model: 0.6710216435857037.\n",
      "KNN\n",
      "{'regressor': KNeighborsClassifier(), 'preprocessor': ColumnTransformer(transformers=[('num',\n",
      "                                 Pipeline(steps=[('imputer',\n",
      "                                                  SimpleImputer(add_indicator=True,\n",
      "                                                                strategy='median'))]),\n",
      "                                 ['h1n1_concern', 'h1n1_knowledge',\n",
      "                                  'behavioral_antiviral_meds',\n",
      "                                  'behavioral_avoidance',\n",
      "                                  'behavioral_face_mask',\n",
      "                                  'behavioral_wash_hands',\n",
      "                                  'behavioral_large_gatherings',\n",
      "                                  'behavioral_outside_home',\n",
      "                                  'behavioral_touch_face', 'doctor_recc_h1n1'...\n",
      "                                  'opinion_h1n1_vacc_effective',\n",
      "                                  'opinion_h1n1_risk',\n",
      "                                  'opinion_h1n1_sick_from_vacc',\n",
      "                                  'opinion_seas_vacc_effective',\n",
      "                                  'opinion_seas_risk',\n",
      "                                  'opinion_seas_sick_from_vacc',\n",
      "                                  'household_adults', 'household_children']),\n",
      "                                ('cat', OneHotEncoder(handle_unknown='ignore'),\n",
      "                                 ['age_group', 'education', 'race', 'sex',\n",
      "                                  'income_poverty', 'marital_status',\n",
      "                                  'rent_or_own', 'employment_status',\n",
      "                                  'census_msa'])]), 'fit_regressor': KNeighborsClassifier()}\n",
      "Training Precision:  0.8003067148647168\n",
      "Testing Precision:  0.7037037037037037\n",
      "-----\n",
      "Training Recall:  0.7836533304730237\n",
      "Testing Recall:  0.6838046272493573\n",
      "-----\n",
      "Training Accuracy:  0.8082875686470294\n",
      "Testing Accuracy:  0.7184364235435076\n",
      "-----\n",
      "Training F1-Score:  0.7918924777801865\n",
      "Testing F1-Score:  0.6936114732724903\n",
      "Area under the curve for KNN model: 0.7162361144661933.\n",
      "Random_Forest\n",
      "{'regressor': RandomForestClassifier(random_state=1235846), 'preprocessor': ColumnTransformer(transformers=[('num',\n",
      "                                 Pipeline(steps=[('imputer',\n",
      "                                                  SimpleImputer(add_indicator=True,\n",
      "                                                                strategy='median'))]),\n",
      "                                 ['h1n1_concern', 'h1n1_knowledge',\n",
      "                                  'behavioral_antiviral_meds',\n",
      "                                  'behavioral_avoidance',\n",
      "                                  'behavioral_face_mask',\n",
      "                                  'behavioral_wash_hands',\n",
      "                                  'behavioral_large_gatherings',\n",
      "                                  'behavioral_outside_home',\n",
      "                                  'behavioral_touch_face', 'doctor_recc_h1n1'...\n",
      "                                  'opinion_h1n1_vacc_effective',\n",
      "                                  'opinion_h1n1_risk',\n",
      "                                  'opinion_h1n1_sick_from_vacc',\n",
      "                                  'opinion_seas_vacc_effective',\n",
      "                                  'opinion_seas_risk',\n",
      "                                  'opinion_seas_sick_from_vacc',\n",
      "                                  'household_adults', 'household_children']),\n",
      "                                ('cat', OneHotEncoder(handle_unknown='ignore'),\n",
      "                                 ['age_group', 'education', 'race', 'sex',\n",
      "                                  'income_poverty', 'marital_status',\n",
      "                                  'rent_or_own', 'employment_status',\n",
      "                                  'census_msa'])]), 'fit_regressor': RandomForestClassifier(random_state=1235846)}\n",
      "Training Precision:  0.9998927383889306\n",
      "Testing Precision:  0.7786467188031282\n",
      "-----\n",
      "Training Recall:  0.9998927383889306\n",
      "Testing Recall:  0.7358611825192802\n",
      "-----\n",
      "Training Accuracy:  0.999900149775337\n",
      "Testing Accuracy:  0.7793919424891418\n",
      "-----\n",
      "Training F1-Score:  0.9998927383889306\n",
      "Testing F1-Score:  0.7566495952420288\n",
      "Area under the curve for Random_Forest model: 0.7766262434335531.\n",
      "G_Boost\n",
      "{'regressor': GradientBoostingClassifier(random_state=1235846), 'preprocessor': ColumnTransformer(transformers=[('num',\n",
      "                                 Pipeline(steps=[('imputer',\n",
      "                                                  SimpleImputer(add_indicator=True,\n",
      "                                                                strategy='median'))]),\n",
      "                                 ['h1n1_concern', 'h1n1_knowledge',\n",
      "                                  'behavioral_antiviral_meds',\n",
      "                                  'behavioral_avoidance',\n",
      "                                  'behavioral_face_mask',\n",
      "                                  'behavioral_wash_hands',\n",
      "                                  'behavioral_large_gatherings',\n",
      "                                  'behavioral_outside_home',\n",
      "                                  'behavioral_touch_face', 'doctor_recc_h1n1'...\n",
      "                                  'opinion_h1n1_vacc_effective',\n",
      "                                  'opinion_h1n1_risk',\n",
      "                                  'opinion_h1n1_sick_from_vacc',\n",
      "                                  'opinion_seas_vacc_effective',\n",
      "                                  'opinion_seas_risk',\n",
      "                                  'opinion_seas_sick_from_vacc',\n",
      "                                  'household_adults', 'household_children']),\n",
      "                                ('cat', OneHotEncoder(handle_unknown='ignore'),\n",
      "                                 ['age_group', 'education', 'race', 'sex',\n",
      "                                  'income_poverty', 'marital_status',\n",
      "                                  'rent_or_own', 'employment_status',\n",
      "                                  'census_msa'])]), 'fit_regressor': GradientBoostingClassifier(random_state=1235846)}\n",
      "Training Precision:  0.7848424323124723\n",
      "Testing Precision:  0.7829744279946165\n",
      "-----\n",
      "Training Recall:  0.7586613750938539\n",
      "Testing Recall:  0.7477506426735219\n",
      "-----\n",
      "Training Accuracy:  0.790863704443335\n",
      "Testing Accuracy:  0.785831960461285\n",
      "-----\n",
      "Training F1-Score:  0.7715298609217345\n",
      "Testing F1-Score:  0.764957264957265\n",
      "Area under the curve for G_Boost model: 0.7834124882371817.\n",
      "Hist_Boost\n",
      "{'regressor': HistGradientBoostingClassifier(random_state=1235846), 'preprocessor': ColumnTransformer(transformers=[('num',\n",
      "                                 Pipeline(steps=[('imputer',\n",
      "                                                  SimpleImputer(add_indicator=True,\n",
      "                                                                strategy='median'))]),\n",
      "                                 ['h1n1_concern', 'h1n1_knowledge',\n",
      "                                  'behavioral_antiviral_meds',\n",
      "                                  'behavioral_avoidance',\n",
      "                                  'behavioral_face_mask',\n",
      "                                  'behavioral_wash_hands',\n",
      "                                  'behavioral_large_gatherings',\n",
      "                                  'behavioral_outside_home',\n",
      "                                  'behavioral_touch_face', 'doctor_recc_h1n1'...\n",
      "                                  'opinion_h1n1_vacc_effective',\n",
      "                                  'opinion_h1n1_risk',\n",
      "                                  'opinion_h1n1_sick_from_vacc',\n",
      "                                  'opinion_seas_vacc_effective',\n",
      "                                  'opinion_seas_risk',\n",
      "                                  'opinion_seas_sick_from_vacc',\n",
      "                                  'household_adults', 'household_children']),\n",
      "                                ('cat', OneHotEncoder(handle_unknown='ignore'),\n",
      "                                 ['age_group', 'education', 'race', 'sex',\n",
      "                                  'income_poverty', 'marital_status',\n",
      "                                  'rent_or_own', 'employment_status',\n",
      "                                  'census_msa'])]), 'fit_regressor': HistGradientBoostingClassifier(random_state=1235846)}\n",
      "Training Precision:  0.7980958634274459\n",
      "Testing Precision:  0.7753551370994384\n",
      "-----\n",
      "Training Recall:  0.7822589295291216\n",
      "Testing Recall:  0.7541773778920309\n",
      "-----\n",
      "Training Accuracy:  0.8065401897154268\n",
      "Testing Accuracy:  0.7835854425640257\n",
      "-----\n",
      "Training F1-Score:  0.7900980445262987\n",
      "Testing F1-Score:  0.7646196448933051\n",
      "Area under the curve for Hist_Boost model: 0.7817170199418078.\n"
     ]
    }
   ],
   "source": [
    "for name, model in models.items():  \n",
    "    print(name)\n",
    "    X_train_processed = model['preprocessor'].fit_transform(X_train)\n",
    "    X_test_processed = model['preprocessor'].transform(X_test)\n",
    "    model['fit_regressor'] = model['regressor'].fit(X_train_processed, y_train.seasonal_vaccine)\n",
    "    print(model)\n",
    "    precision_dict[name], accuracy_dict[name], y_hat_test = model_predictions(model['fit_regressor'], X_train_processed, y_train.seasonal_vaccine, X_test_processed, y_test.seasonal_vaccine)\n",
    "    auc_dict[name] = roc_auc_score(y_test.seasonal_vaccine, y_hat_test)\n",
    "    print(f'Area under the curve for {name} model: {auc_dict[name]}.')"
   ]
  },
  {
   "cell_type": "markdown",
   "id": "ede74bfd-e5e5-4b93-8c59-a42d3ce97770",
   "metadata": {},
   "source": [
    "## Baseline"
   ]
  },
  {
   "cell_type": "code",
   "execution_count": 9,
   "id": "53af6c01-99c5-4d99-b30b-a8e79915f128",
   "metadata": {},
   "outputs": [],
   "source": [
    "# Using only 1 column as predicator\n",
    "base_X_train = X_train.copy()\n",
    "base_X_train.drop(base_X_train.columns.difference(['opinion_seas_risk']), 1, inplace=True)\n",
    "base_X_test = X_test.copy()\n",
    "base_X_test.drop(base_X_test.columns.difference(['opinion_seas_risk']), 1, inplace=True)\n",
    "base_X_train.fillna(value=2, inplace=True)\n",
    "base_X_test.fillna(value=2, inplace=True)"
   ]
  },
  {
   "cell_type": "code",
   "execution_count": 10,
   "id": "d64a2226-65be-4ddb-9cba-fce634edf9a0",
   "metadata": {},
   "outputs": [
    {
     "name": "stdout",
     "output_type": "stream",
     "text": [
      "Baseline\n",
      "{'Baseline': {'regressor': LogisticRegression(random_state=1235846), 'preprocessor': ColumnTransformer(transformers=[('num',\n",
      "                                 Pipeline(steps=[('imputer',\n",
      "                                                  SimpleImputer(add_indicator=True,\n",
      "                                                                strategy='median'))]),\n",
      "                                 ['h1n1_concern', 'h1n1_knowledge',\n",
      "                                  'behavioral_antiviral_meds',\n",
      "                                  'behavioral_avoidance',\n",
      "                                  'behavioral_face_mask',\n",
      "                                  'behavioral_wash_hands',\n",
      "                                  'behavioral_large_gatherings',\n",
      "                                  'behavioral_outside_home',\n",
      "                                  'behavioral_touch_face', 'doctor_recc_h1n1'...\n",
      "                                  'opinion_h1n1_vacc_effective',\n",
      "                                  'opinion_h1n1_risk',\n",
      "                                  'opinion_h1n1_sick_from_vacc',\n",
      "                                  'opinion_seas_vacc_effective',\n",
      "                                  'opinion_seas_risk',\n",
      "                                  'opinion_seas_sick_from_vacc',\n",
      "                                  'household_adults', 'household_children']),\n",
      "                                ('cat', OneHotEncoder(handle_unknown='ignore'),\n",
      "                                 ['age_group', 'education', 'race', 'sex',\n",
      "                                  'income_poverty', 'marital_status',\n",
      "                                  'rent_or_own', 'employment_status',\n",
      "                                  'census_msa'])]), 'fit_regressor': LogisticRegression(random_state=1235846)}}\n",
      "Training Precision:  0.6783973368208298\n",
      "Testing Precision:  0.6783461807988788\n",
      "-----\n",
      "Training Recall:  0.6120347527619865\n",
      "Testing Recall:  0.622107969151671\n",
      "-----\n",
      "Training Accuracy:  0.6843734398402397\n",
      "Testing Accuracy:  0.6863861015426089\n",
      "-----\n",
      "Training F1-Score:  0.643509642494643\n",
      "Testing F1-Score:  0.6490110626885686\n",
      "Area under the curve for Baseline model: 0.6823022314201553.\n"
     ]
    },
    {
     "data": {
      "image/png": "[encoded data removed]",
      "text/plain": [
       "<Figure size 432x288 with 2 Axes>"
      ]
     },
     "metadata": {
      "needs_background": "light"
     },
     "output_type": "display_data"
    }
   ],
   "source": [
    "model_baseline = {'Baseline':\n",
    "              {'regressor': LogisticRegression(random_state=RANDOM_SEED),\n",
    "               'preprocessor': preprocessor}}\n",
    "\n",
    "model = 'Baseline'\n",
    "print(model)\n",
    "model_baseline[model]['fit_regressor'] = model_baseline[model]['regressor'].fit(base_X_train, y_train.seasonal_vaccine)\n",
    "print(model_baseline)\n",
    "precision_dict[model], accuracy_dict[model], y_hat_test = model_predictions(model_baseline[model]['fit_regressor'], base_X_train, y_train.seasonal_vaccine, base_X_test, y_test.seasonal_vaccine)\n",
    "\n",
    "auc_dict[model] = roc_auc_score(y_test.seasonal_vaccine, y_hat_test)\n",
    "auc_baseline = auc_dict[model]\n",
    "print(f'Area under the curve for {model} model: {auc_baseline}.')\n",
    "\n",
    "cm_baseline = confusion_matrix(y_test.seasonal_vaccine, y_hat_test)\n",
    "ConfusionMatrixDisplay(cm_baseline, display_labels=['Not \\nvacced', 'Vacced']).plot();"
   ]
  },
  {
   "cell_type": "code",
   "execution_count": 11,
   "id": "18598142-0658-40f5-82d5-2b3ba37f64c5",
   "metadata": {},
   "outputs": [
    {
     "data": {
      "text/plain": [
       "{'Logistic': 0.7740200355498509,\n",
       " 'Naive_Bayes': 0.6929602011126454,\n",
       " 'Decision_Trees': 0.6710216435857037,\n",
       " 'KNN': 0.7162361144661933,\n",
       " 'Random_Forest': 0.7766262434335531,\n",
       " 'G_Boost': 0.7834124882371817,\n",
       " 'Hist_Boost': 0.7817170199418078,\n",
       " 'Baseline': 0.6823022314201553}"
      ]
     },
     "execution_count": 11,
     "metadata": {},
     "output_type": "execute_result"
    }
   ],
   "source": [
    "auc_dict"
   ]
  },
  {
   "cell_type": "code",
   "execution_count": 12,
   "id": "714eff4c-474f-4152-b8c7-4dbe8864cda9",
   "metadata": {},
   "outputs": [
    {
     "data": {
      "text/plain": [
       "[0.7740200355498509,\n",
       " 0.6929602011126454,\n",
       " 0.6710216435857037,\n",
       " 0.7162361144661933,\n",
       " 0.7766262434335531,\n",
       " 0.7834124882371817,\n",
       " 0.7817170199418078,\n",
       " 0.6823022314201553]"
      ]
     },
     "execution_count": 12,
     "metadata": {},
     "output_type": "execute_result"
    }
   ],
   "source": [
    "auc_lst = [auc for auc in auc_dict.values()]\n",
    "auc_lst"
   ]
  },
  {
   "cell_type": "code",
   "execution_count": 129,
   "id": "2d57b71b-4722-4adc-bbe9-0003eecfb07f",
   "metadata": {},
   "outputs": [
    {
     "data": {
      "image/png": "[encoded data removed]",
      "text/plain": [
       "<Figure size 1728x1080 with 1 Axes>"
      ]
     },
     "metadata": {
      "needs_background": "light"
     },
     "output_type": "display_data"
    }
   ],
   "source": [
    "AUC = [auc_lst[7], auc_lst[1], auc_lst[2], auc_lst[3], auc_lst[0], auc_lst[4], auc_lst[5], auc_lst[6]]\n",
    "names = ['Baseline', 'Naive \\nBayes', 'Decision \\nTrees', 'KNN', 'Logistic \\nRegression', 'Random \\nForest', 'Gradient \\nBoosting', 'Histogram-based \\nGradient Boosting \\nClassification Tree']\n",
    "\n",
    "fig, ax = plt.subplots(figsize=(24, 15))\n",
    "x_label = names\n",
    "ax = sns.barplot(x_label, AUC, palette=\"flare\")\n",
    "plt.xticks(rotation=25, size=30)\n",
    "plt.yticks(size=30)\n",
    "sns.despine()\n",
    "ax.set_ylim(bottom=0, top=1)\n",
    "ax.set_title('Model AUC', fontsize=35)\n",
    "# plt.savefig('Skyler_graph_2', bbox_inches='tight');"
   ]
  },
  {
   "cell_type": "code",
   "execution_count": 14,
   "id": "8df737c6-f98d-4efd-b0bf-8f35c21456f3",
   "metadata": {},
   "outputs": [
    {
     "data": {
      "text/plain": [
       "{'Logistic': 0.7746526601152152,\n",
       " 'Naive_Bayes': 0.6257470119521913,\n",
       " 'Decision_Trees': 0.6526592252133946,\n",
       " 'KNN': 0.7037037037037037,\n",
       " 'Random_Forest': 0.7786467188031282,\n",
       " 'G_Boost': 0.7829744279946165,\n",
       " 'Hist_Boost': 0.7753551370994384,\n",
       " 'Baseline': 0.6783461807988788}"
      ]
     },
     "execution_count": 14,
     "metadata": {},
     "output_type": "execute_result"
    }
   ],
   "source": [
    "precision_dict"
   ]
  },
  {
   "cell_type": "code",
   "execution_count": 15,
   "id": "5f97dffb-a7a0-4479-8e07-6ff19a638de1",
   "metadata": {},
   "outputs": [
    {
     "data": {
      "text/plain": [
       "{'Logistic': 0.7766961210124307,\n",
       " 'Naive_Bayes': 0.6851879586640707,\n",
       " 'Decision_Trees': 0.673206529878688,\n",
       " 'KNN': 0.7184364235435076,\n",
       " 'Random_Forest': 0.7793919424891418,\n",
       " 'G_Boost': 0.785831960461285,\n",
       " 'Hist_Boost': 0.7835854425640257,\n",
       " 'Baseline': 0.6863861015426089}"
      ]
     },
     "execution_count": 15,
     "metadata": {},
     "output_type": "execute_result"
    }
   ],
   "source": [
    "accuracy_dict"
   ]
  },
  {
   "cell_type": "markdown",
   "id": "0200f60e-8d8a-4c90-8cfa-af6493f86d88",
   "metadata": {},
   "source": [
    "## Tuning Naive Bayes"
   ]
  },
  {
   "cell_type": "code",
   "execution_count": 16,
   "id": "3a6fb6ea-ca2d-4827-84de-2c6785637c2f",
   "metadata": {},
   "outputs": [],
   "source": [
    "# # Grid_search for Naive Bayes\n",
    "# pipeline_nb = Pipeline([( \"preprocessor\" , preprocessor),\n",
    "#                        (\"nb\",GaussianNB())])\n",
    "\n",
    "# parameters_nb = {'nb__var_smoothing': np.logspace(0,-9, num=10)}\n",
    "\n",
    "# gs_nb=GridSearchCV(pipeline_nb,parameters_nb)\n",
    "\n",
    "# gs_nb.fit(X_train,y_train.seasonal_vaccine)\n",
    "\n",
    "# gs_nb.best_params_"
   ]
  },
  {
   "cell_type": "code",
   "execution_count": 17,
   "id": "892a3897-a2bb-4ebc-b87b-32df8fe49a56",
   "metadata": {},
   "outputs": [],
   "source": [
    "# nb_tuned = GaussianNB(var_smoothing=1.0)\n",
    "# precision_dict[name], accuracy_dict[name] = model_predictions(nb_tuned, X_train_processed, y_train.seasonal_vaccine, X_test_processed, y_test.seasonal_vaccine)"
   ]
  },
  {
   "cell_type": "code",
   "execution_count": 18,
   "id": "2de519a9-6d20-4846-a585-ef0c69cc5ec1",
   "metadata": {},
   "outputs": [],
   "source": [
    "# def best_param_model(model_name, regressor, parameters, X_train, y_train, X_test, y_test):\n",
    "#     model_tuned = {model_name:\n",
    "#               {'regressor': regressor(),\n",
    "#                'preprocessor': preprocessor}}\n",
    "                     \n",
    "#     print(list(model_tuned.keys())[0])\n",
    "#     X_train_processed = model_tuned[model_name]['preprocessor'].fit_transform(X_train)\n",
    "#     X_test_processed = model_tuned[model_name]['preprocessor'].transform(X_test)\n",
    "#     model_tuned[model_name]['fit_regressor'] = model_tuned[model_name]['regressor'].fit(X_train_processed, y_train.seasonal_vaccine)\n",
    "#     # model['output'] = model['fit_regressor'].score(X_test_processed, y_test.seasonal_vaccine)\n",
    "#     print(model_tuned)\n",
    "#     precision_dict[name], accuracy_dict[name] = model_predictions(model_tuned[model_name]['fit_regressor'], X_train_processed, y_train.seasonal_vaccine, X_test_processed, y_test.seasonal_vaccine)\n",
    "    "
   ]
  },
  {
   "cell_type": "code",
   "execution_count": 19,
   "id": "e99c0c5d-b7f7-49f1-8c59-1cfbcbb90f5f",
   "metadata": {},
   "outputs": [],
   "source": [
    "precision_dict_tuned = {}\n",
    "accuracy_dict_tuned = {}\n",
    "auc_dict_tuned = {}"
   ]
  },
  {
   "cell_type": "code",
   "execution_count": 20,
   "id": "7ce331bb-7254-43de-8b69-4cdeb90dfdc9",
   "metadata": {},
   "outputs": [
    {
     "name": "stdout",
     "output_type": "stream",
     "text": [
      "Naive Bayes Tuned\n",
      "{'Naive Bayes Tuned': {'regressor': GaussianNB(var_smoothing=1.0), 'preprocessor': ColumnTransformer(transformers=[('num',\n",
      "                                 Pipeline(steps=[('imputer',\n",
      "                                                  SimpleImputer(add_indicator=True,\n",
      "                                                                strategy='median'))]),\n",
      "                                 ['h1n1_concern', 'h1n1_knowledge',\n",
      "                                  'behavioral_antiviral_meds',\n",
      "                                  'behavioral_avoidance',\n",
      "                                  'behavioral_face_mask',\n",
      "                                  'behavioral_wash_hands',\n",
      "                                  'behavioral_large_gatherings',\n",
      "                                  'behavioral_outside_home',\n",
      "                                  'behavioral_touch_face', 'doctor_recc_h1n1'...\n",
      "                                  'opinion_h1n1_vacc_effective',\n",
      "                                  'opinion_h1n1_risk',\n",
      "                                  'opinion_h1n1_sick_from_vacc',\n",
      "                                  'opinion_seas_vacc_effective',\n",
      "                                  'opinion_seas_risk',\n",
      "                                  'opinion_seas_sick_from_vacc',\n",
      "                                  'household_adults', 'household_children']),\n",
      "                                ('cat', OneHotEncoder(handle_unknown='ignore'),\n",
      "                                 ['age_group', 'education', 'race', 'sex',\n",
      "                                  'income_poverty', 'marital_status',\n",
      "                                  'rent_or_own', 'employment_status',\n",
      "                                  'census_msa'])]), 'fit_regressor': GaussianNB(var_smoothing=1.0)}}\n",
      "Training Precision:  0.6949456684278736\n",
      "Testing Precision:  0.6908442330558858\n",
      "-----\n",
      "Training Recall:  0.7477206907647753\n",
      "Testing Recall:  0.7467866323907455\n",
      "-----\n",
      "Training Accuracy:  0.7298052920619071\n",
      "Testing Accuracy:  0.7262243522540063\n",
      "-----\n",
      "Training F1-Score:  0.7203678826082465\n",
      "Testing F1-Score:  0.7177269919703521\n",
      "Area under the curve for Naive Bayes Tuned model: 0.7275307636007023.\n"
     ]
    }
   ],
   "source": [
    "model_nb_tuned = {'Naive Bayes Tuned':\n",
    "              {'regressor': GaussianNB(var_smoothing=1.0),\n",
    "               'preprocessor': preprocessor}}\n",
    "\n",
    "model = 'Naive Bayes Tuned'\n",
    "print(model)\n",
    "X_train_processed = model_nb_tuned[model]['preprocessor'].fit_transform(X_train)\n",
    "X_test_processed = model_nb_tuned[model]['preprocessor'].transform(X_test)\n",
    "model_nb_tuned[model]['fit_regressor'] = model_nb_tuned[model]['regressor'].fit(X_train_processed, y_train.seasonal_vaccine)\n",
    "\n",
    "print(model_nb_tuned)\n",
    "precision_dict_tuned[model], accuracy_dict_tuned[model], y_hat_test = model_predictions(model_nb_tuned[model]['fit_regressor'], X_train_processed, y_train.seasonal_vaccine, X_test_processed, y_test.seasonal_vaccine)\n",
    "\n",
    "auc_dict_tuned[model] = roc_auc_score(y_test.seasonal_vaccine, y_hat_test)\n",
    "auc = auc_dict_tuned[model]\n",
    "print(f'Area under the curve for {model} model: {auc}.')"
   ]
  },
  {
   "cell_type": "markdown",
   "id": "af64d4a7-d4c3-4233-9a2a-3451ca320774",
   "metadata": {},
   "source": [
    "## Tuning Decision Trees"
   ]
  },
  {
   "cell_type": "code",
   "execution_count": 21,
   "id": "9940c61e-c2d5-45c4-8991-6bae895b8ce9",
   "metadata": {},
   "outputs": [],
   "source": [
    "# # Grid_search for Decision Trees\n",
    "# pipeline_dtc = Pipeline([( \"preprocessor\" , preprocessor),\n",
    "#                        (\"dtc\",DecisionTreeClassifier())])\n",
    "\n",
    "# parameters_dtc = {}\n",
    "# parameters_dtc['dtc__criterion'] = ['gini', 'entropy']\n",
    "# parameters_dtc['dtc__min_samples_leaf'] = [1, 5, 10]\n",
    "# parameters_dtc['dtc__max_depth'] = [3, 5, 10, 15, 25]\n",
    "# parameters_dtc['dtc__max_features'] = [5, 10, 15, 25]\n",
    "# parameters_dtc['dtc__min_impurity_decrease'] = [0, 0.1, 0.2]\n",
    "\n",
    "# gs_dtc=GridSearchCV(pipeline_dtc,parameters_dtc)\n",
    "\n",
    "# gs_dtc.fit(X_train,y_train.seasonal_vaccine)\n",
    "\n",
    "# gs_dtc.best_params_"
   ]
  },
  {
   "cell_type": "code",
   "execution_count": 22,
   "id": "63b25d54-7766-4419-9e89-140497361e1f",
   "metadata": {},
   "outputs": [
    {
     "name": "stdout",
     "output_type": "stream",
     "text": [
      "Decision Tree\n",
      "{'Decision Tree': {'regressor': DecisionTreeClassifier(max_depth=10, max_features=25, min_samples_leaf=10), 'preprocessor': ColumnTransformer(transformers=[('num',\n",
      "                                 Pipeline(steps=[('imputer',\n",
      "                                                  SimpleImputer(add_indicator=True,\n",
      "                                                                strategy='median'))]),\n",
      "                                 ['h1n1_concern', 'h1n1_knowledge',\n",
      "                                  'behavioral_antiviral_meds',\n",
      "                                  'behavioral_avoidance',\n",
      "                                  'behavioral_face_mask',\n",
      "                                  'behavioral_wash_hands',\n",
      "                                  'behavioral_large_gatherings',\n",
      "                                  'behavioral_outside_home',\n",
      "                                  'behavioral_touch_face', 'doctor_recc_h1n1'...\n",
      "                                  'opinion_h1n1_vacc_effective',\n",
      "                                  'opinion_h1n1_risk',\n",
      "                                  'opinion_h1n1_sick_from_vacc',\n",
      "                                  'opinion_seas_vacc_effective',\n",
      "                                  'opinion_seas_risk',\n",
      "                                  'opinion_seas_sick_from_vacc',\n",
      "                                  'household_adults', 'household_children']),\n",
      "                                ('cat', OneHotEncoder(handle_unknown='ignore'),\n",
      "                                 ['age_group', 'education', 'race', 'sex',\n",
      "                                  'income_poverty', 'marital_status',\n",
      "                                  'rent_or_own', 'employment_status',\n",
      "                                  'census_msa'])]), 'fit_regressor': DecisionTreeClassifier(max_depth=10, max_features=25, min_samples_leaf=10)}}\n",
      "Training Precision:  0.7798494889363136\n",
      "Testing Precision:  0.7406779661016949\n",
      "-----\n",
      "Training Recall:  0.7447173656548322\n",
      "Testing Recall:  0.702120822622108\n",
      "-----\n",
      "Training Accuracy:  0.7833250124812781\n",
      "Testing Accuracy:  0.7465927811891568\n",
      "-----\n",
      "Training F1-Score:  0.7618786349171514\n",
      "Testing F1-Score:  0.720884196634774\n",
      "Area under the curve for Decision Tree Tuned model: 0.7275307636007023.\n"
     ]
    }
   ],
   "source": [
    "model_dtc_tuned = {'Decision Tree':\n",
    "              {'regressor': DecisionTreeClassifier(criterion='gini', max_depth=10, min_samples_leaf=10, max_features=25),\n",
    "               'preprocessor': preprocessor}}\n",
    "\n",
    "model = 'Decision Tree' \n",
    "print(model)\n",
    "X_train_processed = model_dtc_tuned[model]['preprocessor'].fit_transform(X_train)\n",
    "X_test_processed = model_dtc_tuned[model]['preprocessor'].transform(X_test)\n",
    "model_dtc_tuned[model]['fit_regressor'] = model_dtc_tuned[model]['regressor'].fit(X_train_processed, y_train.seasonal_vaccine)\n",
    "print(model_dtc_tuned)\n",
    "precision_dict_tuned[model], accuracy_dict_tuned[model], y_test_hat = model_predictions(model_dtc_tuned[model]['fit_regressor'], X_train_processed, y_train.seasonal_vaccine, X_test_processed, y_test.seasonal_vaccine)\n",
    "\n",
    "\n",
    "auc_dict_tuned[model] = roc_auc_score(y_test.seasonal_vaccine, y_hat_test)\n",
    "auc = auc_dict_tuned[model]\n",
    "print(f'Area under the curve for {model} Tuned model: {auc}.')"
   ]
  },
  {
   "cell_type": "markdown",
   "id": "f48fbf4e-6a28-4527-808f-82d03404ac4c",
   "metadata": {},
   "source": [
    "## Tuning Random Forest"
   ]
  },
  {
   "cell_type": "code",
   "execution_count": 23,
   "id": "dc9b8aa6-9e75-4424-8eec-20f16ceb101f",
   "metadata": {},
   "outputs": [],
   "source": [
    "# # Grid_search for Random Forest\n",
    "# pipeline_rfc = Pipeline([( \"preprocessor\" , preprocessor),\n",
    "#                        (\"rfc\",RandomForestClassifier())])\n",
    "\n",
    "# parameters_rfc = {}\n",
    "# parameters_rfc['rfc__criterion'] = ['gini', 'entropy']\n",
    "# parameters_rfc['rfc__min_samples_leaf'] = [1, 5, 10]\n",
    "# parameters_rfc['rfc__max_depth'] = [1, 3, 5, 10, 15, 25]\n",
    "\n",
    "# gs_rfc=GridSearchCV(pipeline_rfc,parameters_rfc)\n",
    "\n",
    "# gs_rfc.fit(X_train,y_train.seasonal_vaccine)\n",
    "\n",
    "# gs_rfc.best_params_"
   ]
  },
  {
   "cell_type": "code",
   "execution_count": 24,
   "id": "b47176b2-354a-404a-b1f4-d27451c7718c",
   "metadata": {},
   "outputs": [
    {
     "name": "stdout",
     "output_type": "stream",
     "text": [
      "Random Forest\n",
      "{'Random Forest': {'regressor': RandomForestClassifier(max_depth=15, min_samples_leaf=5), 'preprocessor': ColumnTransformer(transformers=[('num',\n",
      "                                 Pipeline(steps=[('imputer',\n",
      "                                                  SimpleImputer(add_indicator=True,\n",
      "                                                                strategy='median'))]),\n",
      "                                 ['h1n1_concern', 'h1n1_knowledge',\n",
      "                                  'behavioral_antiviral_meds',\n",
      "                                  'behavioral_avoidance',\n",
      "                                  'behavioral_face_mask',\n",
      "                                  'behavioral_wash_hands',\n",
      "                                  'behavioral_large_gatherings',\n",
      "                                  'behavioral_outside_home',\n",
      "                                  'behavioral_touch_face', 'doctor_recc_h1n1'...\n",
      "                                  'opinion_h1n1_vacc_effective',\n",
      "                                  'opinion_h1n1_risk',\n",
      "                                  'opinion_h1n1_sick_from_vacc',\n",
      "                                  'opinion_seas_vacc_effective',\n",
      "                                  'opinion_seas_risk',\n",
      "                                  'opinion_seas_sick_from_vacc',\n",
      "                                  'household_adults', 'household_children']),\n",
      "                                ('cat', OneHotEncoder(handle_unknown='ignore'),\n",
      "                                 ['age_group', 'education', 'race', 'sex',\n",
      "                                  'income_poverty', 'marital_status',\n",
      "                                  'rent_or_own', 'employment_status',\n",
      "                                  'census_msa'])]), 'fit_regressor': RandomForestClassifier(max_depth=15, min_samples_leaf=5)}}\n",
      "Training Precision:  0.8475050346833743\n",
      "Testing Precision:  0.7763426240652618\n",
      "-----\n",
      "Training Recall:  0.8125067038506918\n",
      "Testing Recall:  0.7339331619537275\n",
      "-----\n",
      "Training Accuracy:  0.8446829755366949\n",
      "Testing Accuracy:  0.7774449603115171\n",
      "-----\n",
      "Training F1-Score:  0.8296369311647773\n",
      "Testing F1-Score:  0.7545424512718863\n",
      "Area under the curve for Random Forest Tuned model: 0.7275307636007023.\n"
     ]
    }
   ],
   "source": [
    "model_rfc_tuned = {'Random Forest':\n",
    "              {'regressor': RandomForestClassifier(criterion='gini', max_depth=15, min_samples_leaf=5),\n",
    "               'preprocessor': preprocessor}}\n",
    "\n",
    "model = 'Random Forest' \n",
    "print(model)\n",
    "X_train_processed = model_rfc_tuned[model]['preprocessor'].fit_transform(X_train)\n",
    "X_test_processed = model_rfc_tuned[model]['preprocessor'].transform(X_test)\n",
    "model_rfc_tuned[model]['fit_regressor'] = model_rfc_tuned[model]['regressor'].fit(X_train_processed, y_train.seasonal_vaccine)\n",
    "print(model_rfc_tuned)\n",
    "precision_dict_tuned[model], accuracy_dict_tuned[model], y_test_hat = model_predictions(model_rfc_tuned[model]['fit_regressor'], X_train_processed, y_train.seasonal_vaccine, X_test_processed, y_test.seasonal_vaccine)\n",
    "\n",
    "\n",
    "auc_dict_tuned[model] = roc_auc_score(y_test.seasonal_vaccine, y_hat_test)\n",
    "auc = auc_dict_tuned[model]\n",
    "print(f'Area under the curve for {model} Tuned model: {auc}.')"
   ]
  },
  {
   "cell_type": "markdown",
   "id": "5dfbd601-b920-477e-98d3-9526288968f4",
   "metadata": {},
   "source": [
    "## Tuning Random Forest #2"
   ]
  },
  {
   "cell_type": "code",
   "execution_count": 25,
   "id": "6609e92b-9a7a-4bb6-a142-ca510a190d3f",
   "metadata": {},
   "outputs": [],
   "source": [
    "# # Grid_search for Random Forest #2\n",
    "# pipeline_rfc = Pipeline([( \"preprocessor\" , preprocessor),\n",
    "#                        (\"rfc\",RandomForestClassifier(criterion='gini', min_samples_leaf=5))])\n",
    "\n",
    "# parameters_rfc = {}\n",
    "# parameters_rfc['rfc__max_depth'] = [3, 5]\n",
    "# parameters_rfc['rfc__ccp_alpha'] = [0, 0.1, 0.5, 1, 2]\n",
    "# parameters_rfc['rfc__n_estimators'] = [50, 100, 250, 500]\n",
    "\n",
    "\n",
    "# gs_rfc=GridSearchCV(pipeline_rfc,parameters_rfc)\n",
    "\n",
    "# gs_rfc.fit(X_train,y_train.seasonal_vaccine)\n",
    "\n",
    "# gs_rfc.best_params_"
   ]
  },
  {
   "cell_type": "code",
   "execution_count": 26,
   "id": "4eff555b-7c6f-420c-a870-3e589f1106da",
   "metadata": {},
   "outputs": [
    {
     "name": "stdout",
     "output_type": "stream",
     "text": [
      "Random Forest\n",
      "{'Random Forest': {'regressor': RandomForestClassifier(max_depth=5, min_samples_leaf=5, n_estimators=500), 'preprocessor': ColumnTransformer(transformers=[('num',\n",
      "                                 Pipeline(steps=[('imputer',\n",
      "                                                  SimpleImputer(add_indicator=True,\n",
      "                                                                strategy='median'))]),\n",
      "                                 ['h1n1_concern', 'h1n1_knowledge',\n",
      "                                  'behavioral_antiviral_meds',\n",
      "                                  'behavioral_avoidance',\n",
      "                                  'behavioral_face_mask',\n",
      "                                  'behavioral_wash_hands',\n",
      "                                  'behavioral_large_gatherings',\n",
      "                                  'behavioral_outside_home',\n",
      "                                  'behavioral_touch_face', 'doctor_recc_h1n1'...\n",
      "                                  'opinion_h1n1_vacc_effective',\n",
      "                                  'opinion_h1n1_risk',\n",
      "                                  'opinion_h1n1_sick_from_vacc',\n",
      "                                  'opinion_seas_vacc_effective',\n",
      "                                  'opinion_seas_risk',\n",
      "                                  'opinion_seas_sick_from_vacc',\n",
      "                                  'household_adults', 'household_children']),\n",
      "                                ('cat', OneHotEncoder(handle_unknown='ignore'),\n",
      "                                 ['age_group', 'education', 'race', 'sex',\n",
      "                                  'income_poverty', 'marital_status',\n",
      "                                  'rent_or_own', 'employment_status',\n",
      "                                  'census_msa'])]), 'fit_regressor': RandomForestClassifier(max_depth=5, min_samples_leaf=5, n_estimators=500)}}\n",
      "Training Precision:  0.7841430988639111\n",
      "Testing Precision:  0.7842415316642121\n",
      "-----\n",
      "Training Recall:  0.6959133326182559\n",
      "Testing Recall:  0.6844473007712082\n",
      "-----\n",
      "Training Accuracy:  0.7692960559161258\n",
      "Testing Accuracy:  0.7651639958065\n",
      "-----\n",
      "Training F1-Score:  0.7373984201852588\n",
      "Testing F1-Score:  0.7309540150995194\n",
      "Area under the curve for Random Forest Tuned model: 0.760035712096684.\n"
     ]
    }
   ],
   "source": [
    "model_rfc_tuned = {'Random Forest':\n",
    "              {'regressor': RandomForestClassifier(criterion='gini', max_depth=5, min_samples_leaf=5, n_estimators=500),\n",
    "               'preprocessor': preprocessor}}\n",
    " \n",
    "model = 'Random Forest'\n",
    "print(model)\n",
    "X_train_processed = model_rfc_tuned[model]['preprocessor'].fit_transform(X_train)\n",
    "X_test_processed = model_rfc_tuned[model]['preprocessor'].transform(X_test)\n",
    "model_rfc_tuned[model]['fit_regressor'] = model_rfc_tuned[model]['regressor'].fit(X_train_processed, y_train.seasonal_vaccine)\n",
    "print(model_rfc_tuned)\n",
    "precision_dict_tuned[model], accuracy_dict_tuned[model], y_hat_test = model_predictions(model_rfc_tuned[model]['fit_regressor'], X_train_processed, y_train.seasonal_vaccine, X_test_processed, y_test.seasonal_vaccine)\n",
    "\n",
    "auc_dict_tuned[model] = roc_auc_score(y_test.seasonal_vaccine, y_hat_test)\n",
    "auc = auc_dict_tuned[model]\n",
    "print(f'Area under the curve for {model} Tuned model: {auc}.')"
   ]
  },
  {
   "cell_type": "markdown",
   "id": "2efc76e2-4299-4eca-9058-43bc23303811",
   "metadata": {},
   "source": [
    "## Tuning Random Forest #3"
   ]
  },
  {
   "cell_type": "code",
   "execution_count": 27,
   "id": "852e09cf-7fb9-45e9-a6e8-647fd5fb15f6",
   "metadata": {},
   "outputs": [],
   "source": [
    "# # Randomized_search for Random Forest #3\n",
    "# pipeline_rfc = Pipeline([( \"preprocessor\" , preprocessor),\n",
    "#                        (\"rfc\",RandomForestClassifier(min_samples_leaf=5, max_depth=5, n_estimators=100))])\n",
    "\n",
    "# parameters_rfc = {}\n",
    "# parameters_rfc['rfc__criterion'] = ['gini', 'entropy']\n",
    "# parameters_rfc['rfc__max_features'] = [9, 11, 15, 19]\n",
    "\n",
    "# gs_rfc=RandomizedSearchCV(pipeline_rfc,parameters_rfc)\n",
    "\n",
    "# gs_rfc.fit(X_train,y_train.seasonal_vaccine)\n",
    "\n",
    "# gs_rfc.best_params_"
   ]
  },
  {
   "cell_type": "code",
   "execution_count": 29,
   "id": "81bb21dd-f365-4121-85d1-9b135f706353",
   "metadata": {},
   "outputs": [
    {
     "name": "stdout",
     "output_type": "stream",
     "text": [
      "Random Forest\n",
      "{'Random Forest': {'regressor': RandomForestClassifier(criterion='entropy', max_depth=5, max_features=11,\n",
      "                       min_samples_leaf=5, n_estimators=500), 'preprocessor': ColumnTransformer(transformers=[('num',\n",
      "                                 Pipeline(steps=[('imputer',\n",
      "                                                  SimpleImputer(add_indicator=True,\n",
      "                                                                strategy='median'))]),\n",
      "                                 ['h1n1_concern', 'h1n1_knowledge',\n",
      "                                  'behavioral_antiviral_meds',\n",
      "                                  'behavioral_avoidance',\n",
      "                                  'behavioral_face_mask',\n",
      "                                  'behavioral_wash_hands',\n",
      "                                  'behavioral_large_gatherings',\n",
      "                                  'behavioral_outside_home',\n",
      "                                  'behavioral_touch_face', 'doctor_recc_h1n1'...\n",
      "                                  'opinion_h1n1_vacc_effective',\n",
      "                                  'opinion_h1n1_risk',\n",
      "                                  'opinion_h1n1_sick_from_vacc',\n",
      "                                  'opinion_seas_vacc_effective',\n",
      "                                  'opinion_seas_risk',\n",
      "                                  'opinion_seas_sick_from_vacc',\n",
      "                                  'household_adults', 'household_children']),\n",
      "                                ('cat', OneHotEncoder(handle_unknown='ignore'),\n",
      "                                 ['age_group', 'education', 'race', 'sex',\n",
      "                                  'income_poverty', 'marital_status',\n",
      "                                  'rent_or_own', 'employment_status',\n",
      "                                  'census_msa'])]), 'fit_regressor': RandomForestClassifier(criterion='entropy', max_depth=5, max_features=11,\n",
      "                       min_samples_leaf=5, n_estimators=500)}}\n",
      "Training Precision:  0.780871234849394\n",
      "Testing Precision:  0.7828153564899452\n",
      "-----\n",
      "Training Recall:  0.6979513032285745\n",
      "Testing Recall:  0.6879820051413882\n",
      "-----\n",
      "Training Accuracy:  0.7682476285571642\n",
      "Testing Accuracy:  0.7656132993859518\n",
      "-----\n",
      "Training F1-Score:  0.7370865428183054\n",
      "Testing F1-Score:  0.7323413716435779\n",
      "Area under the curve for Random Forest Tuned model: 0.7606810446464304.\n"
     ]
    }
   ],
   "source": [
    "model_rfc_tuned = {'Random Forest':\n",
    "              {'regressor': RandomForestClassifier(criterion='entropy', max_depth=5, min_samples_leaf=5, n_estimators=500, max_features=11),\n",
    "               'preprocessor': preprocessor}}\n",
    " \n",
    "model = 'Random Forest'\n",
    "print(model)\n",
    "X_train_processed = model_rfc_tuned[model]['preprocessor'].fit_transform(X_train)\n",
    "X_test_processed = model_rfc_tuned[model]['preprocessor'].transform(X_test)\n",
    "model_rfc_tuned[model]['fit_regressor'] = model_rfc_tuned[model]['regressor'].fit(X_train_processed, y_train.seasonal_vaccine)\n",
    "print(model_rfc_tuned)\n",
    "precision_dict_tuned[model], accuracy_dict_tuned[model], y_hat_test = model_predictions(model_rfc_tuned[model]['fit_regressor'], X_train_processed, y_train.seasonal_vaccine, X_test_processed, y_test.seasonal_vaccine)\n",
    "\n",
    "auc_dict_tuned[model] = roc_auc_score(y_test.seasonal_vaccine, y_hat_test)\n",
    "auc = auc_dict_tuned[model]\n",
    "print(f'Area under the curve for {model} Tuned model: {auc}.')"
   ]
  },
  {
   "cell_type": "markdown",
   "id": "d0e96f64-35ec-4f84-85ef-e77b64ad7e9b",
   "metadata": {},
   "source": [
    "## Tuning Gradient Boosting"
   ]
  },
  {
   "cell_type": "code",
   "execution_count": null,
   "id": "1850b0e5-1299-4f9d-9dd5-c16ef9b32729",
   "metadata": {},
   "outputs": [],
   "source": [
    "# # Grid_search for Gradient Boosting\n",
    "# pipeline_gbc = Pipeline([( \"preprocessor\" , preprocessor),\n",
    "#                        (\"gbc\",GradientBoostingClassifier(n_estimators=100, learning_rate=0.1))])\n",
    "\n",
    "# parameters_gbc = {}\n",
    "# parameters_gbc['gbc__min_samples_leaf'] = [1, 5, 10]\n",
    "# parameters_gbc['gbc__max_depth'] = [3, 5, 10, 15, 20]\n",
    "\n",
    "# gs_gbc=GridSearchCV(pipeline_gbc,parameters_gbc)\n",
    "\n",
    "# gs_gbc.fit(X_train,y_train.seasonal_vaccine)\n",
    "\n",
    "# gs_gbc.best_params_"
   ]
  },
  {
   "cell_type": "code",
   "execution_count": 31,
   "id": "422f00df-f876-4147-a2b8-e7f1ed75c201",
   "metadata": {},
   "outputs": [
    {
     "name": "stdout",
     "output_type": "stream",
     "text": [
      "Gradient Boosting\n",
      "{'Gradient Boosting': {'regressor': GradientBoostingClassifier(max_depth=5, min_samples_leaf=5), 'preprocessor': ColumnTransformer(transformers=[('num',\n",
      "                                 Pipeline(steps=[('imputer',\n",
      "                                                  SimpleImputer(add_indicator=True,\n",
      "                                                                strategy='median'))]),\n",
      "                                 ['h1n1_concern', 'h1n1_knowledge',\n",
      "                                  'behavioral_antiviral_meds',\n",
      "                                  'behavioral_avoidance',\n",
      "                                  'behavioral_face_mask',\n",
      "                                  'behavioral_wash_hands',\n",
      "                                  'behavioral_large_gatherings',\n",
      "                                  'behavioral_outside_home',\n",
      "                                  'behavioral_touch_face', 'doctor_recc_h1n1'...\n",
      "                                  'opinion_h1n1_vacc_effective',\n",
      "                                  'opinion_h1n1_risk',\n",
      "                                  'opinion_h1n1_sick_from_vacc',\n",
      "                                  'opinion_seas_vacc_effective',\n",
      "                                  'opinion_seas_risk',\n",
      "                                  'opinion_seas_sick_from_vacc',\n",
      "                                  'household_adults', 'household_children']),\n",
      "                                ('cat', OneHotEncoder(handle_unknown='ignore'),\n",
      "                                 ['age_group', 'education', 'race', 'sex',\n",
      "                                  'income_poverty', 'marital_status',\n",
      "                                  'rent_or_own', 'employment_status',\n",
      "                                  'census_msa'])]), 'fit_regressor': GradientBoostingClassifier(max_depth=5, min_samples_leaf=5)}}\n",
      "Training Precision:  0.8092931072451002\n",
      "Testing Precision:  0.7825210084033614\n",
      "-----\n",
      "Training Recall:  0.7883728413600772\n",
      "Testing Recall:  0.7480719794344473\n",
      "-----\n",
      "Training Accuracy:  0.8150274588117823\n",
      "Testing Accuracy:  0.7856821926014678\n",
      "-----\n",
      "Training F1-Score:  0.7986960065199674\n",
      "Testing F1-Score:  0.7649088220798423\n",
      "Area under the curve for Gradient Boosting Tuned model: 0.7832926517088085.\n"
     ]
    },
    {
     "data": {
      "text/plain": [
       "<sklearn.metrics._plot.confusion_matrix.ConfusionMatrixDisplay at 0x266cf38c1f0>"
      ]
     },
     "execution_count": 31,
     "metadata": {},
     "output_type": "execute_result"
    },
    {
     "data": {
      "image/png": "[encoded data removed]",
      "text/plain": [
       "<Figure size 432x288 with 2 Axes>"
      ]
     },
     "metadata": {
      "needs_background": "light"
     },
     "output_type": "display_data"
    }
   ],
   "source": [
    "model_gbc_tuned = {'Gradient Boosting':\n",
    "              {'regressor': GradientBoostingClassifier(min_samples_leaf=5, max_depth=5),\n",
    "               'preprocessor': preprocessor}}\n",
    "\n",
    "model = 'Gradient Boosting'\n",
    "print(model)\n",
    "X_train_processed = model_gbc_tuned[model]['preprocessor'].fit_transform(X_train)\n",
    "X_test_processed = model_gbc_tuned[model]['preprocessor'].transform(X_test)\n",
    "model_gbc_tuned[model]['fit_regressor'] = model_gbc_tuned[model]['regressor'].fit(X_train_processed, y_train.seasonal_vaccine)\n",
    "print(model_gbc_tuned)\n",
    "precision_dict_tuned[model], accuracy_dict_tuned[model], y_hat_test = model_predictions(model_gbc_tuned[model]['fit_regressor'], X_train_processed, y_train.seasonal_vaccine, X_test_processed, y_test.seasonal_vaccine)\n",
    "\n",
    "auc_dict_tuned[model] = roc_auc_score(y_test.seasonal_vaccine, y_hat_test)\n",
    "auc = auc_dict_tuned[model]\n",
    "print(f'Area under the curve for {model} Tuned model: {auc}.')\n",
    "cm_gbc = confusion_matrix(y_test.seasonal_vaccine, y_hat_test)\n",
    "ConfusionMatrixDisplay(cm_gbc, display_labels=['Not \\nvacced', 'Vacced']).plot()"
   ]
  },
  {
   "cell_type": "markdown",
   "id": "f30afa2a-dde9-4fc1-bb7b-c4020a7ca37b",
   "metadata": {},
   "source": [
    "### Tuning Gradient Boost #2"
   ]
  },
  {
   "cell_type": "code",
   "execution_count": 65,
   "id": "b3b7acb1-9392-4f67-9386-45f575146feb",
   "metadata": {},
   "outputs": [
    {
     "data": {
      "text/plain": [
       "{'gbc__max_depth': 3, 'gbc__min_samples_leaf': 5}"
      ]
     },
     "execution_count": 65,
     "metadata": {},
     "output_type": "execute_result"
    }
   ],
   "source": [
    "# # Grid_search for Gradient Boosting #2\n",
    "# pipeline_gbc = Pipeline([( \"preprocessor\" , preprocessor),\n",
    "#                        (\"gbc\",GradientBoostingClassifier(n_estimators=500, learning_rate=0.1))])\n",
    "\n",
    "# parameters_gbc = {}\n",
    "# parameters_gbc['gbc__min_samples_leaf'] = [5, 10]#[1, 5, 10]\n",
    "# parameters_gbc['gbc__max_depth'] = [3, 5, 10]#, 15, 20]\n",
    "\n",
    "# gs_gbc=GridSearchCV(pipeline_gbc,parameters_gbc)\n",
    "\n",
    "# gs_gbc.fit(X_train,y_train.seasonal_vaccine)\n",
    "\n",
    "# gs_gbc.best_params_"
   ]
  },
  {
   "cell_type": "code",
   "execution_count": 32,
   "id": "553c1792-9e0b-4294-99fc-bab87c650433",
   "metadata": {},
   "outputs": [
    {
     "name": "stdout",
     "output_type": "stream",
     "text": [
      "Gradient Boosting 2\n",
      "{'Gradient Boosting 2': {'regressor': GradientBoostingClassifier(learning_rate=0.01, max_depth=5, min_samples_leaf=5,\n",
      "                           n_estimators=500), 'preprocessor': ColumnTransformer(transformers=[('num',\n",
      "                                 Pipeline(steps=[('imputer',\n",
      "                                                  SimpleImputer(add_indicator=True,\n",
      "                                                                strategy='median'))]),\n",
      "                                 ['h1n1_concern', 'h1n1_knowledge',\n",
      "                                  'behavioral_antiviral_meds',\n",
      "                                  'behavioral_avoidance',\n",
      "                                  'behavioral_face_mask',\n",
      "                                  'behavioral_wash_hands',\n",
      "                                  'behavioral_large_gatherings',\n",
      "                                  'behavioral_outside_home',\n",
      "                                  'behavioral_touch_face', 'doctor_recc_h1n1'...\n",
      "                                  'opinion_h1n1_vacc_effective',\n",
      "                                  'opinion_h1n1_risk',\n",
      "                                  'opinion_h1n1_sick_from_vacc',\n",
      "                                  'opinion_seas_vacc_effective',\n",
      "                                  'opinion_seas_risk',\n",
      "                                  'opinion_seas_sick_from_vacc',\n",
      "                                  'household_adults', 'household_children']),\n",
      "                                ('cat', OneHotEncoder(handle_unknown='ignore'),\n",
      "                                 ['age_group', 'education', 'race', 'sex',\n",
      "                                  'income_poverty', 'marital_status',\n",
      "                                  'rent_or_own', 'employment_status',\n",
      "                                  'census_msa'])]), 'fit_regressor': GradientBoostingClassifier(learning_rate=0.01, max_depth=5, min_samples_leaf=5,\n",
      "                           n_estimators=500)}}\n",
      "Training Precision:  0.7965463803409343\n",
      "Testing Precision:  0.7834738617200675\n",
      "-----\n",
      "Training Recall:  0.7718545532553899\n",
      "Testing Recall:  0.74646529562982\n",
      "-----\n",
      "Training Accuracy:  0.8020469296055917\n",
      "Testing Accuracy:  0.7856821926014678\n",
      "-----\n",
      "Training F1-Score:  0.7840061012147954\n",
      "Testing F1-Score:  0.7645219680763534\n",
      "Area under the curve for Gradient Boosting 2 Tuned model: 0.7831905720785846.\n"
     ]
    },
    {
     "data": {
      "text/plain": [
       "<sklearn.metrics._plot.confusion_matrix.ConfusionMatrixDisplay at 0x266ce99d880>"
      ]
     },
     "execution_count": 32,
     "metadata": {},
     "output_type": "execute_result"
    },
    {
     "data": {
      "image/png": "[encoded data removed]",
      "text/plain": [
       "<Figure size 432x288 with 2 Axes>"
      ]
     },
     "metadata": {
      "needs_background": "light"
     },
     "output_type": "display_data"
    }
   ],
   "source": [
    "model_gbc_tuned_2 = {'Gradient Boosting 2':\n",
    "              {'regressor': GradientBoostingClassifier(min_samples_leaf=5, max_depth=5, n_estimators=500, learning_rate=0.01),\n",
    "               'preprocessor': preprocessor}}\n",
    "\n",
    "model = 'Gradient Boosting 2'\n",
    "print('Gradient Boosting 2')\n",
    "X_train_processed = model_gbc_tuned_2[model]['preprocessor'].fit_transform(X_train)\n",
    "X_test_processed = model_gbc_tuned_2[model]['preprocessor'].transform(X_test)\n",
    "model_gbc_tuned_2[model]['fit_regressor'] = model_gbc_tuned_2[model]['regressor'].fit(X_train_processed, y_train.seasonal_vaccine)\n",
    "print(model_gbc_tuned_2)\n",
    "precision_dict_tuned[model], accuracy_dict_tuned[model], y_hat_test = model_predictions(model_gbc_tuned_2[model]['fit_regressor'], X_train_processed, y_train.seasonal_vaccine, X_test_processed, y_test.seasonal_vaccine)\n",
    "\n",
    "auc_dict_tuned[model] = roc_auc_score(y_test.seasonal_vaccine, y_hat_test)\n",
    "auc = auc_dict_tuned[model]\n",
    "print(f'Area under the curve for {model} Tuned model: {auc}.')\n",
    "cm_gbc = confusion_matrix(y_test.seasonal_vaccine, y_hat_test)\n",
    "ConfusionMatrixDisplay(cm_gbc, display_labels=['Not \\nvacced', 'Vacced']).plot()"
   ]
  },
  {
   "cell_type": "code",
   "execution_count": 36,
   "id": "c893fe03-483f-4095-aa9a-071cb6206af1",
   "metadata": {},
   "outputs": [
    {
     "name": "stdout",
     "output_type": "stream",
     "text": [
      "Gradient Boosting 3\n",
      "{'Gradient Boosting 3': {'regressor': GradientBoostingClassifier(learning_rate=0.001, max_depth=6, min_samples_leaf=5), 'preprocessor': ColumnTransformer(transformers=[('num',\n",
      "                                 Pipeline(steps=[('imputer',\n",
      "                                                  SimpleImputer(add_indicator=True,\n",
      "                                                                strategy='median'))]),\n",
      "                                 ['h1n1_concern', 'h1n1_knowledge',\n",
      "                                  'behavioral_antiviral_meds',\n",
      "                                  'behavioral_avoidance',\n",
      "                                  'behavioral_face_mask',\n",
      "                                  'behavioral_wash_hands',\n",
      "                                  'behavioral_large_gatherings',\n",
      "                                  'behavioral_outside_home',\n",
      "                                  'behavioral_touch_face', 'doctor_recc_h1n1'...\n",
      "                                  'opinion_h1n1_vacc_effective',\n",
      "                                  'opinion_h1n1_risk',\n",
      "                                  'opinion_h1n1_sick_from_vacc',\n",
      "                                  'opinion_seas_vacc_effective',\n",
      "                                  'opinion_seas_risk',\n",
      "                                  'opinion_seas_sick_from_vacc',\n",
      "                                  'household_adults', 'household_children']),\n",
      "                                ('cat', OneHotEncoder(handle_unknown='ignore'),\n",
      "                                 ['age_group', 'education', 'race', 'sex',\n",
      "                                  'income_poverty', 'marital_status',\n",
      "                                  'rent_or_own', 'employment_status',\n",
      "                                  'census_msa'])]), 'fit_regressor': GradientBoostingClassifier(learning_rate=0.001, max_depth=6, min_samples_leaf=5)}}\n",
      "Training Precision:  0.9249633967789166\n",
      "Testing Precision:  0.9101861993428259\n",
      "-----\n",
      "Training Recall:  0.2710500911723694\n",
      "Testing Recall:  0.26703084832904883\n",
      "-----\n",
      "Training Accuracy:  0.6504742885671493\n",
      "Testing Accuracy:  0.6460985472517597\n",
      "-----\n",
      "Training F1-Score:  0.4192451265035255\n",
      "Testing F1-Score:  0.41291925465838514\n",
      "Area under the curve for Gradient Boosting 3 Tuned model: 0.6220147229022523.\n"
     ]
    },
    {
     "data": {
      "text/plain": [
       "<sklearn.metrics._plot.confusion_matrix.ConfusionMatrixDisplay at 0x266d0179790>"
      ]
     },
     "execution_count": 36,
     "metadata": {},
     "output_type": "execute_result"
    },
    {
     "data": {
      "image/png": "[encoded data removed]",
      "text/plain": [
       "<Figure size 432x288 with 2 Axes>"
      ]
     },
     "metadata": {
      "needs_background": "light"
     },
     "output_type": "display_data"
    }
   ],
   "source": [
    "model_gbc_tuned_3 = {'Gradient Boosting 3':\n",
    "              {'regressor': GradientBoostingClassifier(min_samples_leaf=5, max_depth=6, n_estimators=100, learning_rate=0.001),\n",
    "               'preprocessor': preprocessor}}\n",
    "\n",
    "model = 'Gradient Boosting 3'\n",
    "print(model)\n",
    "X_train_processed = model_gbc_tuned_3[model]['preprocessor'].fit_transform(X_train)\n",
    "X_test_processed = model_gbc_tuned_3[model]['preprocessor'].transform(X_test)\n",
    "model_gbc_tuned_3[model]['fit_regressor'] = model_gbc_tuned_3[model]['regressor'].fit(X_train_processed, y_train.seasonal_vaccine)\n",
    "print(model_gbc_tuned_3)\n",
    "precision_dict_tuned[model], accuracy_dict_tuned[model], y_hat_test = model_predictions(model_gbc_tuned_3[model]['fit_regressor'], X_train_processed, y_train.seasonal_vaccine, X_test_processed, y_test.seasonal_vaccine)\n",
    "\n",
    "auc_dict_tuned[model] = roc_auc_score(y_test.seasonal_vaccine, y_hat_test)\n",
    "auc = auc_dict_tuned[model]\n",
    "print(f'Area under the curve for {model} Tuned model: {auc}.')\n",
    "cm_gbc = confusion_matrix(y_test.seasonal_vaccine, y_hat_test)\n",
    "ConfusionMatrixDisplay(cm_gbc, display_labels=['Not \\nvacced', 'Vacced']).plot()"
   ]
  },
  {
   "cell_type": "code",
   "execution_count": 33,
   "id": "f14182fc-d04a-40b6-93c8-a90fd5547bdc",
   "metadata": {},
   "outputs": [
    {
     "name": "stdout",
     "output_type": "stream",
     "text": [
      "Gradient Boosting 4\n",
      "{'Gradient Boosting 4': {'regressor': GradientBoostingClassifier(learning_rate=0.001, max_depth=5, min_samples_leaf=5,\n",
      "                           n_estimators=500), 'preprocessor': ColumnTransformer(transformers=[('num',\n",
      "                                 Pipeline(steps=[('imputer',\n",
      "                                                  SimpleImputer(add_indicator=True,\n",
      "                                                                strategy='median'))]),\n",
      "                                 ['h1n1_concern', 'h1n1_knowledge',\n",
      "                                  'behavioral_antiviral_meds',\n",
      "                                  'behavioral_avoidance',\n",
      "                                  'behavioral_face_mask',\n",
      "                                  'behavioral_wash_hands',\n",
      "                                  'behavioral_large_gatherings',\n",
      "                                  'behavioral_outside_home',\n",
      "                                  'behavioral_touch_face', 'doctor_recc_h1n1'...\n",
      "                                  'opinion_h1n1_vacc_effective',\n",
      "                                  'opinion_h1n1_risk',\n",
      "                                  'opinion_h1n1_sick_from_vacc',\n",
      "                                  'opinion_seas_vacc_effective',\n",
      "                                  'opinion_seas_risk',\n",
      "                                  'opinion_seas_sick_from_vacc',\n",
      "                                  'household_adults', 'household_children']),\n",
      "                                ('cat', OneHotEncoder(handle_unknown='ignore'),\n",
      "                                 ['age_group', 'education', 'race', 'sex',\n",
      "                                  'income_poverty', 'marital_status',\n",
      "                                  'rent_or_own', 'employment_status',\n",
      "                                  'census_msa'])]), 'fit_regressor': GradientBoostingClassifier(learning_rate=0.001, max_depth=5, min_samples_leaf=5,\n",
      "                           n_estimators=500)}}\n",
      "Training Precision:  0.7988196721311476\n",
      "Testing Precision:  0.7945368171021377\n",
      "-----\n",
      "Training Recall:  0.6533304730237048\n",
      "Testing Recall:  0.6449228791773779\n",
      "-----\n",
      "Training Accuracy:  0.7620569146280579\n",
      "Testing Accuracy:  0.7567769956567321\n",
      "-----\n",
      "Training F1-Score:  0.7187868775076705\n",
      "Testing F1-Score:  0.7119545938275984\n",
      "Area under the curve for Gradient Boosting 4 Tuned model: 0.7496704157457716.\n"
     ]
    },
    {
     "data": {
      "text/plain": [
       "<sklearn.metrics._plot.confusion_matrix.ConfusionMatrixDisplay at 0x266d022cb80>"
      ]
     },
     "execution_count": 33,
     "metadata": {},
     "output_type": "execute_result"
    },
    {
     "data": {
      "image/png": "[encoded data removed]",
      "text/plain": [
       "<Figure size 432x288 with 2 Axes>"
      ]
     },
     "metadata": {
      "needs_background": "light"
     },
     "output_type": "display_data"
    }
   ],
   "source": [
    "model_gbc_tuned_4 = {'Gradient Boosting 4':\n",
    "              {'regressor': GradientBoostingClassifier(min_samples_leaf=5, max_depth=5, n_estimators=500, learning_rate=0.001),\n",
    "               'preprocessor': preprocessor}}\n",
    "\n",
    "model = 'Gradient Boosting 4'\n",
    "print(model)\n",
    "X_train_processed = model_gbc_tuned_4[model]['preprocessor'].fit_transform(X_train)\n",
    "X_test_processed = model_gbc_tuned_4[model]['preprocessor'].transform(X_test)\n",
    "model_gbc_tuned_4[model]['fit_regressor'] = model_gbc_tuned_4[model]['regressor'].fit(X_train_processed, y_train.seasonal_vaccine)\n",
    "print(model_gbc_tuned_4)\n",
    "precision_dict_tuned[model], accuracy_dict_tuned[model], y_hat_test = model_predictions(model_gbc_tuned_4[model]['fit_regressor'], X_train_processed, y_train.seasonal_vaccine, X_test_processed, y_test.seasonal_vaccine)\n",
    "\n",
    "auc_dict_tuned[model] = roc_auc_score(y_test.seasonal_vaccine, y_hat_test)\n",
    "auc = auc_dict_tuned[model]\n",
    "print(f'Area under the curve for {model} Tuned model: {auc}.')\n",
    "cm_gbc = confusion_matrix(y_test.seasonal_vaccine, y_hat_test)\n",
    "ConfusionMatrixDisplay(cm_gbc, display_labels=['Not \\nvacced', 'Vacced']).plot()"
   ]
  },
  {
   "cell_type": "code",
   "execution_count": 92,
   "id": "a23202d4-7191-441c-b3e1-788caf877e9e",
   "metadata": {},
   "outputs": [
    {
     "name": "stdout",
     "output_type": "stream",
     "text": [
      "Gradient Boosting 5\n",
      "{'Gradient Boosting 5': {'regressor': GradientBoostingClassifier(learning_rate=0.001, max_depth=7, min_samples_leaf=5,\n",
      "                           n_estimators=500), 'preprocessor': ColumnTransformer(transformers=[('num',\n",
      "                                 Pipeline(steps=[('imputer',\n",
      "                                                  SimpleImputer(add_indicator=True,\n",
      "                                                                strategy='median'))]),\n",
      "                                 ['h1n1_concern', 'h1n1_knowledge',\n",
      "                                  'behavioral_antiviral_meds',\n",
      "                                  'behavioral_avoidance',\n",
      "                                  'behavioral_face_mask',\n",
      "                                  'behavioral_wash_hands',\n",
      "                                  'behavioral_large_gatherings',\n",
      "                                  'behavioral_outside_home',\n",
      "                                  'behavioral_touch_face', 'doctor_recc_h1n1'...\n",
      "                                  'opinion_h1n1_vacc_effective',\n",
      "                                  'opinion_h1n1_risk',\n",
      "                                  'opinion_h1n1_sick_from_vacc',\n",
      "                                  'opinion_seas_vacc_effective',\n",
      "                                  'opinion_seas_risk',\n",
      "                                  'opinion_seas_sick_from_vacc',\n",
      "                                  'household_adults', 'household_children']),\n",
      "                                ('cat', OneHotEncoder(handle_unknown='ignore'),\n",
      "                                 ['age_group', 'education', 'race', 'sex',\n",
      "                                  'income_poverty', 'marital_status',\n",
      "                                  'rent_or_own', 'employment_status',\n",
      "                                  'census_msa'])]), 'fit_regressor': GradientBoostingClassifier(learning_rate=0.001, max_depth=7, min_samples_leaf=5,\n",
      "                           n_estimators=500)}}\n",
      "Training Precision:  0.8139769998736257\n",
      "Testing Precision:  0.7938814531548757\n",
      "-----\n",
      "Training Recall:  0.6908720368979943\n",
      "Testing Recall:  0.6670951156812339\n",
      "-----\n",
      "Training Accuracy:  0.7826260609086371\n",
      "Testing Accuracy:  0.764115620787779\n",
      "-----\n",
      "Training F1-Score:  0.7473891854258528\n",
      "Testing F1-Score:  0.7249869041382924\n",
      "Area under the curve for Gradient Boosting 5 Tuned model: 0.7579514849093406.\n"
     ]
    },
    {
     "data": {
      "text/plain": [
       "<sklearn.metrics._plot.confusion_matrix.ConfusionMatrixDisplay at 0x266d07014f0>"
      ]
     },
     "execution_count": 92,
     "metadata": {},
     "output_type": "execute_result"
    },
    {
     "data": {
      "image/png": "[encoded data removed]",
      "text/plain": [
       "<Figure size 432x288 with 2 Axes>"
      ]
     },
     "metadata": {
      "needs_background": "light"
     },
     "output_type": "display_data"
    }
   ],
   "source": [
    "model_gbc_tuned_5 = {'Gradient Boosting 5':\n",
    "              {'regressor': GradientBoostingClassifier(min_samples_leaf=5, max_depth=7, n_estimators=500, learning_rate=0.001),\n",
    "               'preprocessor': preprocessor}}\n",
    "\n",
    "model = 'Gradient Boosting 5'\n",
    "print(model)\n",
    "X_train_processed = model_gbc_tuned_5[model]['preprocessor'].fit_transform(X_train)\n",
    "X_test_processed = model_gbc_tuned_5[model]['preprocessor'].transform(X_test)\n",
    "model_gbc_tuned_5[model]['fit_regressor'] = model_gbc_tuned_5[model]['regressor'].fit(X_train_processed, y_train.seasonal_vaccine)\n",
    "print(model_gbc_tuned_5)\n",
    "precision_dict_tuned[model], accuracy_dict_tuned[model], y_hat_test = model_predictions(model_gbc_tuned_5[model]['fit_regressor'], X_train_processed, y_train.seasonal_vaccine, X_test_processed, y_test.seasonal_vaccine)\n",
    "\n",
    "auc_dict_tuned[model] = roc_auc_score(y_test.seasonal_vaccine, y_hat_test)\n",
    "auc = auc_dict_tuned[model]\n",
    "print(f'Area under the curve for {model} Tuned model: {auc}.')\n",
    "cm_gbc = confusion_matrix(y_test.seasonal_vaccine, y_hat_test)\n",
    "ConfusionMatrixDisplay(cm_gbc, display_labels=['Not \\nvacced', 'Vacced']).plot()"
   ]
  },
  {
   "cell_type": "markdown",
   "id": "bb1e0ecd-bf0a-4b36-83db-ae568e4a053e",
   "metadata": {},
   "source": [
    "## Tuning Hist Boost"
   ]
  },
  {
   "cell_type": "code",
   "execution_count": null,
   "id": "201bd369-d39e-4f9b-956b-05a2c006c39b",
   "metadata": {},
   "outputs": [],
   "source": [
    "# # Grid_search for Hist Boost\n",
    "# pipeline_hbc = Pipeline([( \"preprocessor\" , preprocessor),\n",
    "#                        (\"hbc\",HistGradientBoostingClassifier(learning_rate=0.1, max_iter=100,))])\n",
    "\n",
    "# parameters_hbc = {}\n",
    "# parameters_hbc['hbc__min_samples_leaf'] = [5, 10]\n",
    "# parameters_hbc['hbc__max_depth'] = [5, 10, 15]\n",
    "\n",
    "# gs_hbc=GridSearchCV(pipeline_hbc,parameters_hbc)\n",
    "\n",
    "# gs_hbc.fit(X_train,y_train.seasonal_vaccine)\n",
    "\n",
    "# gs_hbc.best_params_"
   ]
  },
  {
   "cell_type": "code",
   "execution_count": 39,
   "id": "17f6c6e2-e786-4f61-8069-f92f4c7d858e",
   "metadata": {},
   "outputs": [
    {
     "name": "stdout",
     "output_type": "stream",
     "text": [
      "Hist Boosting\n",
      "{'Hist Boosting': {'regressor': HistGradientBoostingClassifier(max_depth=10, min_samples_leaf=5), 'preprocessor': ColumnTransformer(transformers=[('num',\n",
      "                                 Pipeline(steps=[('imputer',\n",
      "                                                  SimpleImputer(add_indicator=True,\n",
      "                                                                strategy='median'))]),\n",
      "                                 ['h1n1_concern', 'h1n1_knowledge',\n",
      "                                  'behavioral_antiviral_meds',\n",
      "                                  'behavioral_avoidance',\n",
      "                                  'behavioral_face_mask',\n",
      "                                  'behavioral_wash_hands',\n",
      "                                  'behavioral_large_gatherings',\n",
      "                                  'behavioral_outside_home',\n",
      "                                  'behavioral_touch_face', 'doctor_recc_h1n1'...\n",
      "                                  'opinion_h1n1_vacc_effective',\n",
      "                                  'opinion_h1n1_risk',\n",
      "                                  'opinion_h1n1_sick_from_vacc',\n",
      "                                  'opinion_seas_vacc_effective',\n",
      "                                  'opinion_seas_risk',\n",
      "                                  'opinion_seas_sick_from_vacc',\n",
      "                                  'household_adults', 'household_children']),\n",
      "                                ('cat', OneHotEncoder(handle_unknown='ignore'),\n",
      "                                 ['age_group', 'education', 'race', 'sex',\n",
      "                                  'income_poverty', 'marital_status',\n",
      "                                  'rent_or_own', 'employment_status',\n",
      "                                  'census_msa'])]), 'fit_regressor': HistGradientBoostingClassifier(max_depth=10, min_samples_leaf=5)}}\n",
      "Training Precision:  0.8062007011393515\n",
      "Testing Precision:  0.7783316716517116\n",
      "-----\n",
      "Training Recall:  0.7893381958597018\n",
      "Testing Recall:  0.7525706940874036\n",
      "-----\n",
      "Training Accuracy:  0.8136295556665003\n",
      "Testing Accuracy:  0.784783585442564\n",
      "-----\n",
      "Training F1-Score:  0.7976803425288603\n",
      "Testing F1-Score:  0.7652344388171868\n",
      "Area under the curve for Hist Boosting Tuned model: 0.7827369599469275.\n"
     ]
    },
    {
     "data": {
      "text/plain": [
       "<sklearn.metrics._plot.confusion_matrix.ConfusionMatrixDisplay at 0x266cf42bac0>"
      ]
     },
     "execution_count": 39,
     "metadata": {},
     "output_type": "execute_result"
    },
    {
     "data": {
      "image/png": "[encoded data removed]",
      "text/plain": [
       "<Figure size 432x288 with 2 Axes>"
      ]
     },
     "metadata": {
      "needs_background": "light"
     },
     "output_type": "display_data"
    }
   ],
   "source": [
    "model_hbc_tuned = {'Hist Boosting':\n",
    "              {'regressor': HistGradientBoostingClassifier(max_depth=10, min_samples_leaf=5),\n",
    "               'preprocessor': preprocessor}}\n",
    "\n",
    "model = 'Hist Boosting'\n",
    "print(model)\n",
    "X_train_processed = model_hbc_tuned[model]['preprocessor'].fit_transform(X_train)\n",
    "X_test_processed = model_hbc_tuned[model]['preprocessor'].transform(X_test)\n",
    "model_hbc_tuned[model]['fit_regressor'] = model_hbc_tuned[model]['regressor'].fit(X_train_processed, y_train.seasonal_vaccine)\n",
    "print(model_hbc_tuned)\n",
    "precision_dict_tuned[model], accuracy_dict_tuned[model], y_hat_test = model_predictions(model_hbc_tuned[model]['fit_regressor'], X_train_processed, y_train.seasonal_vaccine, X_test_processed, y_test.seasonal_vaccine)\n",
    "\n",
    "auc_dict_tuned[model] = roc_auc_score(y_test.seasonal_vaccine, y_hat_test)\n",
    "auc = auc_dict_tuned[model]\n",
    "print(f'Area under the curve for {model} Tuned model: {auc}.')\n",
    "cm_hbc = confusion_matrix(y_test.seasonal_vaccine, y_hat_test)\n",
    "ConfusionMatrixDisplay(cm_hbc, display_labels=['Not \\nvacced', 'Vacced']).plot()"
   ]
  },
  {
   "cell_type": "code",
   "execution_count": 41,
   "id": "4cda42a9-98fc-4a87-afb0-2d261c0bddef",
   "metadata": {},
   "outputs": [
    {
     "name": "stdout",
     "output_type": "stream",
     "text": [
      "Hist Boosting 2\n",
      "{'Hist Boosting 2': {'regressor': HistGradientBoostingClassifier(max_depth=9, min_samples_leaf=10), 'preprocessor': ColumnTransformer(transformers=[('num',\n",
      "                                 Pipeline(steps=[('imputer',\n",
      "                                                  SimpleImputer(add_indicator=True,\n",
      "                                                                strategy='median'))]),\n",
      "                                 ['h1n1_concern', 'h1n1_knowledge',\n",
      "                                  'behavioral_antiviral_meds',\n",
      "                                  'behavioral_avoidance',\n",
      "                                  'behavioral_face_mask',\n",
      "                                  'behavioral_wash_hands',\n",
      "                                  'behavioral_large_gatherings',\n",
      "                                  'behavioral_outside_home',\n",
      "                                  'behavioral_touch_face', 'doctor_recc_h1n1'...\n",
      "                                  'opinion_h1n1_vacc_effective',\n",
      "                                  'opinion_h1n1_risk',\n",
      "                                  'opinion_h1n1_sick_from_vacc',\n",
      "                                  'opinion_seas_vacc_effective',\n",
      "                                  'opinion_seas_risk',\n",
      "                                  'opinion_seas_sick_from_vacc',\n",
      "                                  'household_adults', 'household_children']),\n",
      "                                ('cat', OneHotEncoder(handle_unknown='ignore'),\n",
      "                                 ['age_group', 'education', 'race', 'sex',\n",
      "                                  'income_poverty', 'marital_status',\n",
      "                                  'rent_or_own', 'employment_status',\n",
      "                                  'census_msa'])]), 'fit_regressor': HistGradientBoostingClassifier(max_depth=9, min_samples_leaf=10)}}\n",
      "Training Precision:  0.8056167400881057\n",
      "Testing Precision:  0.7777038269550749\n",
      "-----\n",
      "Training Recall:  0.7846186849726483\n",
      "Testing Recall:  0.7509640102827764\n",
      "-----\n",
      "Training Accuracy:  0.8116325511732402\n",
      "Testing Accuracy:  0.7838849782836603\n",
      "-----\n",
      "Training F1-Score:  0.794979079497908\n",
      "Testing F1-Score:  0.7641000490436489\n",
      "Area under the curve for Hist Boosting 2 Tuned model: 0.781793365590196.\n"
     ]
    },
    {
     "data": {
      "text/plain": [
       "<sklearn.metrics._plot.confusion_matrix.ConfusionMatrixDisplay at 0x266ce9a2370>"
      ]
     },
     "execution_count": 41,
     "metadata": {},
     "output_type": "execute_result"
    },
    {
     "data": {
      "image/png": "[encoded data removed]",
      "text/plain": [
       "<Figure size 432x288 with 2 Axes>"
      ]
     },
     "metadata": {
      "needs_background": "light"
     },
     "output_type": "display_data"
    }
   ],
   "source": [
    "model_hbc_tuned_2 = {'Hist Boosting 2':\n",
    "              {'regressor': HistGradientBoostingClassifier(max_depth=9, min_samples_leaf=10, learning_rate=0.1),\n",
    "               'preprocessor': preprocessor}}\n",
    "\n",
    "model = 'Hist Boosting 2'\n",
    "print(model)\n",
    "X_train_processed = model_hbc_tuned_2[model]['preprocessor'].fit_transform(X_train)\n",
    "X_test_processed = model_hbc_tuned_2[model]['preprocessor'].transform(X_test)\n",
    "model_hbc_tuned_2[model]['fit_regressor'] = model_hbc_tuned_2[model]['regressor'].fit(X_train_processed, y_train.seasonal_vaccine)\n",
    "print(model_hbc_tuned_2)\n",
    "precision_dict_tuned[model], accuracy_dict_tuned[model], y_hat_test = model_predictions(model_hbc_tuned_2[model]['fit_regressor'], X_train_processed, y_train.seasonal_vaccine, X_test_processed, y_test.seasonal_vaccine)\n",
    "\n",
    "auc_dict_tuned[model] = roc_auc_score(y_test.seasonal_vaccine, y_hat_test)\n",
    "auc = auc_dict_tuned[model]\n",
    "print(f'Area under the curve for {model} Tuned model: {auc}.')\n",
    "cm_hbc = confusion_matrix(y_test.seasonal_vaccine, y_hat_test)\n",
    "ConfusionMatrixDisplay(cm_hbc, display_labels=['Not \\nvacced', 'Vacced']).plot()"
   ]
  },
  {
   "cell_type": "code",
   "execution_count": 42,
   "id": "ff87aee2-e7cc-42a7-ba87-8463c39ae6f0",
   "metadata": {},
   "outputs": [
    {
     "data": {
      "text/plain": [
       "{'Logistic': 0.7746526601152152,\n",
       " 'Naive_Bayes': 0.6257470119521913,\n",
       " 'Decision_Trees': 0.6526592252133946,\n",
       " 'KNN': 0.7037037037037037,\n",
       " 'Random_Forest': 0.7786467188031282,\n",
       " 'G_Boost': 0.7829744279946165,\n",
       " 'Hist_Boost': 0.7753551370994384,\n",
       " 'Baseline': 0.6783461807988788}"
      ]
     },
     "execution_count": 42,
     "metadata": {},
     "output_type": "execute_result"
    }
   ],
   "source": [
    "precision_dict"
   ]
  },
  {
   "cell_type": "code",
   "execution_count": 43,
   "id": "b0d85140-df86-45f2-9e12-746a9fe7bf93",
   "metadata": {},
   "outputs": [
    {
     "data": {
      "text/plain": [
       "{'Logistic': 0.7766961210124307,\n",
       " 'Naive_Bayes': 0.6851879586640707,\n",
       " 'Decision_Trees': 0.673206529878688,\n",
       " 'KNN': 0.7184364235435076,\n",
       " 'Random_Forest': 0.7793919424891418,\n",
       " 'G_Boost': 0.785831960461285,\n",
       " 'Hist_Boost': 0.7835854425640257,\n",
       " 'Baseline': 0.6863861015426089}"
      ]
     },
     "execution_count": 43,
     "metadata": {},
     "output_type": "execute_result"
    }
   ],
   "source": [
    "accuracy_dict"
   ]
  },
  {
   "cell_type": "code",
   "execution_count": 44,
   "id": "55dddc3a-ee97-4ffc-a6cd-d12d1b98a7ed",
   "metadata": {},
   "outputs": [
    {
     "data": {
      "text/plain": [
       "{'Naive Bayes Tuned': 0.6908442330558858,\n",
       " 'Decision Tree': 0.7406779661016949,\n",
       " 'Random Forest': 0.7828153564899452,\n",
       " 'Gradient Boosting': 0.7825210084033614,\n",
       " 'Gradient Boosting 2': 0.7834738617200675,\n",
       " 'Gradient Boosting 4': 0.7945368171021377,\n",
       " 'Gradient Boosting 5': 0.7938814531548757,\n",
       " 'Gradient Boosting 3': 0.9101861993428259,\n",
       " 'Hist Boosting': 0.7783316716517116,\n",
       " 'Hist Boosting 2': 0.7777038269550749}"
      ]
     },
     "execution_count": 44,
     "metadata": {},
     "output_type": "execute_result"
    }
   ],
   "source": [
    "precision_dict_tuned"
   ]
  },
  {
   "cell_type": "code",
   "execution_count": 45,
   "id": "0fa1c346-2fe8-4e6f-ad5d-c55714638db2",
   "metadata": {},
   "outputs": [
    {
     "data": {
      "text/plain": [
       "{'Naive Bayes Tuned': 0.7262243522540063,\n",
       " 'Decision Tree': 0.7465927811891568,\n",
       " 'Random Forest': 0.7656132993859518,\n",
       " 'Gradient Boosting': 0.7856821926014678,\n",
       " 'Gradient Boosting 2': 0.7856821926014678,\n",
       " 'Gradient Boosting 4': 0.7567769956567321,\n",
       " 'Gradient Boosting 5': 0.764115620787779,\n",
       " 'Gradient Boosting 3': 0.6460985472517597,\n",
       " 'Hist Boosting': 0.784783585442564,\n",
       " 'Hist Boosting 2': 0.7838849782836603}"
      ]
     },
     "execution_count": 45,
     "metadata": {},
     "output_type": "execute_result"
    }
   ],
   "source": [
    "accuracy_dict_tuned"
   ]
  },
  {
   "cell_type": "code",
   "execution_count": null,
   "id": "9b22015d-8f02-4c7c-9b4d-868de7ac56a5",
   "metadata": {},
   "outputs": [],
   "source": []
  },
  {
   "cell_type": "code",
   "execution_count": 55,
   "id": "404dde20-5054-4e54-b4bb-179b65478141",
   "metadata": {},
   "outputs": [
    {
     "data": {
      "text/plain": [
       "[0.7262243522540063,\n",
       " 0.7465927811891568,\n",
       " 0.7656132993859518,\n",
       " 0.7856821926014678,\n",
       " 0.7856821926014678,\n",
       " 0.7567769956567321,\n",
       " 0.764115620787779,\n",
       " 0.6460985472517597,\n",
       " 0.784783585442564,\n",
       " 0.7838849782836603]"
      ]
     },
     "execution_count": 55,
     "metadata": {},
     "output_type": "execute_result"
    }
   ],
   "source": [
    "accuracy_v_tuned = [v for v in accuracy_dict_tuned.values()]\n",
    "accuracy_v_tuned"
   ]
  },
  {
   "cell_type": "code",
   "execution_count": 48,
   "id": "f500fea7-0e37-48e3-a8ce-2280a7863392",
   "metadata": {},
   "outputs": [
    {
     "data": {
      "text/plain": [
       "[0.6908442330558858,\n",
       " 0.7406779661016949,\n",
       " 0.7828153564899452,\n",
       " 0.7825210084033614,\n",
       " 0.7834738617200675,\n",
       " 0.7945368171021377,\n",
       " 0.7938814531548757,\n",
       " 0.9101861993428259,\n",
       " 0.7783316716517116,\n",
       " 0.7777038269550749]"
      ]
     },
     "execution_count": 48,
     "metadata": {},
     "output_type": "execute_result"
    }
   ],
   "source": [
    "precision_v_tuned = [v for v in precision_dict_tuned.values()]\n",
    "precision_v_tuned"
   ]
  },
  {
   "cell_type": "code",
   "execution_count": 50,
   "id": "a6184d76-83d4-43e9-80a1-75103b53032d",
   "metadata": {},
   "outputs": [
    {
     "data": {
      "text/plain": [
       "{'Logistic': 0.7740200355498509,\n",
       " 'Naive_Bayes': 0.6929602011126454,\n",
       " 'Decision_Trees': 0.6710216435857037,\n",
       " 'KNN': 0.7162361144661933,\n",
       " 'Random_Forest': 0.7766262434335531,\n",
       " 'G_Boost': 0.7834124882371817,\n",
       " 'Hist_Boost': 0.7817170199418078,\n",
       " 'Baseline': 0.6823022314201553}"
      ]
     },
     "execution_count": 50,
     "metadata": {},
     "output_type": "execute_result"
    }
   ],
   "source": [
    "auc_dict"
   ]
  },
  {
   "cell_type": "code",
   "execution_count": 51,
   "id": "ae1ccd83-ad50-4530-87ac-e9db0870588c",
   "metadata": {},
   "outputs": [
    {
     "data": {
      "text/plain": [
       "{'Naive Bayes Tuned': 0.7275307636007023,\n",
       " 'Decision Tree': 0.7275307636007023,\n",
       " 'Random Forest': 0.7606810446464304,\n",
       " 'Gradient Boosting': 0.7832926517088085,\n",
       " 'Gradient Boosting 2': 0.7831905720785846,\n",
       " 'Gradient Boosting 4': 0.7496704157457716,\n",
       " 'Gradient Boosting 5': 0.6220147229022523,\n",
       " 'Gradient Boosting 3': 0.6220147229022523,\n",
       " 'Hist Boosting': 0.7827369599469275,\n",
       " 'Hist Boosting 2': 0.781793365590196}"
      ]
     },
     "execution_count": 51,
     "metadata": {},
     "output_type": "execute_result"
    }
   ],
   "source": [
    "auc_dict_tuned"
   ]
  },
  {
   "cell_type": "code",
   "execution_count": null,
   "id": "395cbe14-e252-403e-a144-303962e1b594",
   "metadata": {},
   "outputs": [],
   "source": [
    "precision_v = [v for v in precision_dict_tuned.values()]\n",
    "precision_v"
   ]
  },
  {
   "cell_type": "code",
   "execution_count": 130,
   "id": "1331a497-fea3-4f47-b9ff-860cee9f1990",
   "metadata": {},
   "outputs": [
    {
     "data": {
      "image/png": "[encoded data removed]",
      "text/plain": [
       "<Figure size 1728x1080 with 1 Axes>"
      ]
     },
     "metadata": {
      "needs_background": "light"
     },
     "output_type": "display_data"
    }
   ],
   "source": [
    "precision = [precision_dict['Baseline'], precision_v_tuned[0], precision_v_tuned[1], precision_v_tuned[9], precision_v_tuned[2], precision_v_tuned[3], precision_v_tuned[4], precision_v_tuned[5], precision_v_tuned[6]]#, precision_v_tuned[7]]\n",
    "names = ['Logistic\\nRegressions', 'Naive\\nBayes', 'Decision\\nTree', 'Hist\\nBoost', 'Random\\nForest', 'Gradient\\nBoost\\n#1', 'Gradient\\nBoost\\n#2', 'Gradient\\nBoost\\n#3', 'Gradient\\nBoost\\n#4']#, 'Gradient\\nBoost\\n#5']\n",
    "accuracy = [accuracy_v_tuned[0], accuracy_v_tuned[1], accuracy_v_tuned[9], accuracy_v_tuned[2], accuracy_v_tuned[3], accuracy_v_tuned[4], accuracy_v_tuned[5], accuracy_v_tuned[6]]#, accuracy_v_tuned[7]]\n",
    "\n",
    "fig, ax = plt.subplots(figsize=(24, 15))\n",
    "x_label = names\n",
    "ax = sns.barplot(x_label, precision, palette=\"Blues\")\n",
    "# sns.barplot(x_label, accuracy, palette=\"mako\", ax=ax)\n",
    "plt.xticks(rotation=25, size=30)\n",
    "plt.yticks(size=30)\n",
    "sns.despine()\n",
    "ax.set_ylim(bottom=0, top=1)\n",
    "ax.set_title('Model Precision', fontsize=35)\n",
    "# plt.savefig('Skyler_graph', bbox_inches='tight');"
   ]
  },
  {
   "cell_type": "code",
   "execution_count": 72,
   "id": "16b8c14e-82b5-4457-80f0-2d80ec751c62",
   "metadata": {},
   "outputs": [
    {
     "data": {
      "text/plain": [
       "Pipeline(steps=[('preprocessor',\n",
       "                 ColumnTransformer(transformers=[('num',\n",
       "                                                  Pipeline(steps=[('imputer',\n",
       "                                                                   SimpleImputer(add_indicator=True,\n",
       "                                                                                 strategy='median'))]),\n",
       "                                                  ['h1n1_concern',\n",
       "                                                   'h1n1_knowledge',\n",
       "                                                   'behavioral_antiviral_meds',\n",
       "                                                   'behavioral_avoidance',\n",
       "                                                   'behavioral_face_mask',\n",
       "                                                   'behavioral_wash_hands',\n",
       "                                                   'behavioral_large_gatherings',\n",
       "                                                   'behavioral_outside_home',\n",
       "                                                   'behaviora...\n",
       "                                                   'opinion_seas_risk',\n",
       "                                                   'opinion_seas_sick_from_vacc',\n",
       "                                                   'household_adults',\n",
       "                                                   'household_children']),\n",
       "                                                 ('cat',\n",
       "                                                  OneHotEncoder(handle_unknown='ignore'),\n",
       "                                                  ['age_group', 'education',\n",
       "                                                   'race', 'sex',\n",
       "                                                   'income_poverty',\n",
       "                                                   'marital_status',\n",
       "                                                   'rent_or_own',\n",
       "                                                   'employment_status',\n",
       "                                                   'census_msa'])])),\n",
       "                ('gbc',\n",
       "                 GradientBoostingClassifier(learning_rate=0.001, max_depth=7,\n",
       "                                            min_samples_leaf=5,\n",
       "                                            n_estimators=500))])"
      ]
     },
     "execution_count": 72,
     "metadata": {},
     "output_type": "execute_result"
    }
   ],
   "source": [
    "pipeline_f_i = Pipeline([('preprocessor', preprocessor),\n",
    "            ('gbc', GradientBoostingClassifier(min_samples_leaf=5, max_depth=7, n_estimators=500, learning_rate=0.001))])\n",
    "pipeline_f_i.fit(X_test, y_test.seasonal_vaccine)"
   ]
  },
  {
   "cell_type": "code",
   "execution_count": 99,
   "id": "15076515-0944-4555-a12c-542afa2260b6",
   "metadata": {},
   "outputs": [
    {
     "data": {
      "text/plain": [
       "(25.5, 32.5)"
      ]
     },
     "execution_count": 99,
     "metadata": {},
     "output_type": "execute_result"
    },
    {
     "data": {
      "image/png": "[encoded data removed]",
      "text/plain": [
       "<Figure size 1296x864 with 1 Axes>"
      ]
     },
     "metadata": {
      "needs_background": "light"
     },
     "output_type": "display_data"
    }
   ],
   "source": [
    "result = permutation_importance(\n",
    "    pipeline_f_i, X_test, y_test.seasonal_vaccine, n_repeats=10, random_state=RANDOM_SEED, n_jobs=2\n",
    ")\n",
    "sorted_idx = result.importances_mean.argsort()\n",
    "\n",
    "fig, ax = plt.subplots(figsize=(18, 12))\n",
    "ax.boxplot(\n",
    "    result.importances[sorted_idx].T, vert=False, labels=X_test.columns[sorted_idx], showfliers=False\n",
    ")\n",
    "\n",
    "ax.set_title(\"Permutation Importances\", fontsize=30)#20\n",
    "plt.xticks(size=15)\n",
    "plt.yticks(size=15)\n",
    "sns.despine()\n",
    "ax.set_ylim(bottom=25.5, top=32.5)\n",
    "#labels = [i for i in range(0,25)] + ['Opinion on \\nH1N1 Risk', 'Education', 'Opinion on getting\\nFrom taking\\nSeasonal Vaccine', 'Age', 'Opinion about\\nSeasonal Vaccine\\nEffectiveness', 'Doctor Reccomendation\\non getting the Vaccine', 'Opinion on the\\nRisk of getting Sick\\nWithout the vaccine']\n",
    "#ax.set_yticklabels(labels)\n",
    "\n",
    "#plt.savefig('Permutation_Importances2', bbox_inches='tight');"
   ]
  },
  {
   "cell_type": "code",
   "execution_count": 136,
   "id": "60d5a7da-2464-462b-bf24-89d7da1f714c",
   "metadata": {},
   "outputs": [],
   "source": [
    "complete_df = features_df.join(labels_df, on='respondent_id', how='right', lsuffix='1', rsuffix='2')\n",
    "vaccinated_sea = complete_df[complete_df['seasonal_vaccine'] == 1]\n",
    "not_vacced_sea = complete_df[complete_df['seasonal_vaccine'] == 0]"
   ]
  },
  {
   "cell_type": "code",
   "execution_count": 178,
   "id": "ba0c391a-ee73-4039-b5b0-0eba35585fe8",
   "metadata": {},
   "outputs": [
    {
     "data": {
      "text/plain": [
       "''"
      ]
     },
     "execution_count": 178,
     "metadata": {},
     "output_type": "execute_result"
    },
    {
     "data": {
      "image/png": "[encoded data removed]",
      "text/plain": [
       "<Figure size 576x432 with 1 Axes>"
      ]
     },
     "metadata": {
      "needs_background": "light"
     },
     "output_type": "display_data"
    }
   ],
   "source": [
    "fig, ax = plt.subplots(figsize=(8,6))\n",
    "\n",
    "sns.countplot(x=perc,\n",
    "            data=complete_df['age_group'],\n",
    "            #order=['18 - 34 Years', '35 - 44 Years', '45 - 54 Years', '55 - 64 Years', '65+ Years'],\n",
    "            ax = ax, \n",
    "            palette=\"BuGn\")\n",
    "plt.ylabel('Total People Vaccinated [Seasonal]')\n",
    "plt.xlabel(\"Age Group\")\n",
    "ax.set(title='Total Number of People Vaccinated for the Seasonal Flu by Age')\n",
    "sns.despine()\n",
    ";\n"
   ]
  },
  {
   "cell_type": "code",
   "execution_count": 179,
   "id": "b45fb19e-8289-4266-b3c4-6ecd872d3018",
   "metadata": {},
   "outputs": [
    {
     "data": {
      "text/plain": [
       "education         seasonal_vaccine\n",
       "12 Years          0                   0.551837\n",
       "                  1                   0.448163\n",
       "< 12 Years        0                   0.598815\n",
       "                  1                   0.401185\n",
       "College Graduate  1                   0.511439\n",
       "                  0                   0.488561\n",
       "Some College      0                   0.548062\n",
       "                  1                   0.451938\n",
       "Name: seasonal_vaccine, dtype: float64"
      ]
     },
     "execution_count": 179,
     "metadata": {},
     "output_type": "execute_result"
    }
   ],
   "source": [
    "complete_df.groupby('education')['seasonal_vaccine'].value_counts(normalize=True)"
   ]
  },
  {
   "cell_type": "code",
   "execution_count": 157,
   "id": "41e3406e-2596-4cff-bb3f-b29bbbf4b3cd",
   "metadata": {},
   "outputs": [],
   "source": [
    "perc = [.2845, .3625, .4013, .5112, .6737]"
   ]
  },
  {
   "cell_type": "code",
   "execution_count": null,
   "id": "079e1f85-9566-42ef-bc96-a88c9a39e98a",
   "metadata": {},
   "outputs": [],
   "source": []
  }
 ],
 "metadata": {
  "kernelspec": {
   "display_name": "Python (learn-env)",
   "language": "python",
   "name": "learn-env"
  },
  "language_info": {
   "codemirror_mode": {
    "name": "ipython",
    "version": 3
   },
   "file_extension": ".py",
   "mimetype": "text/x-python",
   "name": "python",
   "nbconvert_exporter": "python",
   "pygments_lexer": "ipython3",
   "version": "3.8.5"
  }
 },
 "nbformat": 4,
 "nbformat_minor": 5
}
