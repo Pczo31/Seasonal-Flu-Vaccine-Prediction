{
 "cells": [
  {
   "cell_type": "markdown",
   "id": "883e31d5-e768-4d72-b2ab-a790cb632ded",
   "metadata": {},
   "source": [
    "## Classification Problem: Seasonal Flu\n",
    "\n",
    "* Student name: Anthony Warren, Marcelo Scatena, Piotr Czolpik\n",
    "* Student pace: full time\n",
    "* Scheduled project review date: 28/01/2021\n",
    "* Instructor name: Skyler English\n",
    "***"
   ]
  },
  {
   "cell_type": "markdown",
   "id": "40cab867-8590-4b1b-aba0-3b817066d430",
   "metadata": {},
   "source": [
    "## Introduction"
   ]
  },
  {
   "cell_type": "markdown",
   "id": "80a65fe8-65bf-447a-a39d-32c326745cab",
   "metadata": {},
   "source": [
    "The goal of this project was to build a classifier to predict whether someone was vaccinated against the seasonal flu or not as accurately as possible. Flu season comes around yearly. Every year people either take the flu shot or they do not. We made splits in Age gaps, genders, children in households, etc to see the statistical side of things before we did the modeling. Also we tried to answer some questions such as which subsets of the population should you target when hoping to increase the total number of people receiving the vaccine each year. Or weather to focus more on the female or male audience, or to focus on what age group."
   ]
  },
  {
   "cell_type": "markdown",
   "id": "67f1f614-9678-439b-a19c-029cdf5c50c0",
   "metadata": {},
   "source": [
    "- In this notebook we'll:\n",
    "  - Provide recommendations about what could be done to increase the number of vaccinated people\n",
    "  - Find out which characteristics lead people to be more or less prone to have taken the seasonal flu vaccine \n",
    "  - Train and run models that can correctly identify the likelihood that an individual received the seasonal flu vaccine or not"
   ]
  },
  {
   "cell_type": "markdown",
   "id": "a39c05aa-af2e-43b8-8769-dbb2259b7120",
   "metadata": {},
   "source": [
    "***"
   ]
  },
  {
   "cell_type": "code",
   "execution_count": 1,
   "id": "8565f37f-cad6-49d1-895c-b3a60e034694",
   "metadata": {},
   "outputs": [],
   "source": [
    "import pandas as pd\n",
    "import numpy as np\n",
    "import matplotlib.pyplot as plt\n",
    "import seaborn as sns\n",
    "%matplotlib inline\n",
    "\n",
    "from sklearn.impute import SimpleImputer\n",
    "from sklearn.compose import ColumnTransformer\n",
    "from sklearn.pipeline import Pipeline\n",
    "\n",
    "from sklearn.linear_model import LogisticRegression\n",
    "from sklearn.ensemble import RandomForestClassifier, GradientBoostingClassifier, HistGradientBoostingClassifier\n",
    "from sklearn.tree import DecisionTreeClassifier\n",
    "from sklearn.neighbors import KNeighborsClassifier\n",
    "from sklearn.naive_bayes import GaussianNB\n",
    "\n",
    "\n",
    "from sklearn.metrics import confusion_matrix, plot_confusion_matrix, accuracy_score, precision_score, recall_score, f1_score\n",
    "from sklearn.metrics import ConfusionMatrixDisplay, roc_auc_score\n",
    "\n",
    "from sklearn.inspection import permutation_importance\n",
    "from sklearn.model_selection import train_test_split, GridSearchCV, RandomizedSearchCV\n",
    "from sklearn.dummy import DummyRegressor\n",
    "from sklearn.preprocessing import OneHotEncoder\n",
    "\n",
    "# from ipynb.fs.full.Functions import factorial\n",
    "\n",
    "RANDOM_SEED = 1235846\n",
    "import warnings\n",
    "warnings.filterwarnings(\"ignore\")"
   ]
  },
  {
   "cell_type": "markdown",
   "id": "cd884930-2a6a-4217-8773-c969bba7c340",
   "metadata": {},
   "source": [
    "## Data"
   ]
  },
  {
   "cell_type": "markdown",
   "id": "85e0faeb-77f6-4cf8-8fba-221eb3eb76cc",
   "metadata": {},
   "source": [
    "The data at our disposal is from the 2009 National h1n1 flu survey. It can be found [here](https://www.drivendata.org/competitions/66/flu-shot-learning/page/211/)."
   ]
  },
  {
   "cell_type": "code",
   "execution_count": 2,
   "id": "fb5c628e-cf10-429b-85fc-dcf8eb54c504",
   "metadata": {},
   "outputs": [],
   "source": [
    "# The data was split between targets and predicators beforehand\n",
    "features_df = pd.read_csv('./data/flu_training_set_features.csv', index_col='respondent_id')\n",
    "labels_df = labels_df = pd.read_csv(\"./data/flu_training_set_labels.csv\", index_col=\"respondent_id\")"
   ]
  },
  {
   "cell_type": "code",
   "execution_count": 3,
   "id": "a6c5482d-d477-4e30-a355-9d06b5f96f0e",
   "metadata": {},
   "outputs": [
    {
     "name": "stdout",
     "output_type": "stream",
     "text": [
      "<class 'pandas.core.frame.DataFrame'>\n",
      "Int64Index: 26707 entries, 0 to 26706\n",
      "Data columns (total 35 columns):\n",
      " #   Column                       Non-Null Count  Dtype  \n",
      "---  ------                       --------------  -----  \n",
      " 0   h1n1_concern                 26615 non-null  float64\n",
      " 1   h1n1_knowledge               26591 non-null  float64\n",
      " 2   behavioral_antiviral_meds    26636 non-null  float64\n",
      " 3   behavioral_avoidance         26499 non-null  float64\n",
      " 4   behavioral_face_mask         26688 non-null  float64\n",
      " 5   behavioral_wash_hands        26665 non-null  float64\n",
      " 6   behavioral_large_gatherings  26620 non-null  float64\n",
      " 7   behavioral_outside_home      26625 non-null  float64\n",
      " 8   behavioral_touch_face        26579 non-null  float64\n",
      " 9   doctor_recc_h1n1             24547 non-null  float64\n",
      " 10  doctor_recc_seasonal         24547 non-null  float64\n",
      " 11  chronic_med_condition        25736 non-null  float64\n",
      " 12  child_under_6_months         25887 non-null  float64\n",
      " 13  health_worker                25903 non-null  float64\n",
      " 14  health_insurance             14433 non-null  float64\n",
      " 15  opinion_h1n1_vacc_effective  26316 non-null  float64\n",
      " 16  opinion_h1n1_risk            26319 non-null  float64\n",
      " 17  opinion_h1n1_sick_from_vacc  26312 non-null  float64\n",
      " 18  opinion_seas_vacc_effective  26245 non-null  float64\n",
      " 19  opinion_seas_risk            26193 non-null  float64\n",
      " 20  opinion_seas_sick_from_vacc  26170 non-null  float64\n",
      " 21  age_group                    26707 non-null  object \n",
      " 22  education                    25300 non-null  object \n",
      " 23  race                         26707 non-null  object \n",
      " 24  sex                          26707 non-null  object \n",
      " 25  income_poverty               22284 non-null  object \n",
      " 26  marital_status               25299 non-null  object \n",
      " 27  rent_or_own                  24665 non-null  object \n",
      " 28  employment_status            25244 non-null  object \n",
      " 29  hhs_geo_region               26707 non-null  object \n",
      " 30  census_msa                   26707 non-null  object \n",
      " 31  household_adults             26458 non-null  float64\n",
      " 32  household_children           26458 non-null  float64\n",
      " 33  employment_industry          13377 non-null  object \n",
      " 34  employment_occupation        13237 non-null  object \n",
      "dtypes: float64(23), object(12)\n",
      "memory usage: 7.3+ MB\n"
     ]
    }
   ],
   "source": [
    "features_df.info()"
   ]
  },
  {
   "cell_type": "code",
   "execution_count": 4,
   "id": "2731bca2-6001-4e77-9c61-3af7188b3e52",
   "metadata": {},
   "outputs": [
    {
     "name": "stdout",
     "output_type": "stream",
     "text": [
      "<class 'pandas.core.frame.DataFrame'>\n",
      "Int64Index: 26707 entries, 0 to 26706\n",
      "Data columns (total 2 columns):\n",
      " #   Column            Non-Null Count  Dtype\n",
      "---  ------            --------------  -----\n",
      " 0   h1n1_vaccine      26707 non-null  int64\n",
      " 1   seasonal_vaccine  26707 non-null  int64\n",
      "dtypes: int64(2)\n",
      "memory usage: 625.9 KB\n"
     ]
    }
   ],
   "source": [
    "labels_df.info()"
   ]
  },
  {
   "cell_type": "code",
   "execution_count": 5,
   "id": "a263471e-7b9f-41a1-ac34-713452994ad7",
   "metadata": {},
   "outputs": [],
   "source": [
    "# Train Test split to to have a test set to compare our results to\n",
    "X_train, X_test, y_train, y_test = train_test_split(\n",
    "    features_df,\n",
    "    labels_df,\n",
    "    test_size=0.25,\n",
    "    random_state=RANDOM_SEED\n",
    ")"
   ]
  },
  {
   "cell_type": "code",
   "execution_count": 6,
   "id": "509fc3a9-3614-41c7-a654-adbc7be680c7",
   "metadata": {},
   "outputs": [],
   "source": [
    "# The features dropped are coded to not give personal information in the h1n1 survey, so we can't use it for our models\n",
    "drop_features = ['hhs_geo_region', 'employment_industry','employment_occupation']\n",
    "X_train.drop(drop_features, axis=1, inplace=True)\n",
    "X_test.drop(drop_features, axis=1, inplace=True)\n",
    "\n",
    "# Separate Objects fom Numerical features\n",
    "numeric_features = [col for col in X_train.columns if X_train[col].dtype != 'O']\n",
    "categorical_features = [col for col in X_train.columns if X_train[col].dtype == 'O']"
   ]
  },
  {
   "cell_type": "code",
   "execution_count": 7,
   "id": "03d651fb-e692-4282-a2d3-faf7407caa62",
   "metadata": {},
   "outputs": [],
   "source": [
    "# Handle missing values of numeric features\n",
    "numeric_transformer = Pipeline(\n",
    "    steps=[(\"imputer\", SimpleImputer(strategy=\"median\", add_indicator=True))]\n",
    ")\n",
    "# Handle missing values and perform ohe in categorical features\n",
    "categorical_transformer = Pipeline(\n",
    "    steps=[(\"imputer\", SimpleImputer(strategy=\"most_frequent\", add_indicator=True)),\n",
    "          ('ohe', OneHotEncoder(handle_unknown=\"ignore\"))]\n",
    ")\n",
    "# Put them both in a Column Transformer\n",
    "preprocessor = ColumnTransformer(\n",
    "    transformers=[\n",
    "        (\"num\", numeric_transformer, numeric_features),\n",
    "        (\"cat\", categorical_transformer, categorical_features),\n",
    "    ]\n",
    ")"
   ]
  },
  {
   "cell_type": "code",
   "execution_count": 8,
   "id": "952bb84a-0c66-475b-b8dd-3a6a19efda62",
   "metadata": {},
   "outputs": [],
   "source": [
    "# Creating simple models to run our data\n",
    "models = {'Naive_Bayes':\n",
    "              {'regressor': GaussianNB(),\n",
    "               'preprocessor': preprocessor},\n",
    "          'Decision_Trees':\n",
    "              {'regressor': DecisionTreeClassifier(random_state=RANDOM_SEED),\n",
    "               'preprocessor': preprocessor},\n",
    "          'KNN':\n",
    "              {'regressor': KNeighborsClassifier(),\n",
    "               'preprocessor': preprocessor},\n",
    "          'Logistic':\n",
    "              {'regressor': LogisticRegression(random_state=RANDOM_SEED),\n",
    "               'preprocessor': preprocessor},\n",
    "          'Random_Forest':\n",
    "              {'regressor': RandomForestClassifier(random_state=RANDOM_SEED),\n",
    "               'preprocessor': preprocessor},\n",
    "          'G_Boost':\n",
    "              {'regressor': GradientBoostingClassifier(random_state=RANDOM_SEED),\n",
    "               'preprocessor': preprocessor},\n",
    "          'Hist_Boost':\n",
    "              {'regressor': HistGradientBoostingClassifier(random_state=RANDOM_SEED),\n",
    "               'preprocessor': preprocessor}\n",
    "              }"
   ]
  },
  {
   "cell_type": "code",
   "execution_count": 9,
   "id": "8faea0b0-0f52-4fb9-b396-b5072ad20ae4",
   "metadata": {},
   "outputs": [],
   "source": [
    "# Helper function to evaluate models\n",
    "def model_predictions(model, x_train, y_train, x_test=None, y_test=None):\n",
    "    '''\n",
    "    Enter model name, train data, and optionaly test data\n",
    "    Generate scores for precision, recall, accuracy, and F1 score\n",
    "    If test data is inputed, display them both,\n",
    "    If only train data is imputed, siplay only results for train data.\n",
    "    \n",
    "    Returns Precision and Accuracy scores, and y hat for train data or,\n",
    "    if imputed, for the test data.\n",
    "    '''\n",
    "    model.fit(x_train, y_train)\n",
    "    y_hat_train = model.predict(x_train)\n",
    "    if x_test is not None:\n",
    "        y_hat_test = model.predict(x_test)\n",
    "    print('Training Precision: ', precision_score(y_train, y_hat_train))\n",
    "    if x_test is not None:\n",
    "        print('Testing Precision: ', precision_score(y_test, y_hat_test))\n",
    "    print('-----')\n",
    "\n",
    "    print('Training Recall: ', recall_score(y_train, y_hat_train))\n",
    "    if x_test is not None:\n",
    "        print('Testing Recall: ', recall_score(y_test, y_hat_test))\n",
    "    print('-----')\n",
    "\n",
    "    print('Training Accuracy: ', accuracy_score(y_train, y_hat_train))\n",
    "    if x_test is not None:\n",
    "        print('Testing Accuracy: ', accuracy_score(y_test, y_hat_test))\n",
    "    print('-----')\n",
    "\n",
    "    print('Training F1-Score: ', f1_score(y_train, y_hat_train))\n",
    "    if x_test is not None:\n",
    "        print('Testing F1-Score: ', f1_score(y_test, y_hat_test))\n",
    "    if x_test is not None:\n",
    "        return precision_score(y_test, y_hat_test), accuracy_score(y_test, y_hat_test), y_hat_test\n",
    "    return precision_score(y_train, y_hat_train), accuracy_score(y_train, y_hat_train), y_hat_train"
   ]
  },
  {
   "cell_type": "code",
   "execution_count": 10,
   "id": "d61368ee-8b4f-4747-965c-62be2504f8cf",
   "metadata": {},
   "outputs": [],
   "source": [
    "# dictionaries to keep track of our initial models performances\n",
    "precision_dict = {}\n",
    "accuracy_dict = {}\n",
    "auc_dict = {}"
   ]
  },
  {
   "cell_type": "code",
   "execution_count": 11,
   "id": "4054e1c7-eb24-4eb5-baee-2a46f2e4b7a0",
   "metadata": {},
   "outputs": [
    {
     "name": "stdout",
     "output_type": "stream",
     "text": [
      "Naive_Bayes\n",
      "{'regressor': GaussianNB(), 'preprocessor': ColumnTransformer(transformers=[('num',\n",
      "                                 Pipeline(steps=[('imputer',\n",
      "                                                  SimpleImputer(add_indicator=True,\n",
      "                                                                strategy='median'))]),\n",
      "                                 ['h1n1_concern', 'h1n1_knowledge',\n",
      "                                  'behavioral_antiviral_meds',\n",
      "                                  'behavioral_avoidance',\n",
      "                                  'behavioral_face_mask',\n",
      "                                  'behavioral_wash_hands',\n",
      "                                  'behavioral_large_gatherings',\n",
      "                                  'behavioral_outside_home',\n",
      "                                  'behavioral_touch_face', 'doctor_recc_h1n1'...\n",
      "                                  'opinion_seas_risk',\n",
      "                                  'opinion_seas_sick_from_vacc',\n",
      "                                  'household_adults', 'household_children']),\n",
      "                                ('cat',\n",
      "                                 Pipeline(steps=[('imputer',\n",
      "                                                  SimpleImputer(add_indicator=True,\n",
      "                                                                strategy='most_frequent')),\n",
      "                                                 ('ohe',\n",
      "                                                  OneHotEncoder(handle_unknown='ignore'))]),\n",
      "                                 ['age_group', 'education', 'race', 'sex',\n",
      "                                  'income_poverty', 'marital_status',\n",
      "                                  'rent_or_own', 'employment_status',\n",
      "                                  'census_msa'])]), 'fit_regressor': GaussianNB()}\n",
      "Training Precision:  0.6095598294037177\n",
      "Testing Precision:  0.6160409556313993\n",
      "-----\n",
      "Training Recall:  0.8125067038506918\n",
      "Testing Recall:  0.8120179948586118\n",
      "-----\n",
      "Training Accuracy:  0.6704942586120819\n",
      "Testing Accuracy:  0.6765014227946683\n",
      "-----\n",
      "Training F1-Score:  0.696551724137931\n",
      "Testing F1-Score:  0.7005822012752979\n",
      "Area under the curve for Naive_Bayes model: 0.685111381721031.\n",
      "Decision_Trees\n",
      "{'regressor': DecisionTreeClassifier(random_state=1235846), 'preprocessor': ColumnTransformer(transformers=[('num',\n",
      "                                 Pipeline(steps=[('imputer',\n",
      "                                                  SimpleImputer(add_indicator=True,\n",
      "                                                                strategy='median'))]),\n",
      "                                 ['h1n1_concern', 'h1n1_knowledge',\n",
      "                                  'behavioral_antiviral_meds',\n",
      "                                  'behavioral_avoidance',\n",
      "                                  'behavioral_face_mask',\n",
      "                                  'behavioral_wash_hands',\n",
      "                                  'behavioral_large_gatherings',\n",
      "                                  'behavioral_outside_home',\n",
      "                                  'behavioral_touch_face', 'doctor_recc_h1n1'...\n",
      "                                  'opinion_seas_risk',\n",
      "                                  'opinion_seas_sick_from_vacc',\n",
      "                                  'household_adults', 'household_children']),\n",
      "                                ('cat',\n",
      "                                 Pipeline(steps=[('imputer',\n",
      "                                                  SimpleImputer(add_indicator=True,\n",
      "                                                                strategy='most_frequent')),\n",
      "                                                 ('ohe',\n",
      "                                                  OneHotEncoder(handle_unknown='ignore'))]),\n",
      "                                 ['age_group', 'education', 'race', 'sex',\n",
      "                                  'income_poverty', 'marital_status',\n",
      "                                  'rent_or_own', 'employment_status',\n",
      "                                  'census_msa'])]), 'fit_regressor': DecisionTreeClassifier(random_state=1235846)}\n",
      "Training Precision:  1.0\n",
      "Testing Precision:  0.6524663677130045\n",
      "-----\n",
      "Training Recall:  0.9997854767778612\n",
      "Testing Recall:  0.6545629820051414\n",
      "-----\n",
      "Training Accuracy:  0.999900149775337\n",
      "Testing Accuracy:  0.6765014227946683\n",
      "-----\n",
      "Training F1-Score:  0.9998927268826432\n",
      "Testing F1-Score:  0.6535129932627526\n",
      "Area under the curve for Decision_Trees model: 0.6751075779590925.\n",
      "KNN\n",
      "{'regressor': KNeighborsClassifier(), 'preprocessor': ColumnTransformer(transformers=[('num',\n",
      "                                 Pipeline(steps=[('imputer',\n",
      "                                                  SimpleImputer(add_indicator=True,\n",
      "                                                                strategy='median'))]),\n",
      "                                 ['h1n1_concern', 'h1n1_knowledge',\n",
      "                                  'behavioral_antiviral_meds',\n",
      "                                  'behavioral_avoidance',\n",
      "                                  'behavioral_face_mask',\n",
      "                                  'behavioral_wash_hands',\n",
      "                                  'behavioral_large_gatherings',\n",
      "                                  'behavioral_outside_home',\n",
      "                                  'behavioral_touch_face', 'doctor_recc_h1n1'...\n",
      "                                  'opinion_seas_risk',\n",
      "                                  'opinion_seas_sick_from_vacc',\n",
      "                                  'household_adults', 'household_children']),\n",
      "                                ('cat',\n",
      "                                 Pipeline(steps=[('imputer',\n",
      "                                                  SimpleImputer(add_indicator=True,\n",
      "                                                                strategy='most_frequent')),\n",
      "                                                 ('ohe',\n",
      "                                                  OneHotEncoder(handle_unknown='ignore'))]),\n",
      "                                 ['age_group', 'education', 'race', 'sex',\n",
      "                                  'income_poverty', 'marital_status',\n",
      "                                  'rent_or_own', 'employment_status',\n",
      "                                  'census_msa'])]), 'fit_regressor': KNeighborsClassifier()}\n",
      "Training Precision:  0.8014923735323165\n",
      "Testing Precision:  0.7075440345629778\n",
      "-----\n",
      "Training Recall:  0.7834388072508849\n",
      "Testing Recall:  0.6841259640102828\n",
      "-----\n",
      "Training Accuracy:  0.8088866699950075\n",
      "Testing Accuracy:  0.7209824771604014\n",
      "-----\n",
      "Training F1-Score:  0.7923627684964201\n",
      "Testing F1-Score:  0.6956379676523444\n",
      "Area under the curve for KNN model: 0.7186408221173433.\n",
      "Logistic\n",
      "{'regressor': LogisticRegression(random_state=1235846), 'preprocessor': ColumnTransformer(transformers=[('num',\n",
      "                                 Pipeline(steps=[('imputer',\n",
      "                                                  SimpleImputer(add_indicator=True,\n",
      "                                                                strategy='median'))]),\n",
      "                                 ['h1n1_concern', 'h1n1_knowledge',\n",
      "                                  'behavioral_antiviral_meds',\n",
      "                                  'behavioral_avoidance',\n",
      "                                  'behavioral_face_mask',\n",
      "                                  'behavioral_wash_hands',\n",
      "                                  'behavioral_large_gatherings',\n",
      "                                  'behavioral_outside_home',\n",
      "                                  'behavioral_touch_face', 'doctor_recc_h1n1'...\n",
      "                                  'opinion_seas_risk',\n",
      "                                  'opinion_seas_sick_from_vacc',\n",
      "                                  'household_adults', 'household_children']),\n",
      "                                ('cat',\n",
      "                                 Pipeline(steps=[('imputer',\n",
      "                                                  SimpleImputer(add_indicator=True,\n",
      "                                                                strategy='most_frequent')),\n",
      "                                                 ('ohe',\n",
      "                                                  OneHotEncoder(handle_unknown='ignore'))]),\n",
      "                                 ['age_group', 'education', 'race', 'sex',\n",
      "                                  'income_poverty', 'marital_status',\n",
      "                                  'rent_or_own', 'employment_status',\n",
      "                                  'census_msa'])]), 'fit_regressor': LogisticRegression(random_state=1235846)}\n",
      "Training Precision:  0.7745043127590456\n",
      "Testing Precision:  0.7748726655348047\n",
      "-----\n",
      "Training Recall:  0.7416067789338195\n",
      "Testing Recall:  0.7332904884318766\n",
      "-----\n",
      "Training Accuracy:  0.7792311532700948\n",
      "Testing Accuracy:  0.7763965852927962\n",
      "-----\n",
      "Training F1-Score:  0.7576986301369862\n",
      "Testing F1-Score:  0.7535083374607892\n",
      "Area under the curve for Logistic model: 0.7736578669368359.\n",
      "Random_Forest\n",
      "{'regressor': RandomForestClassifier(random_state=1235846), 'preprocessor': ColumnTransformer(transformers=[('num',\n",
      "                                 Pipeline(steps=[('imputer',\n",
      "                                                  SimpleImputer(add_indicator=True,\n",
      "                                                                strategy='median'))]),\n",
      "                                 ['h1n1_concern', 'h1n1_knowledge',\n",
      "                                  'behavioral_antiviral_meds',\n",
      "                                  'behavioral_avoidance',\n",
      "                                  'behavioral_face_mask',\n",
      "                                  'behavioral_wash_hands',\n",
      "                                  'behavioral_large_gatherings',\n",
      "                                  'behavioral_outside_home',\n",
      "                                  'behavioral_touch_face', 'doctor_recc_h1n1'...\n",
      "                                  'opinion_seas_risk',\n",
      "                                  'opinion_seas_sick_from_vacc',\n",
      "                                  'household_adults', 'household_children']),\n",
      "                                ('cat',\n",
      "                                 Pipeline(steps=[('imputer',\n",
      "                                                  SimpleImputer(add_indicator=True,\n",
      "                                                                strategy='most_frequent')),\n",
      "                                                 ('ohe',\n",
      "                                                  OneHotEncoder(handle_unknown='ignore'))]),\n",
      "                                 ['age_group', 'education', 'race', 'sex',\n",
      "                                  'income_poverty', 'marital_status',\n",
      "                                  'rent_or_own', 'employment_status',\n",
      "                                  'census_msa'])]), 'fit_regressor': RandomForestClassifier(random_state=1235846)}\n",
      "Training Precision:  0.9998927383889306\n",
      "Testing Precision:  0.7731322823851954\n",
      "-----\n",
      "Training Recall:  0.9998927383889306\n",
      "Testing Recall:  0.7249357326478149\n",
      "-----\n",
      "Training Accuracy:  0.999900149775337\n",
      "Testing Accuracy:  0.7726523887973641\n",
      "-----\n",
      "Training F1-Score:  0.9998927383889306\n",
      "Testing F1-Score:  0.7482587064676616\n",
      "Area under the curve for Random_Forest model: 0.7696207414992229.\n",
      "G_Boost\n",
      "{'regressor': GradientBoostingClassifier(random_state=1235846), 'preprocessor': ColumnTransformer(transformers=[('num',\n",
      "                                 Pipeline(steps=[('imputer',\n",
      "                                                  SimpleImputer(add_indicator=True,\n",
      "                                                                strategy='median'))]),\n",
      "                                 ['h1n1_concern', 'h1n1_knowledge',\n",
      "                                  'behavioral_antiviral_meds',\n",
      "                                  'behavioral_avoidance',\n",
      "                                  'behavioral_face_mask',\n",
      "                                  'behavioral_wash_hands',\n",
      "                                  'behavioral_large_gatherings',\n",
      "                                  'behavioral_outside_home',\n",
      "                                  'behavioral_touch_face', 'doctor_recc_h1n1'...\n",
      "                                  'opinion_seas_risk',\n",
      "                                  'opinion_seas_sick_from_vacc',\n",
      "                                  'household_adults', 'household_children']),\n",
      "                                ('cat',\n",
      "                                 Pipeline(steps=[('imputer',\n",
      "                                                  SimpleImputer(add_indicator=True,\n",
      "                                                                strategy='most_frequent')),\n",
      "                                                 ('ohe',\n",
      "                                                  OneHotEncoder(handle_unknown='ignore'))]),\n",
      "                                 ['age_group', 'education', 'race', 'sex',\n",
      "                                  'income_poverty', 'marital_status',\n",
      "                                  'rent_or_own', 'employment_status',\n",
      "                                  'census_msa'])]), 'fit_regressor': GradientBoostingClassifier(random_state=1235846)}\n",
      "Training Precision:  0.7852222222222223\n",
      "Testing Precision:  0.781683001013856\n",
      "-----\n",
      "Training Recall:  0.7580178054274376\n",
      "Testing Recall:  0.7432519280205655\n",
      "-----\n",
      "Training Accuracy:  0.790863704443335\n",
      "Testing Accuracy:  0.7835854425640257\n",
      "-----\n",
      "Training F1-Score:  0.7713802324946788\n",
      "Testing F1-Score:  0.761983198814034\n",
      "Area under the curve for G_Boost model: 0.7810228784562856.\n",
      "Hist_Boost\n",
      "{'regressor': HistGradientBoostingClassifier(random_state=1235846), 'preprocessor': ColumnTransformer(transformers=[('num',\n",
      "                                 Pipeline(steps=[('imputer',\n",
      "                                                  SimpleImputer(add_indicator=True,\n",
      "                                                                strategy='median'))]),\n",
      "                                 ['h1n1_concern', 'h1n1_knowledge',\n",
      "                                  'behavioral_antiviral_meds',\n",
      "                                  'behavioral_avoidance',\n",
      "                                  'behavioral_face_mask',\n",
      "                                  'behavioral_wash_hands',\n",
      "                                  'behavioral_large_gatherings',\n",
      "                                  'behavioral_outside_home',\n",
      "                                  'behavioral_touch_face', 'doctor_recc_h1n1'...\n",
      "                                  'opinion_seas_risk',\n",
      "                                  'opinion_seas_sick_from_vacc',\n",
      "                                  'household_adults', 'household_children']),\n",
      "                                ('cat',\n",
      "                                 Pipeline(steps=[('imputer',\n",
      "                                                  SimpleImputer(add_indicator=True,\n",
      "                                                                strategy='most_frequent')),\n",
      "                                                 ('ohe',\n",
      "                                                  OneHotEncoder(handle_unknown='ignore'))]),\n",
      "                                 ['age_group', 'education', 'race', 'sex',\n",
      "                                  'income_poverty', 'marital_status',\n",
      "                                  'rent_or_own', 'employment_status',\n",
      "                                  'census_msa'])]), 'fit_regressor': HistGradientBoostingClassifier(random_state=1235846)}\n",
      "Training Precision:  0.8057728324336234\n",
      "Testing Precision:  0.7790311877903119\n",
      "-----\n",
      "Training Recall:  0.7845114233615789\n",
      "Testing Recall:  0.7544987146529563\n",
      "-----\n",
      "Training Accuracy:  0.8116824762855717\n",
      "Testing Accuracy:  0.785831960461285\n",
      "-----\n",
      "Training F1-Score:  0.7949999999999999\n",
      "Testing F1-Score:  0.7665687234737184\n",
      "Area under the curve for Hist_Boost model: 0.7838412226841219.\n"
     ]
    }
   ],
   "source": [
    "# Loop through our models, generate model, display scores and save them on dictionaries\n",
    "for name, model in models.items():  \n",
    "    print(name)\n",
    "    X_train_processed = model['preprocessor'].fit_transform(X_train)\n",
    "    X_test_processed = model['preprocessor'].transform(X_test)\n",
    "    model['fit_regressor'] = model['regressor'].fit(X_train_processed, y_train.seasonal_vaccine)\n",
    "    print(model)\n",
    "    precision_dict[name], accuracy_dict[name], y_hat_test = model_predictions(model['fit_regressor'], X_train_processed, y_train.seasonal_vaccine, X_test_processed, y_test.seasonal_vaccine)\n",
    "    auc_dict[name] = roc_auc_score(y_test.seasonal_vaccine, y_hat_test)\n",
    "    print(f'Area under the curve for {name} model: {auc_dict[name]}.')"
   ]
  },
  {
   "cell_type": "markdown",
   "id": "ede74bfd-e5e5-4b93-8c59-a42d3ce97770",
   "metadata": {},
   "source": [
    "## Baseline"
   ]
  },
  {
   "cell_type": "code",
   "execution_count": 12,
   "id": "53af6c01-99c5-4d99-b30b-a8e79915f128",
   "metadata": {},
   "outputs": [],
   "source": [
    "# Transform the data to use only 1 column as predicator for baseline model\n",
    "base_X_train = X_train.copy()\n",
    "base_X_train.drop(base_X_train.columns.difference(['opinion_seas_risk']), 1, inplace=True)\n",
    "base_X_test = X_test.copy()\n",
    "base_X_test.drop(base_X_test.columns.difference(['opinion_seas_risk']), 1, inplace=True)\n",
    "base_X_train.fillna(value=2, inplace=True)\n",
    "base_X_test.fillna(value=2, inplace=True)"
   ]
  },
  {
   "cell_type": "code",
   "execution_count": 13,
   "id": "d64a2226-65be-4ddb-9cba-fce634edf9a0",
   "metadata": {},
   "outputs": [
    {
     "name": "stdout",
     "output_type": "stream",
     "text": [
      "Baseline\n",
      "{'Baseline': {'regressor': LogisticRegression(random_state=1235846), 'preprocessor': ColumnTransformer(transformers=[('num',\n",
      "                                 Pipeline(steps=[('imputer',\n",
      "                                                  SimpleImputer(add_indicator=True,\n",
      "                                                                strategy='median'))]),\n",
      "                                 ['h1n1_concern', 'h1n1_knowledge',\n",
      "                                  'behavioral_antiviral_meds',\n",
      "                                  'behavioral_avoidance',\n",
      "                                  'behavioral_face_mask',\n",
      "                                  'behavioral_wash_hands',\n",
      "                                  'behavioral_large_gatherings',\n",
      "                                  'behavioral_outside_home',\n",
      "                                  'behavioral_touch_face', 'doctor_recc_h1n1'...\n",
      "                                  'opinion_seas_risk',\n",
      "                                  'opinion_seas_sick_from_vacc',\n",
      "                                  'household_adults', 'household_children']),\n",
      "                                ('cat',\n",
      "                                 Pipeline(steps=[('imputer',\n",
      "                                                  SimpleImputer(add_indicator=True,\n",
      "                                                                strategy='most_frequent')),\n",
      "                                                 ('ohe',\n",
      "                                                  OneHotEncoder(handle_unknown='ignore'))]),\n",
      "                                 ['age_group', 'education', 'race', 'sex',\n",
      "                                  'income_poverty', 'marital_status',\n",
      "                                  'rent_or_own', 'employment_status',\n",
      "                                  'census_msa'])]), 'fit_regressor': LogisticRegression(random_state=1235846)}}\n",
      "Training Precision:  0.6783973368208298\n",
      "Testing Precision:  0.6783461807988788\n",
      "-----\n",
      "Training Recall:  0.6120347527619865\n",
      "Testing Recall:  0.622107969151671\n",
      "-----\n",
      "Training Accuracy:  0.6843734398402397\n",
      "Testing Accuracy:  0.6863861015426089\n",
      "-----\n",
      "Training F1-Score:  0.643509642494643\n",
      "Testing F1-Score:  0.6490110626885686\n",
      "Area under the curve for Baseline model: 0.6823022314201553.\n"
     ]
    },
    {
     "data": {
      "image/png": "[encoded data removed]",
      "text/plain": [
       "<Figure size 432x288 with 2 Axes>"
      ]
     },
     "metadata": {
      "needs_background": "light"
     },
     "output_type": "display_data"
    }
   ],
   "source": [
    "# Use Logistic Regression for baseline model\n",
    "model_baseline = {'Baseline':\n",
    "              {'regressor': LogisticRegression(random_state=RANDOM_SEED),\n",
    "               'preprocessor': preprocessor}}\n",
    "\n",
    "model = 'Baseline'\n",
    "print(model)\n",
    "model_baseline[model]['fit_regressor'] = model_baseline[model]['regressor'].fit(base_X_train, y_train.seasonal_vaccine)\n",
    "print(model_baseline)\n",
    "precision_dict[model], accuracy_dict[model], y_hat_test = model_predictions(model_baseline[model]['fit_regressor'], base_X_train, y_train.seasonal_vaccine, base_X_test, y_test.seasonal_vaccine)\n",
    "\n",
    "auc_dict[model] = roc_auc_score(y_test.seasonal_vaccine, y_hat_test)\n",
    "auc_baseline = auc_dict[model]\n",
    "print(f'Area under the curve for {model} model: {auc_baseline}.')\n",
    "\n",
    "# Create comfusion Matrix of model\n",
    "cm_baseline = confusion_matrix(y_test.seasonal_vaccine, y_hat_test)\n",
    "ConfusionMatrixDisplay(cm_baseline, display_labels=['Not \\nvacced', 'Vacced']).plot();"
   ]
  },
  {
   "cell_type": "markdown",
   "id": "9224797c-ae93-4b7e-8f29-89541658f7c1",
   "metadata": {},
   "source": [
    "Our first metric comparing these new models was the Area Under the Curve metric, which gives us an all around understanding of the model performance"
   ]
  },
  {
   "cell_type": "code",
   "execution_count": 14,
   "id": "18598142-0658-40f5-82d5-2b3ba37f64c5",
   "metadata": {},
   "outputs": [
    {
     "data": {
      "text/plain": [
       "{'Naive_Bayes': 0.685111381721031,\n",
       " 'Decision_Trees': 0.6751075779590925,\n",
       " 'KNN': 0.7186408221173433,\n",
       " 'Logistic': 0.7736578669368359,\n",
       " 'Random_Forest': 0.7696207414992229,\n",
       " 'G_Boost': 0.7810228784562856,\n",
       " 'Hist_Boost': 0.7838412226841219,\n",
       " 'Baseline': 0.6823022314201553}"
      ]
     },
     "execution_count": 14,
     "metadata": {},
     "output_type": "execute_result"
    }
   ],
   "source": [
    "auc_dict"
   ]
  },
  {
   "cell_type": "code",
   "execution_count": 15,
   "id": "714eff4c-474f-4152-b8c7-4dbe8864cda9",
   "metadata": {},
   "outputs": [],
   "source": [
    "auc_lst = [auc for auc in auc_dict.values()]"
   ]
  },
  {
   "cell_type": "code",
   "execution_count": 16,
   "id": "2d57b71b-4722-4adc-bbe9-0003eecfb07f",
   "metadata": {},
   "outputs": [
    {
     "data": {
      "image/png": "[encoded data removed]",
      "text/plain": [
       "<Figure size 1728x1080 with 1 Axes>"
      ]
     },
     "metadata": {
      "needs_background": "light"
     },
     "output_type": "display_data"
    }
   ],
   "source": [
    "AUC = [auc_lst[7], auc_lst[0], auc_lst[1], auc_lst[2], auc_lst[3], auc_lst[4], auc_lst[5], auc_lst[6]]\n",
    "names = ['Baseline', 'Naive \\nBayes', 'Decision \\nTrees', 'KNN', 'Logistic \\nRegression', 'Random \\nForest', 'Gradient \\nBoosting', 'Histogram-based \\nGradient Boosting \\nClassification Tree']\n",
    "\n",
    "fig, ax = plt.subplots(figsize=(24, 15))\n",
    "x_label = names\n",
    "ax = sns.barplot(x_label, AUC, palette=\"flare\")\n",
    "plt.xticks(rotation=25, size=30)\n",
    "plt.yticks(size=30)\n",
    "sns.despine()\n",
    "ax.set_ylim(bottom=0, top=1)\n",
    "ax.set_title('Model AUC', fontsize=35);\n",
    "# plt.savefig('Skyler_graph_2', bbox_inches='tight');"
   ]
  },
  {
   "cell_type": "markdown",
   "id": "7e96e5f9-5def-42e4-b2ea-616fcd43670b",
   "metadata": {},
   "source": [
    "We can see here that the most advanced models have, even with default paramenters, tend to be more efficient than the older ones. The same is true for Precision and Accuracy as we'll see below.<br />\n",
    "We chose precision as our main evaluation metric for our models over recall because, given any amount of incorrect predictions, we’d rather focus on the ones where the individual have not received the vaccine but the model predicts they did (false positives) over those the model predicted didn’t receive the vaccines, but did (false negatives). From here on we'll try to generate models with high Precision, but taking into consideration that we don't want our Accuracy to fall below the 72~75% area."
   ]
  },
  {
   "cell_type": "code",
   "execution_count": 17,
   "id": "8df737c6-f98d-4efd-b0bf-8f35c21456f3",
   "metadata": {},
   "outputs": [
    {
     "data": {
      "text/plain": [
       "{'Naive_Bayes': 0.6160409556313993,\n",
       " 'Decision_Trees': 0.6524663677130045,\n",
       " 'KNN': 0.7075440345629778,\n",
       " 'Logistic': 0.7748726655348047,\n",
       " 'Random_Forest': 0.7731322823851954,\n",
       " 'G_Boost': 0.781683001013856,\n",
       " 'Hist_Boost': 0.7790311877903119,\n",
       " 'Baseline': 0.6783461807988788}"
      ]
     },
     "execution_count": 17,
     "metadata": {},
     "output_type": "execute_result"
    }
   ],
   "source": [
    "precision_dict"
   ]
  },
  {
   "cell_type": "code",
   "execution_count": 18,
   "id": "5f97dffb-a7a0-4479-8e07-6ff19a638de1",
   "metadata": {},
   "outputs": [
    {
     "data": {
      "text/plain": [
       "{'Naive_Bayes': 0.6765014227946683,\n",
       " 'Decision_Trees': 0.6765014227946683,\n",
       " 'KNN': 0.7209824771604014,\n",
       " 'Logistic': 0.7763965852927962,\n",
       " 'Random_Forest': 0.7726523887973641,\n",
       " 'G_Boost': 0.7835854425640257,\n",
       " 'Hist_Boost': 0.785831960461285,\n",
       " 'Baseline': 0.6863861015426089}"
      ]
     },
     "execution_count": 18,
     "metadata": {},
     "output_type": "execute_result"
    }
   ],
   "source": [
    "accuracy_dict"
   ]
  },
  {
   "cell_type": "markdown",
   "id": "74d45e98-ff86-46de-bc71-ff653debec8b",
   "metadata": {},
   "source": [
    "# Model Tuning"
   ]
  },
  {
   "cell_type": "markdown",
   "id": "631912df-0282-422f-b624-d464f4da9927",
   "metadata": {},
   "source": [
    "We've tuned a few models a few different times because a cross validation search can take a long time to perform given the amount of models it examines and the cross validation strategy. We've used the best results from one search to search for more parameters for another search, when applicable. Models with fewer parameters took less searches."
   ]
  },
  {
   "cell_type": "code",
   "execution_count": 19,
   "id": "e99c0c5d-b7f7-49f1-8c59-1cfbcbb90f5f",
   "metadata": {},
   "outputs": [],
   "source": [
    "# New dictionaries for tuned models\n",
    "precision_dict_tuned = {}\n",
    "accuracy_dict_tuned = {}\n",
    "auc_dict_tuned = {}"
   ]
  },
  {
   "cell_type": "markdown",
   "id": "0200f60e-8d8a-4c90-8cfa-af6493f86d88",
   "metadata": {},
   "source": [
    "## Tuning Naive Bayes"
   ]
  },
  {
   "cell_type": "code",
   "execution_count": 20,
   "id": "3a6fb6ea-ca2d-4827-84de-2c6785637c2f",
   "metadata": {},
   "outputs": [
    {
     "data": {
      "text/plain": [
       "{'nb__var_smoothing': 1.0}"
      ]
     },
     "execution_count": 20,
     "metadata": {},
     "output_type": "execute_result"
    }
   ],
   "source": [
    "# Grid_search for Naive Bayes\n",
    "pipeline_nb = Pipeline([( \"preprocessor\" , preprocessor),\n",
    "                       (\"nb\",GaussianNB())])\n",
    "\n",
    "parameters_nb = {'nb__var_smoothing': np.logspace(0,-9, num=10)}\n",
    "\n",
    "gs_nb=GridSearchCV(pipeline_nb,parameters_nb)\n",
    "\n",
    "gs_nb.fit(X_train,y_train.seasonal_vaccine)\n",
    "\n",
    "gs_nb.best_params_"
   ]
  },
  {
   "cell_type": "code",
   "execution_count": 21,
   "id": "7ce331bb-7254-43de-8b69-4cdeb90dfdc9",
   "metadata": {},
   "outputs": [
    {
     "name": "stdout",
     "output_type": "stream",
     "text": [
      "Naive Bayes Tuned\n",
      "{'Naive Bayes Tuned': {'regressor': GaussianNB(var_smoothing=1.0), 'preprocessor': ColumnTransformer(transformers=[('num',\n",
      "                                 Pipeline(steps=[('imputer',\n",
      "                                                  SimpleImputer(add_indicator=True,\n",
      "                                                                strategy='median'))]),\n",
      "                                 ['h1n1_concern', 'h1n1_knowledge',\n",
      "                                  'behavioral_antiviral_meds',\n",
      "                                  'behavioral_avoidance',\n",
      "                                  'behavioral_face_mask',\n",
      "                                  'behavioral_wash_hands',\n",
      "                                  'behavioral_large_gatherings',\n",
      "                                  'behavioral_outside_home',\n",
      "                                  'behavioral_touch_face', 'doctor_recc_h1n1'...\n",
      "                                  'opinion_seas_risk',\n",
      "                                  'opinion_seas_sick_from_vacc',\n",
      "                                  'household_adults', 'household_children']),\n",
      "                                ('cat',\n",
      "                                 Pipeline(steps=[('imputer',\n",
      "                                                  SimpleImputer(add_indicator=True,\n",
      "                                                                strategy='most_frequent')),\n",
      "                                                 ('ohe',\n",
      "                                                  OneHotEncoder(handle_unknown='ignore'))]),\n",
      "                                 ['age_group', 'education', 'race', 'sex',\n",
      "                                  'income_poverty', 'marital_status',\n",
      "                                  'rent_or_own', 'employment_status',\n",
      "                                  'census_msa'])]), 'fit_regressor': GaussianNB(var_smoothing=1.0)}}\n",
      "Training Precision:  0.6929902395740906\n",
      "Testing Precision:  0.6895839480672765\n",
      "-----\n",
      "Training Recall:  0.7539418642068004\n",
      "Testing Recall:  0.7509640102827764\n",
      "-----\n",
      "Training Accuracy:  0.7300049925112332\n",
      "Testing Accuracy:  0.7263741201138235\n",
      "-----\n",
      "Training F1-Score:  0.7221822665159766\n",
      "Testing F1-Score:  0.7189663128749423\n",
      "Area under the curve for Naive Bayes Tuned model: 0.7279364230937022.\n"
     ]
    }
   ],
   "source": [
    "model_nb_tuned = {'Naive Bayes Tuned':\n",
    "              {'regressor': GaussianNB(var_smoothing=1.0),\n",
    "               'preprocessor': preprocessor}}\n",
    "\n",
    "model = 'Naive Bayes Tuned'\n",
    "print(model)\n",
    "X_train_processed = model_nb_tuned[model]['preprocessor'].fit_transform(X_train)\n",
    "X_test_processed = model_nb_tuned[model]['preprocessor'].transform(X_test)\n",
    "model_nb_tuned[model]['fit_regressor'] = model_nb_tuned[model]['regressor'].fit(X_train_processed, y_train.seasonal_vaccine)\n",
    "\n",
    "print(model_nb_tuned)\n",
    "precision_dict_tuned[model], accuracy_dict_tuned[model], y_hat_test = model_predictions(model_nb_tuned[model]['fit_regressor'], X_train_processed, y_train.seasonal_vaccine, X_test_processed, y_test.seasonal_vaccine)\n",
    "\n",
    "auc_dict_tuned[model] = roc_auc_score(y_test.seasonal_vaccine, y_hat_test)\n",
    "auc = auc_dict_tuned[model]\n",
    "print(f'Area under the curve for {model} model: {auc}.')"
   ]
  },
  {
   "cell_type": "markdown",
   "id": "af64d4a7-d4c3-4233-9a2a-3451ca320774",
   "metadata": {},
   "source": [
    "## Tuning Decision Trees"
   ]
  },
  {
   "cell_type": "code",
   "execution_count": 22,
   "id": "9940c61e-c2d5-45c4-8991-6bae895b8ce9",
   "metadata": {},
   "outputs": [],
   "source": [
    "# # Grid_search for Decision Trees\n",
    "# pipeline_dtc = Pipeline([( \"preprocessor\" , preprocessor),\n",
    "#                        (\"dtc\",DecisionTreeClassifier())])\n",
    "\n",
    "# # Chosing hyperparameters to be tested\n",
    "# parameters_dtc = {}\n",
    "# parameters_dtc['dtc__criterion'] = ['gini', 'entropy']\n",
    "# parameters_dtc['dtc__min_samples_leaf'] = [1, 5, 10]\n",
    "# parameters_dtc['dtc__max_depth'] = [3, 5, 10, 15, 25]\n",
    "# parameters_dtc['dtc__max_features'] = [5, 10, 15, 25]\n",
    "# parameters_dtc['dtc__min_impurity_decrease'] = [0, 0.1, 0.2]\n",
    "\n",
    "# gs_dtc=GridSearchCV(pipeline_dtc,parameters_dtc)\n",
    "\n",
    "# gs_dtc.fit(X_train,y_train.seasonal_vaccine)\n",
    "# # Display best phyperparameters\n",
    "# gs_dtc.best_params_"
   ]
  },
  {
   "cell_type": "code",
   "execution_count": 23,
   "id": "63b25d54-7766-4419-9e89-140497361e1f",
   "metadata": {},
   "outputs": [
    {
     "name": "stdout",
     "output_type": "stream",
     "text": [
      "Decision Tree\n",
      "{'Decision Tree': {'regressor': DecisionTreeClassifier(max_depth=10, max_features=25, min_samples_leaf=10), 'preprocessor': ColumnTransformer(transformers=[('num',\n",
      "                                 Pipeline(steps=[('imputer',\n",
      "                                                  SimpleImputer(add_indicator=True,\n",
      "                                                                strategy='median'))]),\n",
      "                                 ['h1n1_concern', 'h1n1_knowledge',\n",
      "                                  'behavioral_antiviral_meds',\n",
      "                                  'behavioral_avoidance',\n",
      "                                  'behavioral_face_mask',\n",
      "                                  'behavioral_wash_hands',\n",
      "                                  'behavioral_large_gatherings',\n",
      "                                  'behavioral_outside_home',\n",
      "                                  'behavioral_touch_face', 'doctor_recc_h1n1'...\n",
      "                                  'opinion_seas_risk',\n",
      "                                  'opinion_seas_sick_from_vacc',\n",
      "                                  'household_adults', 'household_children']),\n",
      "                                ('cat',\n",
      "                                 Pipeline(steps=[('imputer',\n",
      "                                                  SimpleImputer(add_indicator=True,\n",
      "                                                                strategy='most_frequent')),\n",
      "                                                 ('ohe',\n",
      "                                                  OneHotEncoder(handle_unknown='ignore'))]),\n",
      "                                 ['age_group', 'education', 'race', 'sex',\n",
      "                                  'income_poverty', 'marital_status',\n",
      "                                  'rent_or_own', 'employment_status',\n",
      "                                  'census_msa'])]), 'fit_regressor': DecisionTreeClassifier(max_depth=10, max_features=25, min_samples_leaf=10)}}\n",
      "Training Precision:  0.7729841338839383\n",
      "Testing Precision:  0.7323577235772357\n",
      "-----\n",
      "Training Recall:  0.7629518395366298\n",
      "Testing Recall:  0.7236503856041131\n",
      "-----\n",
      "Training Accuracy:  0.7853719420868697\n",
      "Testing Accuracy:  0.7479406919275123\n",
      "-----\n",
      "Training F1-Score:  0.7679352226720648\n",
      "Testing F1-Score:  0.7279780184257313\n",
      "Area under the curve for Decision Tree Tuned model: 0.7279364230937022.\n"
     ]
    }
   ],
   "source": [
    "# Creating model using tuned paramenters\n",
    "model_dtc_tuned = {'Decision Tree':\n",
    "              {'regressor': DecisionTreeClassifier(criterion='gini', max_depth=10, min_samples_leaf=10, max_features=25),\n",
    "               'preprocessor': preprocessor}}\n",
    "\n",
    "model = 'Decision Tree' \n",
    "print(model)\n",
    "X_train_processed = model_dtc_tuned[model]['preprocessor'].fit_transform(X_train)\n",
    "X_test_processed = model_dtc_tuned[model]['preprocessor'].transform(X_test)\n",
    "model_dtc_tuned[model]['fit_regressor'] = model_dtc_tuned[model]['regressor'].fit(X_train_processed, y_train.seasonal_vaccine)\n",
    "print(model_dtc_tuned)\n",
    "precision_dict_tuned[model], accuracy_dict_tuned[model], y_test_hat = model_predictions(model_dtc_tuned[model]['fit_regressor'], X_train_processed, y_train.seasonal_vaccine, X_test_processed, y_test.seasonal_vaccine)\n",
    "\n",
    "\n",
    "auc_dict_tuned[model] = roc_auc_score(y_test.seasonal_vaccine, y_hat_test)\n",
    "auc = auc_dict_tuned[model]\n",
    "print(f'Area under the curve for {model} Tuned model: {auc}.')"
   ]
  },
  {
   "cell_type": "markdown",
   "id": "f48fbf4e-6a28-4527-808f-82d03404ac4c",
   "metadata": {},
   "source": [
    "## Tuning Random Forest"
   ]
  },
  {
   "cell_type": "code",
   "execution_count": 24,
   "id": "dc9b8aa6-9e75-4424-8eec-20f16ceb101f",
   "metadata": {},
   "outputs": [],
   "source": [
    "# # Grid_search for Random Forest\n",
    "# pipeline_rfc = Pipeline([( \"preprocessor\" , preprocessor),\n",
    "#                        (\"rfc\",RandomForestClassifier())])\n",
    "\n",
    "# parameters_rfc = {}\n",
    "# parameters_rfc['rfc__criterion'] = ['gini', 'entropy']\n",
    "# parameters_rfc['rfc__min_samples_leaf'] = [1, 5, 10]\n",
    "# parameters_rfc['rfc__max_depth'] = [1, 3, 5, 10, 15, 25]\n",
    "\n",
    "# gs_rfc=GridSearchCV(pipeline_rfc,parameters_rfc)\n",
    "\n",
    "# gs_rfc.fit(X_train,y_train.seasonal_vaccine)\n",
    "\n",
    "# gs_rfc.best_params_"
   ]
  },
  {
   "cell_type": "code",
   "execution_count": 25,
   "id": "b47176b2-354a-404a-b1f4-d27451c7718c",
   "metadata": {},
   "outputs": [
    {
     "name": "stdout",
     "output_type": "stream",
     "text": [
      "Random Forest\n",
      "{'Random Forest': {'regressor': RandomForestClassifier(max_depth=15, min_samples_leaf=5), 'preprocessor': ColumnTransformer(transformers=[('num',\n",
      "                                 Pipeline(steps=[('imputer',\n",
      "                                                  SimpleImputer(add_indicator=True,\n",
      "                                                                strategy='median'))]),\n",
      "                                 ['h1n1_concern', 'h1n1_knowledge',\n",
      "                                  'behavioral_antiviral_meds',\n",
      "                                  'behavioral_avoidance',\n",
      "                                  'behavioral_face_mask',\n",
      "                                  'behavioral_wash_hands',\n",
      "                                  'behavioral_large_gatherings',\n",
      "                                  'behavioral_outside_home',\n",
      "                                  'behavioral_touch_face', 'doctor_recc_h1n1'...\n",
      "                                  'opinion_seas_risk',\n",
      "                                  'opinion_seas_sick_from_vacc',\n",
      "                                  'household_adults', 'household_children']),\n",
      "                                ('cat',\n",
      "                                 Pipeline(steps=[('imputer',\n",
      "                                                  SimpleImputer(add_indicator=True,\n",
      "                                                                strategy='most_frequent')),\n",
      "                                                 ('ohe',\n",
      "                                                  OneHotEncoder(handle_unknown='ignore'))]),\n",
      "                                 ['age_group', 'education', 'race', 'sex',\n",
      "                                  'income_poverty', 'marital_status',\n",
      "                                  'rent_or_own', 'employment_status',\n",
      "                                  'census_msa'])]), 'fit_regressor': RandomForestClassifier(max_depth=15, min_samples_leaf=5)}}\n",
      "Training Precision:  0.8453458486981785\n",
      "Testing Precision:  0.7757041058703766\n",
      "-----\n",
      "Training Recall:  0.8114340877399978\n",
      "Testing Recall:  0.7345758354755784\n",
      "-----\n",
      "Training Accuracy:  0.8431352970544184\n",
      "Testing Accuracy:  0.7772951924516999\n",
      "-----\n",
      "Training F1-Score:  0.8280429071803853\n",
      "Testing F1-Score:  0.7545799636903778\n",
      "Area under the curve for Random Forest Tuned model: 0.7279364230937022.\n"
     ]
    }
   ],
   "source": [
    "model_rfc_tuned = {'Random Forest':\n",
    "              {'regressor': RandomForestClassifier(criterion='gini', max_depth=15, min_samples_leaf=5),\n",
    "               'preprocessor': preprocessor}}\n",
    "\n",
    "model = 'Random Forest' \n",
    "print(model)\n",
    "X_train_processed = model_rfc_tuned[model]['preprocessor'].fit_transform(X_train)\n",
    "X_test_processed = model_rfc_tuned[model]['preprocessor'].transform(X_test)\n",
    "model_rfc_tuned[model]['fit_regressor'] = model_rfc_tuned[model]['regressor'].fit(X_train_processed, y_train.seasonal_vaccine)\n",
    "print(model_rfc_tuned)\n",
    "precision_dict_tuned[model], accuracy_dict_tuned[model], y_test_hat = model_predictions(model_rfc_tuned[model]['fit_regressor'], X_train_processed, y_train.seasonal_vaccine, X_test_processed, y_test.seasonal_vaccine)\n",
    "\n",
    "\n",
    "auc_dict_tuned[model] = roc_auc_score(y_test.seasonal_vaccine, y_hat_test)\n",
    "auc = auc_dict_tuned[model]\n",
    "print(f'Area under the curve for {model} Tuned model: {auc}.')"
   ]
  },
  {
   "cell_type": "markdown",
   "id": "5dfbd601-b920-477e-98d3-9526288968f4",
   "metadata": {},
   "source": [
    "## Tuning Random Forest #2"
   ]
  },
  {
   "cell_type": "code",
   "execution_count": 26,
   "id": "6609e92b-9a7a-4bb6-a142-ca510a190d3f",
   "metadata": {},
   "outputs": [],
   "source": [
    "# # Grid_search for Random Forest #2\n",
    "# pipeline_rfc = Pipeline([( \"preprocessor\" , preprocessor),\n",
    "#                        (\"rfc\",RandomForestClassifier(criterion='gini', min_samples_leaf=5))])\n",
    "\n",
    "# parameters_rfc = {}\n",
    "# parameters_rfc['rfc__max_depth'] = [3, 5]\n",
    "# parameters_rfc['rfc__ccp_alpha'] = [0, 0.1, 0.5, 1, 2]\n",
    "# parameters_rfc['rfc__n_estimators'] = [50, 100, 250, 500]\n",
    "\n",
    "\n",
    "# gs_rfc=GridSearchCV(pipeline_rfc,parameters_rfc)\n",
    "\n",
    "# gs_rfc.fit(X_train,y_train.seasonal_vaccine)\n",
    "\n",
    "# gs_rfc.best_params_"
   ]
  },
  {
   "cell_type": "code",
   "execution_count": 27,
   "id": "4eff555b-7c6f-420c-a870-3e589f1106da",
   "metadata": {},
   "outputs": [
    {
     "name": "stdout",
     "output_type": "stream",
     "text": [
      "Random Forest\n",
      "{'Random Forest': {'regressor': RandomForestClassifier(max_depth=5, min_samples_leaf=5, n_estimators=500), 'preprocessor': ColumnTransformer(transformers=[('num',\n",
      "                                 Pipeline(steps=[('imputer',\n",
      "                                                  SimpleImputer(add_indicator=True,\n",
      "                                                                strategy='median'))]),\n",
      "                                 ['h1n1_concern', 'h1n1_knowledge',\n",
      "                                  'behavioral_antiviral_meds',\n",
      "                                  'behavioral_avoidance',\n",
      "                                  'behavioral_face_mask',\n",
      "                                  'behavioral_wash_hands',\n",
      "                                  'behavioral_large_gatherings',\n",
      "                                  'behavioral_outside_home',\n",
      "                                  'behavioral_touch_face', 'doctor_recc_h1n1'...\n",
      "                                  'opinion_seas_risk',\n",
      "                                  'opinion_seas_sick_from_vacc',\n",
      "                                  'household_adults', 'household_children']),\n",
      "                                ('cat',\n",
      "                                 Pipeline(steps=[('imputer',\n",
      "                                                  SimpleImputer(add_indicator=True,\n",
      "                                                                strategy='most_frequent')),\n",
      "                                                 ('ohe',\n",
      "                                                  OneHotEncoder(handle_unknown='ignore'))]),\n",
      "                                 ['age_group', 'education', 'race', 'sex',\n",
      "                                  'income_poverty', 'marital_status',\n",
      "                                  'rent_or_own', 'employment_status',\n",
      "                                  'census_msa'])]), 'fit_regressor': RandomForestClassifier(max_depth=5, min_samples_leaf=5, n_estimators=500)}}\n",
      "Training Precision:  0.7844910757356488\n",
      "Testing Precision:  0.7822728944464877\n",
      "-----\n",
      "Training Recall:  0.6977367800064357\n",
      "Testing Recall:  0.6834832904884319\n",
      "-----\n",
      "Training Accuracy:  0.7700948577134299\n",
      "Testing Accuracy:  0.7638160850681444\n",
      "-----\n",
      "Training F1-Score:  0.738575078058473\n",
      "Testing F1-Score:  0.7295489624421198\n",
      "Area under the curve for Random Forest Tuned model: 0.7587121922287882.\n"
     ]
    }
   ],
   "source": [
    "model_rfc_tuned = {'Random Forest':\n",
    "              {'regressor': RandomForestClassifier(criterion='gini', max_depth=5, min_samples_leaf=5, n_estimators=500),\n",
    "               'preprocessor': preprocessor}}\n",
    " \n",
    "model = 'Random Forest'\n",
    "print(model)\n",
    "X_train_processed = model_rfc_tuned[model]['preprocessor'].fit_transform(X_train)\n",
    "X_test_processed = model_rfc_tuned[model]['preprocessor'].transform(X_test)\n",
    "model_rfc_tuned[model]['fit_regressor'] = model_rfc_tuned[model]['regressor'].fit(X_train_processed, y_train.seasonal_vaccine)\n",
    "print(model_rfc_tuned)\n",
    "precision_dict_tuned[model], accuracy_dict_tuned[model], y_hat_test = model_predictions(model_rfc_tuned[model]['fit_regressor'], X_train_processed, y_train.seasonal_vaccine, X_test_processed, y_test.seasonal_vaccine)\n",
    "\n",
    "auc_dict_tuned[model] = roc_auc_score(y_test.seasonal_vaccine, y_hat_test)\n",
    "auc = auc_dict_tuned[model]\n",
    "print(f'Area under the curve for {model} Tuned model: {auc}.')"
   ]
  },
  {
   "cell_type": "markdown",
   "id": "2efc76e2-4299-4eca-9058-43bc23303811",
   "metadata": {},
   "source": [
    "## Tuning Random Forest #3"
   ]
  },
  {
   "cell_type": "code",
   "execution_count": 28,
   "id": "852e09cf-7fb9-45e9-a6e8-647fd5fb15f6",
   "metadata": {},
   "outputs": [],
   "source": [
    "# # Randomized_search for Random Forest #3\n",
    "# pipeline_rfc = Pipeline([( \"preprocessor\" , preprocessor),\n",
    "#                        (\"rfc\",RandomForestClassifier(min_samples_leaf=5, max_depth=5, n_estimators=100))])\n",
    "\n",
    "# parameters_rfc = {}\n",
    "# parameters_rfc['rfc__criterion'] = ['gini', 'entropy']\n",
    "# parameters_rfc['rfc__max_features'] = [9, 11, 15, 19]\n",
    "\n",
    "# gs_rfc=RandomizedSearchCV(pipeline_rfc,parameters_rfc)\n",
    "\n",
    "# gs_rfc.fit(X_train,y_train.seasonal_vaccine)\n",
    "\n",
    "# gs_rfc.best_params_"
   ]
  },
  {
   "cell_type": "code",
   "execution_count": 29,
   "id": "81bb21dd-f365-4121-85d1-9b135f706353",
   "metadata": {},
   "outputs": [
    {
     "name": "stdout",
     "output_type": "stream",
     "text": [
      "Random Forest\n",
      "{'Random Forest': {'regressor': RandomForestClassifier(criterion='entropy', max_depth=5, max_features=11,\n",
      "                       min_samples_leaf=5, n_estimators=500), 'preprocessor': ColumnTransformer(transformers=[('num',\n",
      "                                 Pipeline(steps=[('imputer',\n",
      "                                                  SimpleImputer(add_indicator=True,\n",
      "                                                                strategy='median'))]),\n",
      "                                 ['h1n1_concern', 'h1n1_knowledge',\n",
      "                                  'behavioral_antiviral_meds',\n",
      "                                  'behavioral_avoidance',\n",
      "                                  'behavioral_face_mask',\n",
      "                                  'behavioral_wash_hands',\n",
      "                                  'behavioral_large_gatherings',\n",
      "                                  'behavioral_outside_home',\n",
      "                                  'behavioral_touch_face', 'doctor_recc_h1n1'...\n",
      "                                  'opinion_seas_risk',\n",
      "                                  'opinion_seas_sick_from_vacc',\n",
      "                                  'household_adults', 'household_children']),\n",
      "                                ('cat',\n",
      "                                 Pipeline(steps=[('imputer',\n",
      "                                                  SimpleImputer(add_indicator=True,\n",
      "                                                                strategy='most_frequent')),\n",
      "                                                 ('ohe',\n",
      "                                                  OneHotEncoder(handle_unknown='ignore'))]),\n",
      "                                 ['age_group', 'education', 'race', 'sex',\n",
      "                                  'income_poverty', 'marital_status',\n",
      "                                  'rent_or_own', 'employment_status',\n",
      "                                  'census_msa'])]), 'fit_regressor': RandomForestClassifier(criterion='entropy', max_depth=5, max_features=11,\n",
      "                       min_samples_leaf=5, n_estimators=500)}}\n",
      "Training Precision:  0.7804029743343728\n",
      "Testing Precision:  0.7782243332115455\n",
      "-----\n",
      "Training Recall:  0.6979513032285745\n",
      "Testing Recall:  0.6844473007712082\n",
      "-----\n",
      "Training Accuracy:  0.7679980029955067\n",
      "Testing Accuracy:  0.762018870750337\n",
      "-----\n",
      "Training F1-Score:  0.7368778664854764\n",
      "Testing F1-Score:  0.7283296289964096\n",
      "Area under the curve for Random Forest Tuned model: 0.757090410553907.\n"
     ]
    }
   ],
   "source": [
    "model_rfc_tuned = {'Random Forest':\n",
    "              {'regressor': RandomForestClassifier(criterion='entropy', max_depth=5, min_samples_leaf=5, n_estimators=500, max_features=11),\n",
    "               'preprocessor': preprocessor}}\n",
    " \n",
    "model = 'Random Forest'\n",
    "print(model)\n",
    "X_train_processed = model_rfc_tuned[model]['preprocessor'].fit_transform(X_train)\n",
    "X_test_processed = model_rfc_tuned[model]['preprocessor'].transform(X_test)\n",
    "model_rfc_tuned[model]['fit_regressor'] = model_rfc_tuned[model]['regressor'].fit(X_train_processed, y_train.seasonal_vaccine)\n",
    "print(model_rfc_tuned)\n",
    "precision_dict_tuned[model], accuracy_dict_tuned[model], y_hat_test = model_predictions(model_rfc_tuned[model]['fit_regressor'], X_train_processed, y_train.seasonal_vaccine, X_test_processed, y_test.seasonal_vaccine)\n",
    "\n",
    "auc_dict_tuned[model] = roc_auc_score(y_test.seasonal_vaccine, y_hat_test)\n",
    "auc = auc_dict_tuned[model]\n",
    "print(f'Area under the curve for {model} Tuned model: {auc}.')"
   ]
  },
  {
   "cell_type": "markdown",
   "id": "d0e96f64-35ec-4f84-85ef-e77b64ad7e9b",
   "metadata": {},
   "source": [
    "## Tuning Gradient Boosting"
   ]
  },
  {
   "cell_type": "code",
   "execution_count": 30,
   "id": "1850b0e5-1299-4f9d-9dd5-c16ef9b32729",
   "metadata": {},
   "outputs": [],
   "source": [
    "# # Grid_search for Gradient Boosting\n",
    "# pipeline_gbc = Pipeline([( \"preprocessor\" , preprocessor),\n",
    "#                        (\"gbc\",GradientBoostingClassifier(n_estimators=100, learning_rate=0.1))])\n",
    "\n",
    "# parameters_gbc = {}\n",
    "# parameters_gbc['gbc__min_samples_leaf'] = [1, 5, 10]\n",
    "# parameters_gbc['gbc__max_depth'] = [3, 5, 10, 15, 20]\n",
    "\n",
    "# gs_gbc=GridSearchCV(pipeline_gbc,parameters_gbc)\n",
    "\n",
    "# gs_gbc.fit(X_train,y_train.seasonal_vaccine)\n",
    "\n",
    "# gs_gbc.best_params_"
   ]
  },
  {
   "cell_type": "code",
   "execution_count": 31,
   "id": "422f00df-f876-4147-a2b8-e7f1ed75c201",
   "metadata": {},
   "outputs": [
    {
     "name": "stdout",
     "output_type": "stream",
     "text": [
      "Gradient Boosting\n",
      "{'Gradient Boosting': {'regressor': GradientBoostingClassifier(max_depth=5, min_samples_leaf=5), 'preprocessor': ColumnTransformer(transformers=[('num',\n",
      "                                 Pipeline(steps=[('imputer',\n",
      "                                                  SimpleImputer(add_indicator=True,\n",
      "                                                                strategy='median'))]),\n",
      "                                 ['h1n1_concern', 'h1n1_knowledge',\n",
      "                                  'behavioral_antiviral_meds',\n",
      "                                  'behavioral_avoidance',\n",
      "                                  'behavioral_face_mask',\n",
      "                                  'behavioral_wash_hands',\n",
      "                                  'behavioral_large_gatherings',\n",
      "                                  'behavioral_outside_home',\n",
      "                                  'behavioral_touch_face', 'doctor_recc_h1n1'...\n",
      "                                  'opinion_seas_risk',\n",
      "                                  'opinion_seas_sick_from_vacc',\n",
      "                                  'household_adults', 'household_children']),\n",
      "                                ('cat',\n",
      "                                 Pipeline(steps=[('imputer',\n",
      "                                                  SimpleImputer(add_indicator=True,\n",
      "                                                                strategy='most_frequent')),\n",
      "                                                 ('ohe',\n",
      "                                                  OneHotEncoder(handle_unknown='ignore'))]),\n",
      "                                 ['age_group', 'education', 'race', 'sex',\n",
      "                                  'income_poverty', 'marital_status',\n",
      "                                  'rent_or_own', 'employment_status',\n",
      "                                  'census_msa'])]), 'fit_regressor': GradientBoostingClassifier(max_depth=5, min_samples_leaf=5)}}\n",
      "Training Precision:  0.8124931023065887\n",
      "Testing Precision:  0.7821681864235056\n",
      "-----\n",
      "Training Recall:  0.78965998069291\n",
      "Testing Recall:  0.7442159383033419\n",
      "-----\n",
      "Training Accuracy:  0.8172740888666999\n",
      "Testing Accuracy:  0.7841845140032949\n",
      "-----\n",
      "Training F1-Score:  0.8009138381201043\n",
      "Testing F1-Score:  0.7627202371150995\n",
      "Area under the curve for Gradient Boosting Tuned model: 0.7816451360520916.\n"
     ]
    },
    {
     "data": {
      "text/plain": [
       "<sklearn.metrics._plot.confusion_matrix.ConfusionMatrixDisplay at 0x242b9a98f70>"
      ]
     },
     "execution_count": 31,
     "metadata": {},
     "output_type": "execute_result"
    },
    {
     "data": {
      "image/png": "[encoded data removed]",
      "text/plain": [
       "<Figure size 432x288 with 2 Axes>"
      ]
     },
     "metadata": {
      "needs_background": "light"
     },
     "output_type": "display_data"
    }
   ],
   "source": [
    "model_gbc_tuned = {'Gradient Boosting':\n",
    "              {'regressor': GradientBoostingClassifier(min_samples_leaf=5, max_depth=5),\n",
    "               'preprocessor': preprocessor}}\n",
    "\n",
    "model = 'Gradient Boosting'\n",
    "print(model)\n",
    "X_train_processed = model_gbc_tuned[model]['preprocessor'].fit_transform(X_train)\n",
    "X_test_processed = model_gbc_tuned[model]['preprocessor'].transform(X_test)\n",
    "model_gbc_tuned[model]['fit_regressor'] = model_gbc_tuned[model]['regressor'].fit(X_train_processed, y_train.seasonal_vaccine)\n",
    "print(model_gbc_tuned)\n",
    "precision_dict_tuned[model], accuracy_dict_tuned[model], y_hat_test = model_predictions(model_gbc_tuned[model]['fit_regressor'], X_train_processed, y_train.seasonal_vaccine, X_test_processed, y_test.seasonal_vaccine)\n",
    "\n",
    "auc_dict_tuned[model] = roc_auc_score(y_test.seasonal_vaccine, y_hat_test)\n",
    "auc = auc_dict_tuned[model]\n",
    "print(f'Area under the curve for {model} Tuned model: {auc}.')\n",
    "cm_gbc = confusion_matrix(y_test.seasonal_vaccine, y_hat_test)\n",
    "ConfusionMatrixDisplay(cm_gbc, display_labels=['Not \\nvacced', 'Vacced']).plot()"
   ]
  },
  {
   "cell_type": "markdown",
   "id": "f30afa2a-dde9-4fc1-bb7b-c4020a7ca37b",
   "metadata": {},
   "source": [
    "### Tuning Gradient Boost #2"
   ]
  },
  {
   "cell_type": "code",
   "execution_count": 32,
   "id": "b3b7acb1-9392-4f67-9386-45f575146feb",
   "metadata": {},
   "outputs": [],
   "source": [
    "# # Grid_search for Gradient Boosting #2\n",
    "# pipeline_gbc = Pipeline([( \"preprocessor\" , preprocessor),\n",
    "#                        (\"gbc\",GradientBoostingClassifier(n_estimators=500, learning_rate=0.1))])\n",
    "\n",
    "# parameters_gbc = {}\n",
    "# parameters_gbc['gbc__min_samples_leaf'] = [5, 10]#[1, 5, 10]\n",
    "# parameters_gbc['gbc__max_depth'] = [3, 5, 10]#, 15, 20]\n",
    "\n",
    "# gs_gbc=GridSearchCV(pipeline_gbc,parameters_gbc)\n",
    "\n",
    "# gs_gbc.fit(X_train,y_train.seasonal_vaccine)\n",
    "\n",
    "# gs_gbc.best_params_"
   ]
  },
  {
   "cell_type": "code",
   "execution_count": 33,
   "id": "553c1792-9e0b-4294-99fc-bab87c650433",
   "metadata": {},
   "outputs": [
    {
     "name": "stdout",
     "output_type": "stream",
     "text": [
      "Gradient Boosting 2\n",
      "{'Gradient Boosting 2': {'regressor': GradientBoostingClassifier(learning_rate=0.01, max_depth=5, min_samples_leaf=5,\n",
      "                           n_estimators=500), 'preprocessor': ColumnTransformer(transformers=[('num',\n",
      "                                 Pipeline(steps=[('imputer',\n",
      "                                                  SimpleImputer(add_indicator=True,\n",
      "                                                                strategy='median'))]),\n",
      "                                 ['h1n1_concern', 'h1n1_knowledge',\n",
      "                                  'behavioral_antiviral_meds',\n",
      "                                  'behavioral_avoidance',\n",
      "                                  'behavioral_face_mask',\n",
      "                                  'behavioral_wash_hands',\n",
      "                                  'behavioral_large_gatherings',\n",
      "                                  'behavioral_outside_home',\n",
      "                                  'behavioral_touch_face', 'doctor_recc_h1n1'...\n",
      "                                  'opinion_seas_risk',\n",
      "                                  'opinion_seas_sick_from_vacc',\n",
      "                                  'household_adults', 'household_children']),\n",
      "                                ('cat',\n",
      "                                 Pipeline(steps=[('imputer',\n",
      "                                                  SimpleImputer(add_indicator=True,\n",
      "                                                                strategy='most_frequent')),\n",
      "                                                 ('ohe',\n",
      "                                                  OneHotEncoder(handle_unknown='ignore'))]),\n",
      "                                 ['age_group', 'education', 'race', 'sex',\n",
      "                                  'income_poverty', 'marital_status',\n",
      "                                  'rent_or_own', 'employment_status',\n",
      "                                  'census_msa'])]), 'fit_regressor': GradientBoostingClassifier(learning_rate=0.01, max_depth=5, min_samples_leaf=5,\n",
      "                           n_estimators=500)}}\n",
      "Training Precision:  0.7965013286093888\n",
      "Testing Precision:  0.7821548821548822\n",
      "-----\n",
      "Training Recall:  0.7716400300332511\n",
      "Testing Recall:  0.74646529562982\n",
      "-----\n",
      "Training Accuracy:  0.8019470793809286\n",
      "Testing Accuracy:  0.7849333533023813\n",
      "-----\n",
      "Training F1-Score:  0.7838736039226369\n",
      "Testing F1-Score:  0.7638934560999671\n",
      "Area under the curve for Gradient Boosting 2 Tuned model: 0.7824893098064948.\n"
     ]
    },
    {
     "data": {
      "text/plain": [
       "<sklearn.metrics._plot.confusion_matrix.ConfusionMatrixDisplay at 0x242b9db6c70>"
      ]
     },
     "execution_count": 33,
     "metadata": {},
     "output_type": "execute_result"
    },
    {
     "data": {
      "image/png": "[encoded data removed]",
      "text/plain": [
       "<Figure size 432x288 with 2 Axes>"
      ]
     },
     "metadata": {
      "needs_background": "light"
     },
     "output_type": "display_data"
    }
   ],
   "source": [
    "model_gbc_tuned_2 = {'Gradient Boosting 2':\n",
    "              {'regressor': GradientBoostingClassifier(min_samples_leaf=5, max_depth=5, n_estimators=500, learning_rate=0.01),\n",
    "               'preprocessor': preprocessor}}\n",
    "\n",
    "model = 'Gradient Boosting 2'\n",
    "print('Gradient Boosting 2')\n",
    "X_train_processed = model_gbc_tuned_2[model]['preprocessor'].fit_transform(X_train)\n",
    "X_test_processed = model_gbc_tuned_2[model]['preprocessor'].transform(X_test)\n",
    "model_gbc_tuned_2[model]['fit_regressor'] = model_gbc_tuned_2[model]['regressor'].fit(X_train_processed, y_train.seasonal_vaccine)\n",
    "print(model_gbc_tuned_2)\n",
    "precision_dict_tuned[model], accuracy_dict_tuned[model], y_hat_test = model_predictions(model_gbc_tuned_2[model]['fit_regressor'], X_train_processed, y_train.seasonal_vaccine, X_test_processed, y_test.seasonal_vaccine)\n",
    "\n",
    "auc_dict_tuned[model] = roc_auc_score(y_test.seasonal_vaccine, y_hat_test)\n",
    "auc = auc_dict_tuned[model]\n",
    "print(f'Area under the curve for {model} Tuned model: {auc}.')\n",
    "cm_gbc = confusion_matrix(y_test.seasonal_vaccine, y_hat_test)\n",
    "ConfusionMatrixDisplay(cm_gbc, display_labels=['Not \\nvacced', 'Vacced']).plot()"
   ]
  },
  {
   "cell_type": "code",
   "execution_count": 34,
   "id": "c893fe03-483f-4095-aa9a-071cb6206af1",
   "metadata": {},
   "outputs": [
    {
     "name": "stdout",
     "output_type": "stream",
     "text": [
      "Gradient Boosting 3\n",
      "{'Gradient Boosting 3': {'regressor': GradientBoostingClassifier(learning_rate=0.001, max_depth=6, min_samples_leaf=5), 'preprocessor': ColumnTransformer(transformers=[('num',\n",
      "                                 Pipeline(steps=[('imputer',\n",
      "                                                  SimpleImputer(add_indicator=True,\n",
      "                                                                strategy='median'))]),\n",
      "                                 ['h1n1_concern', 'h1n1_knowledge',\n",
      "                                  'behavioral_antiviral_meds',\n",
      "                                  'behavioral_avoidance',\n",
      "                                  'behavioral_face_mask',\n",
      "                                  'behavioral_wash_hands',\n",
      "                                  'behavioral_large_gatherings',\n",
      "                                  'behavioral_outside_home',\n",
      "                                  'behavioral_touch_face', 'doctor_recc_h1n1'...\n",
      "                                  'opinion_seas_risk',\n",
      "                                  'opinion_seas_sick_from_vacc',\n",
      "                                  'household_adults', 'household_children']),\n",
      "                                ('cat',\n",
      "                                 Pipeline(steps=[('imputer',\n",
      "                                                  SimpleImputer(add_indicator=True,\n",
      "                                                                strategy='most_frequent')),\n",
      "                                                 ('ohe',\n",
      "                                                  OneHotEncoder(handle_unknown='ignore'))]),\n",
      "                                 ['age_group', 'education', 'race', 'sex',\n",
      "                                  'income_poverty', 'marital_status',\n",
      "                                  'rent_or_own', 'employment_status',\n",
      "                                  'census_msa'])]), 'fit_regressor': GradientBoostingClassifier(learning_rate=0.001, max_depth=6, min_samples_leaf=5)}}\n",
      "Training Precision:  0.9250182882223847\n",
      "Testing Precision:  0.9101861993428259\n",
      "-----\n",
      "Training Recall:  0.2712646143945082\n",
      "Testing Recall:  0.26703084832904883\n",
      "-----\n",
      "Training Accuracy:  0.6505741387918123\n",
      "Testing Accuracy:  0.6460985472517597\n",
      "-----\n",
      "Training F1-Score:  0.4195073401343618\n",
      "Testing F1-Score:  0.41291925465838514\n",
      "Area under the curve for Gradient Boosting 3 Tuned model: 0.6220147229022523.\n"
     ]
    },
    {
     "data": {
      "text/plain": [
       "<sklearn.metrics._plot.confusion_matrix.ConfusionMatrixDisplay at 0x242b9e455e0>"
      ]
     },
     "execution_count": 34,
     "metadata": {},
     "output_type": "execute_result"
    },
    {
     "data": {
      "image/png": "[encoded data removed]",
      "text/plain": [
       "<Figure size 432x288 with 2 Axes>"
      ]
     },
     "metadata": {
      "needs_background": "light"
     },
     "output_type": "display_data"
    }
   ],
   "source": [
    "model_gbc_tuned_3 = {'Gradient Boosting 3':\n",
    "              {'regressor': GradientBoostingClassifier(min_samples_leaf=5, max_depth=6, n_estimators=100, learning_rate=0.001),\n",
    "               'preprocessor': preprocessor}}\n",
    "\n",
    "model = 'Gradient Boosting 3'\n",
    "print(model)\n",
    "X_train_processed = model_gbc_tuned_3[model]['preprocessor'].fit_transform(X_train)\n",
    "X_test_processed = model_gbc_tuned_3[model]['preprocessor'].transform(X_test)\n",
    "model_gbc_tuned_3[model]['fit_regressor'] = model_gbc_tuned_3[model]['regressor'].fit(X_train_processed, y_train.seasonal_vaccine)\n",
    "print(model_gbc_tuned_3)\n",
    "precision_dict_tuned[model], accuracy_dict_tuned[model], y_hat_test = model_predictions(model_gbc_tuned_3[model]['fit_regressor'], X_train_processed, y_train.seasonal_vaccine, X_test_processed, y_test.seasonal_vaccine)\n",
    "\n",
    "auc_dict_tuned[model] = roc_auc_score(y_test.seasonal_vaccine, y_hat_test)\n",
    "auc = auc_dict_tuned[model]\n",
    "print(f'Area under the curve for {model} Tuned model: {auc}.')\n",
    "cm_gbc = confusion_matrix(y_test.seasonal_vaccine, y_hat_test)\n",
    "ConfusionMatrixDisplay(cm_gbc, display_labels=['Not \\nvacced', 'Vacced']).plot()"
   ]
  },
  {
   "cell_type": "code",
   "execution_count": 35,
   "id": "f14182fc-d04a-40b6-93c8-a90fd5547bdc",
   "metadata": {},
   "outputs": [
    {
     "name": "stdout",
     "output_type": "stream",
     "text": [
      "Gradient Boosting 4\n",
      "{'Gradient Boosting 4': {'regressor': GradientBoostingClassifier(learning_rate=0.001, max_depth=5, min_samples_leaf=5,\n",
      "                           n_estimators=500), 'preprocessor': ColumnTransformer(transformers=[('num',\n",
      "                                 Pipeline(steps=[('imputer',\n",
      "                                                  SimpleImputer(add_indicator=True,\n",
      "                                                                strategy='median'))]),\n",
      "                                 ['h1n1_concern', 'h1n1_knowledge',\n",
      "                                  'behavioral_antiviral_meds',\n",
      "                                  'behavioral_avoidance',\n",
      "                                  'behavioral_face_mask',\n",
      "                                  'behavioral_wash_hands',\n",
      "                                  'behavioral_large_gatherings',\n",
      "                                  'behavioral_outside_home',\n",
      "                                  'behavioral_touch_face', 'doctor_recc_h1n1'...\n",
      "                                  'opinion_seas_risk',\n",
      "                                  'opinion_seas_sick_from_vacc',\n",
      "                                  'household_adults', 'household_children']),\n",
      "                                ('cat',\n",
      "                                 Pipeline(steps=[('imputer',\n",
      "                                                  SimpleImputer(add_indicator=True,\n",
      "                                                                strategy='most_frequent')),\n",
      "                                                 ('ohe',\n",
      "                                                  OneHotEncoder(handle_unknown='ignore'))]),\n",
      "                                 ['age_group', 'education', 'race', 'sex',\n",
      "                                  'income_poverty', 'marital_status',\n",
      "                                  'rent_or_own', 'employment_status',\n",
      "                                  'census_msa'])]), 'fit_regressor': GradientBoostingClassifier(learning_rate=0.001, max_depth=5, min_samples_leaf=5,\n",
      "                           n_estimators=500)}}\n",
      "Training Precision:  0.7991306638566913\n",
      "Testing Precision:  0.794047619047619\n",
      "-----\n",
      "Training Recall:  0.6507561943580392\n",
      "Testing Recall:  0.6429948586118251\n",
      "-----\n",
      "Training Accuracy:  0.7613080379430853\n",
      "Testing Accuracy:  0.7558783884978284\n",
      "-----\n",
      "Training F1-Score:  0.7173514631983445\n",
      "Testing F1-Score:  0.7105823863636364\n",
      "Area under the curve for Gradient Boosting 4 Tuned model: 0.7487064054629954.\n"
     ]
    },
    {
     "data": {
      "text/plain": [
       "<sklearn.metrics._plot.confusion_matrix.ConfusionMatrixDisplay at 0x242ba018ac0>"
      ]
     },
     "execution_count": 35,
     "metadata": {},
     "output_type": "execute_result"
    },
    {
     "data": {
      "image/png": "[encoded data removed]",
      "text/plain": [
       "<Figure size 432x288 with 2 Axes>"
      ]
     },
     "metadata": {
      "needs_background": "light"
     },
     "output_type": "display_data"
    }
   ],
   "source": [
    "model_gbc_tuned_4 = {'Gradient Boosting 4':\n",
    "              {'regressor': GradientBoostingClassifier(min_samples_leaf=5, max_depth=5, n_estimators=500, learning_rate=0.001),\n",
    "               'preprocessor': preprocessor}}\n",
    "\n",
    "model = 'Gradient Boosting 4'\n",
    "print(model)\n",
    "X_train_processed = model_gbc_tuned_4[model]['preprocessor'].fit_transform(X_train)\n",
    "X_test_processed = model_gbc_tuned_4[model]['preprocessor'].transform(X_test)\n",
    "model_gbc_tuned_4[model]['fit_regressor'] = model_gbc_tuned_4[model]['regressor'].fit(X_train_processed, y_train.seasonal_vaccine)\n",
    "print(model_gbc_tuned_4)\n",
    "precision_dict_tuned[model], accuracy_dict_tuned[model], y_hat_test = model_predictions(model_gbc_tuned_4[model]['fit_regressor'], X_train_processed, y_train.seasonal_vaccine, X_test_processed, y_test.seasonal_vaccine)\n",
    "\n",
    "auc_dict_tuned[model] = roc_auc_score(y_test.seasonal_vaccine, y_hat_test)\n",
    "auc = auc_dict_tuned[model]\n",
    "print(f'Area under the curve for {model} Tuned model: {auc}.')\n",
    "cm_gbc = confusion_matrix(y_test.seasonal_vaccine, y_hat_test)\n",
    "ConfusionMatrixDisplay(cm_gbc, display_labels=['Not \\nvacced', 'Vacced']).plot()"
   ]
  },
  {
   "cell_type": "code",
   "execution_count": 36,
   "id": "a23202d4-7191-441c-b3e1-788caf877e9e",
   "metadata": {},
   "outputs": [
    {
     "name": "stdout",
     "output_type": "stream",
     "text": [
      "Gradient Boosting 5\n",
      "{'Gradient Boosting 5': {'regressor': GradientBoostingClassifier(learning_rate=0.001, max_depth=7, min_samples_leaf=5,\n",
      "                           n_estimators=500), 'preprocessor': ColumnTransformer(transformers=[('num',\n",
      "                                 Pipeline(steps=[('imputer',\n",
      "                                                  SimpleImputer(add_indicator=True,\n",
      "                                                                strategy='median'))]),\n",
      "                                 ['h1n1_concern', 'h1n1_knowledge',\n",
      "                                  'behavioral_antiviral_meds',\n",
      "                                  'behavioral_avoidance',\n",
      "                                  'behavioral_face_mask',\n",
      "                                  'behavioral_wash_hands',\n",
      "                                  'behavioral_large_gatherings',\n",
      "                                  'behavioral_outside_home',\n",
      "                                  'behavioral_touch_face', 'doctor_recc_h1n1'...\n",
      "                                  'opinion_seas_risk',\n",
      "                                  'opinion_seas_sick_from_vacc',\n",
      "                                  'household_adults', 'household_children']),\n",
      "                                ('cat',\n",
      "                                 Pipeline(steps=[('imputer',\n",
      "                                                  SimpleImputer(add_indicator=True,\n",
      "                                                                strategy='most_frequent')),\n",
      "                                                 ('ohe',\n",
      "                                                  OneHotEncoder(handle_unknown='ignore'))]),\n",
      "                                 ['age_group', 'education', 'race', 'sex',\n",
      "                                  'income_poverty', 'marital_status',\n",
      "                                  'rent_or_own', 'employment_status',\n",
      "                                  'census_msa'])]), 'fit_regressor': GradientBoostingClassifier(learning_rate=0.001, max_depth=7, min_samples_leaf=5,\n",
      "                           n_estimators=500)}}\n",
      "Training Precision:  0.8129204213732707\n",
      "Testing Precision:  0.7939486786671773\n",
      "-----\n",
      "Training Recall:  0.6870106188994959\n",
      "Testing Recall:  0.6661311053984575\n",
      "-----\n",
      "Training Accuracy:  0.7807289066400399\n",
      "Testing Accuracy:  0.7638160850681444\n",
      "-----\n",
      "Training F1-Score:  0.7446808510638298\n",
      "Testing F1-Score:  0.7244452210379171\n",
      "Area under the curve for Gradient Boosting 5 Tuned model: 0.7576097322223704.\n"
     ]
    },
    {
     "data": {
      "text/plain": [
       "<sklearn.metrics._plot.confusion_matrix.ConfusionMatrixDisplay at 0x242ba48df70>"
      ]
     },
     "execution_count": 36,
     "metadata": {},
     "output_type": "execute_result"
    },
    {
     "data": {
      "image/png": "[encoded data removed]",
      "text/plain": [
       "<Figure size 432x288 with 2 Axes>"
      ]
     },
     "metadata": {
      "needs_background": "light"
     },
     "output_type": "display_data"
    }
   ],
   "source": [
    "model_gbc_tuned_5 = {'Gradient Boosting 5':\n",
    "              {'regressor': GradientBoostingClassifier(min_samples_leaf=5, max_depth=7, n_estimators=500, learning_rate=0.001),\n",
    "               'preprocessor': preprocessor}}\n",
    "\n",
    "model = 'Gradient Boosting 5'\n",
    "print(model)\n",
    "X_train_processed = model_gbc_tuned_5[model]['preprocessor'].fit_transform(X_train)\n",
    "X_test_processed = model_gbc_tuned_5[model]['preprocessor'].transform(X_test)\n",
    "model_gbc_tuned_5[model]['fit_regressor'] = model_gbc_tuned_5[model]['regressor'].fit(X_train_processed, y_train.seasonal_vaccine)\n",
    "print(model_gbc_tuned_5)\n",
    "precision_dict_tuned[model], accuracy_dict_tuned[model], y_hat_test = model_predictions(model_gbc_tuned_5[model]['fit_regressor'], X_train_processed, y_train.seasonal_vaccine, X_test_processed, y_test.seasonal_vaccine)\n",
    "\n",
    "auc_dict_tuned[model] = roc_auc_score(y_test.seasonal_vaccine, y_hat_test)\n",
    "auc = auc_dict_tuned[model]\n",
    "print(f'Area under the curve for {model} Tuned model: {auc}.')\n",
    "cm_gbc = confusion_matrix(y_test.seasonal_vaccine, y_hat_test)\n",
    "ConfusionMatrixDisplay(cm_gbc, display_labels=['Not \\nvacced', 'Vacced']).plot()"
   ]
  },
  {
   "cell_type": "markdown",
   "id": "bb1e0ecd-bf0a-4b36-83db-ae568e4a053e",
   "metadata": {},
   "source": [
    "## Tuning Hist Boost"
   ]
  },
  {
   "cell_type": "code",
   "execution_count": 37,
   "id": "201bd369-d39e-4f9b-956b-05a2c006c39b",
   "metadata": {},
   "outputs": [],
   "source": [
    "# # Grid_search for Hist Boost\n",
    "# pipeline_hbc = Pipeline([( \"preprocessor\" , preprocessor),\n",
    "#                        (\"hbc\",HistGradientBoostingClassifier(learning_rate=0.1, max_iter=100,))])\n",
    "\n",
    "# parameters_hbc = {}\n",
    "# parameters_hbc['hbc__min_samples_leaf'] = [5, 10]\n",
    "# parameters_hbc['hbc__max_depth'] = [5, 10, 15]\n",
    "\n",
    "# gs_hbc=GridSearchCV(pipeline_hbc,parameters_hbc)\n",
    "\n",
    "# gs_hbc.fit(X_train,y_train.seasonal_vaccine)\n",
    "\n",
    "# gs_hbc.best_params_"
   ]
  },
  {
   "cell_type": "code",
   "execution_count": 38,
   "id": "17f6c6e2-e786-4f61-8069-f92f4c7d858e",
   "metadata": {},
   "outputs": [
    {
     "name": "stdout",
     "output_type": "stream",
     "text": [
      "Hist Boosting\n",
      "{'Hist Boosting': {'regressor': HistGradientBoostingClassifier(max_depth=10, min_samples_leaf=5), 'preprocessor': ColumnTransformer(transformers=[('num',\n",
      "                                 Pipeline(steps=[('imputer',\n",
      "                                                  SimpleImputer(add_indicator=True,\n",
      "                                                                strategy='median'))]),\n",
      "                                 ['h1n1_concern', 'h1n1_knowledge',\n",
      "                                  'behavioral_antiviral_meds',\n",
      "                                  'behavioral_avoidance',\n",
      "                                  'behavioral_face_mask',\n",
      "                                  'behavioral_wash_hands',\n",
      "                                  'behavioral_large_gatherings',\n",
      "                                  'behavioral_outside_home',\n",
      "                                  'behavioral_touch_face', 'doctor_recc_h1n1'...\n",
      "                                  'opinion_seas_risk',\n",
      "                                  'opinion_seas_sick_from_vacc',\n",
      "                                  'household_adults', 'household_children']),\n",
      "                                ('cat',\n",
      "                                 Pipeline(steps=[('imputer',\n",
      "                                                  SimpleImputer(add_indicator=True,\n",
      "                                                                strategy='most_frequent')),\n",
      "                                                 ('ohe',\n",
      "                                                  OneHotEncoder(handle_unknown='ignore'))]),\n",
      "                                 ['age_group', 'education', 'race', 'sex',\n",
      "                                  'income_poverty', 'marital_status',\n",
      "                                  'rent_or_own', 'employment_status',\n",
      "                                  'census_msa'])]), 'fit_regressor': HistGradientBoostingClassifier(max_depth=10, min_samples_leaf=5)}}\n",
      "Training Precision:  0.8105717129271259\n",
      "Testing Precision:  0.7831932773109244\n",
      "-----\n",
      "Training Recall:  0.7862276091386893\n",
      "Testing Recall:  0.7487146529562982\n",
      "-----\n",
      "Training Accuracy:  0.8149775336994508\n",
      "Testing Accuracy:  0.7862812640407368\n",
      "-----\n",
      "Training F1-Score:  0.798214091255581\n",
      "Testing F1-Score:  0.765565960243141\n",
      "Area under the curve for Hist Boosting Tuned model: 0.7838944933785699.\n"
     ]
    },
    {
     "data": {
      "text/plain": [
       "<sklearn.metrics._plot.confusion_matrix.ConfusionMatrixDisplay at 0x242ba47c820>"
      ]
     },
     "execution_count": 38,
     "metadata": {},
     "output_type": "execute_result"
    },
    {
     "data": {
      "image/png": "[encoded data removed]",
      "text/plain": [
       "<Figure size 432x288 with 2 Axes>"
      ]
     },
     "metadata": {
      "needs_background": "light"
     },
     "output_type": "display_data"
    }
   ],
   "source": [
    "model_hbc_tuned = {'Hist Boosting':\n",
    "              {'regressor': HistGradientBoostingClassifier(max_depth=10, min_samples_leaf=5),\n",
    "               'preprocessor': preprocessor}}\n",
    "\n",
    "model = 'Hist Boosting'\n",
    "print(model)\n",
    "X_train_processed = model_hbc_tuned[model]['preprocessor'].fit_transform(X_train)\n",
    "X_test_processed = model_hbc_tuned[model]['preprocessor'].transform(X_test)\n",
    "model_hbc_tuned[model]['fit_regressor'] = model_hbc_tuned[model]['regressor'].fit(X_train_processed, y_train.seasonal_vaccine)\n",
    "print(model_hbc_tuned)\n",
    "precision_dict_tuned[model], accuracy_dict_tuned[model], y_hat_test = model_predictions(model_hbc_tuned[model]['fit_regressor'], X_train_processed, y_train.seasonal_vaccine, X_test_processed, y_test.seasonal_vaccine)\n",
    "\n",
    "auc_dict_tuned[model] = roc_auc_score(y_test.seasonal_vaccine, y_hat_test)\n",
    "auc = auc_dict_tuned[model]\n",
    "print(f'Area under the curve for {model} Tuned model: {auc}.')\n",
    "cm_hbc = confusion_matrix(y_test.seasonal_vaccine, y_hat_test)\n",
    "ConfusionMatrixDisplay(cm_hbc, display_labels=['Not \\nvacced', 'Vacced']).plot()"
   ]
  },
  {
   "cell_type": "code",
   "execution_count": 39,
   "id": "4cda42a9-98fc-4a87-afb0-2d261c0bddef",
   "metadata": {},
   "outputs": [
    {
     "name": "stdout",
     "output_type": "stream",
     "text": [
      "Hist Boosting 2\n",
      "{'Hist Boosting 2': {'regressor': HistGradientBoostingClassifier(max_depth=9, min_samples_leaf=10), 'preprocessor': ColumnTransformer(transformers=[('num',\n",
      "                                 Pipeline(steps=[('imputer',\n",
      "                                                  SimpleImputer(add_indicator=True,\n",
      "                                                                strategy='median'))]),\n",
      "                                 ['h1n1_concern', 'h1n1_knowledge',\n",
      "                                  'behavioral_antiviral_meds',\n",
      "                                  'behavioral_avoidance',\n",
      "                                  'behavioral_face_mask',\n",
      "                                  'behavioral_wash_hands',\n",
      "                                  'behavioral_large_gatherings',\n",
      "                                  'behavioral_outside_home',\n",
      "                                  'behavioral_touch_face', 'doctor_recc_h1n1'...\n",
      "                                  'opinion_seas_risk',\n",
      "                                  'opinion_seas_sick_from_vacc',\n",
      "                                  'household_adults', 'household_children']),\n",
      "                                ('cat',\n",
      "                                 Pipeline(steps=[('imputer',\n",
      "                                                  SimpleImputer(add_indicator=True,\n",
      "                                                                strategy='most_frequent')),\n",
      "                                                 ('ohe',\n",
      "                                                  OneHotEncoder(handle_unknown='ignore'))]),\n",
      "                                 ['age_group', 'education', 'race', 'sex',\n",
      "                                  'income_poverty', 'marital_status',\n",
      "                                  'rent_or_own', 'employment_status',\n",
      "                                  'census_msa'])]), 'fit_regressor': HistGradientBoostingClassifier(max_depth=9, min_samples_leaf=10)}}\n",
      "Training Precision:  0.8133435751124767\n",
      "Testing Precision:  0.7803410230692076\n",
      "-----\n",
      "Training Recall:  0.7950230612463799\n",
      "Testing Recall:  0.75\n",
      "-----\n",
      "Training Accuracy:  0.819670494258612\n",
      "Testing Accuracy:  0.7850831211621986\n",
      "-----\n",
      "Training F1-Score:  0.8040789759166848\n",
      "Testing F1-Score:  0.7648697361953137\n",
      "Area under the curve for Hist Boosting 2 Tuned model: 0.7828541374474054.\n"
     ]
    },
    {
     "data": {
      "text/plain": [
       "<sklearn.metrics._plot.confusion_matrix.ConfusionMatrixDisplay at 0x242bab916a0>"
      ]
     },
     "execution_count": 39,
     "metadata": {},
     "output_type": "execute_result"
    },
    {
     "data": {
      "image/png": "[encoded data removed]",
      "text/plain": [
       "<Figure size 432x288 with 2 Axes>"
      ]
     },
     "metadata": {
      "needs_background": "light"
     },
     "output_type": "display_data"
    }
   ],
   "source": [
    "model_hbc_tuned_2 = {'Hist Boosting 2':\n",
    "              {'regressor': HistGradientBoostingClassifier(max_depth=9, min_samples_leaf=10, learning_rate=0.1),\n",
    "               'preprocessor': preprocessor}}\n",
    "\n",
    "model = 'Hist Boosting 2'\n",
    "print(model)\n",
    "X_train_processed = model_hbc_tuned_2[model]['preprocessor'].fit_transform(X_train)\n",
    "X_test_processed = model_hbc_tuned_2[model]['preprocessor'].transform(X_test)\n",
    "model_hbc_tuned_2[model]['fit_regressor'] = model_hbc_tuned_2[model]['regressor'].fit(X_train_processed, y_train.seasonal_vaccine)\n",
    "print(model_hbc_tuned_2)\n",
    "precision_dict_tuned[model], accuracy_dict_tuned[model], y_hat_test = model_predictions(model_hbc_tuned_2[model]['fit_regressor'], X_train_processed, y_train.seasonal_vaccine, X_test_processed, y_test.seasonal_vaccine)\n",
    "\n",
    "auc_dict_tuned[model] = roc_auc_score(y_test.seasonal_vaccine, y_hat_test)\n",
    "auc = auc_dict_tuned[model]\n",
    "print(f'Area under the curve for {model} Tuned model: {auc}.')\n",
    "cm_hbc = confusion_matrix(y_test.seasonal_vaccine, y_hat_test)\n",
    "ConfusionMatrixDisplay(cm_hbc, display_labels=['Not \\nvacced', 'Vacced']).plot()"
   ]
  },
  {
   "cell_type": "markdown",
   "id": "95d520ba-8488-4fdf-80b0-97a8a522307b",
   "metadata": {},
   "source": [
    "## Final Model decision"
   ]
  },
  {
   "cell_type": "markdown",
   "id": "5e3838a9-aee4-4085-a61b-babeea6d790f",
   "metadata": {},
   "source": [
    "Here we examined our models in regards to Precision and Accuracy. We've stipulated we want models with an Accuracy at least higher than 75%, and then with the highest Precision we could reach. We chose those numbers because the models can trade Accuracy for Precision, but with we do that, we have a less efficient model all around. This way we discarded models with low Accuracy, even if they had higher Precision."
   ]
  },
  {
   "cell_type": "code",
   "execution_count": 40,
   "id": "55dddc3a-ee97-4ffc-a6cd-d12d1b98a7ed",
   "metadata": {},
   "outputs": [
    {
     "data": {
      "text/plain": [
       "{'Naive Bayes Tuned': 0.6895839480672765,\n",
       " 'Decision Tree': 0.7323577235772357,\n",
       " 'Random Forest': 0.7782243332115455,\n",
       " 'Gradient Boosting': 0.7821681864235056,\n",
       " 'Gradient Boosting 2': 0.7821548821548822,\n",
       " 'Gradient Boosting 3': 0.9101861993428259,\n",
       " 'Gradient Boosting 4': 0.794047619047619,\n",
       " 'Gradient Boosting 5': 0.7939486786671773,\n",
       " 'Hist Boosting': 0.7831932773109244,\n",
       " 'Hist Boosting 2': 0.7803410230692076}"
      ]
     },
     "execution_count": 40,
     "metadata": {},
     "output_type": "execute_result"
    }
   ],
   "source": [
    "precision_dict_tuned"
   ]
  },
  {
   "cell_type": "code",
   "execution_count": 41,
   "id": "0fa1c346-2fe8-4e6f-ad5d-c55714638db2",
   "metadata": {},
   "outputs": [
    {
     "data": {
      "text/plain": [
       "{'Naive Bayes Tuned': 0.7263741201138235,\n",
       " 'Decision Tree': 0.7479406919275123,\n",
       " 'Random Forest': 0.762018870750337,\n",
       " 'Gradient Boosting': 0.7841845140032949,\n",
       " 'Gradient Boosting 2': 0.7849333533023813,\n",
       " 'Gradient Boosting 3': 0.6460985472517597,\n",
       " 'Gradient Boosting 4': 0.7558783884978284,\n",
       " 'Gradient Boosting 5': 0.7638160850681444,\n",
       " 'Hist Boosting': 0.7862812640407368,\n",
       " 'Hist Boosting 2': 0.7850831211621986}"
      ]
     },
     "execution_count": 41,
     "metadata": {},
     "output_type": "execute_result"
    }
   ],
   "source": [
    "accuracy_dict_tuned"
   ]
  },
  {
   "cell_type": "markdown",
   "id": "da9c4ba3-72d3-4de6-8606-f3bf5984448d",
   "metadata": {},
   "source": [
    "We've selected the Gradient Boosting 4 model as our final model, since it has a more balanced Precision an Accuracy score."
   ]
  },
  {
   "cell_type": "code",
   "execution_count": 42,
   "id": "404dde20-5054-4e54-b4bb-179b65478141",
   "metadata": {},
   "outputs": [],
   "source": [
    "accuracy_v_tuned = [v for v in accuracy_dict_tuned.values()]"
   ]
  },
  {
   "cell_type": "code",
   "execution_count": 43,
   "id": "f500fea7-0e37-48e3-a8ce-2280a7863392",
   "metadata": {},
   "outputs": [],
   "source": [
    "precision_v_tuned = [v for v in precision_dict_tuned.values()]"
   ]
  },
  {
   "cell_type": "code",
   "execution_count": 57,
   "id": "1331a497-fea3-4f47-b9ff-860cee9f1990",
   "metadata": {},
   "outputs": [
    {
     "data": {
      "image/png": "[encoded data removed]",
      "text/plain": [
       "<Figure size 1728x1080 with 1 Axes>"
      ]
     },
     "metadata": {
      "needs_background": "light"
     },
     "output_type": "display_data"
    }
   ],
   "source": [
    "precision = [precision_dict['Baseline'], precision_v_tuned[0], precision_v_tuned[1], precision_v_tuned[9], precision_v_tuned[2], precision_v_tuned[3], precision_v_tuned[4], precision_v_tuned[6], precision_v_tuned[7]]\n",
    "names = ['Baseline', 'Naive\\nBayes', 'Decision\\nTree', 'Hist\\nBoost', 'Random\\nForest', 'Gradient\\nBoost\\n#1', 'Gradient\\nBoost\\n#2', 'Gradient\\nBoost\\n#3', 'Gradient\\nBoost\\n#4']\n",
    "# accuracy = [accuracy_v_tuned[0], accuracy_v_tuned[1], accuracy_v_tuned[9], accuracy_v_tuned[2], accuracy_v_tuned[3], accuracy_v_tuned[4], accuracy_v_tuned[5], accuracy_v_tuned[6]]#, accuracy_v_tuned[7]]\n",
    "\n",
    "fig, ax = plt.subplots(figsize=(24, 15))\n",
    "x_label = names\n",
    "ax = sns.barplot(x_label, precision, palette=\"Blues\")\n",
    "# sns.barplot(x_label, accuracy, palette=\"mako\", ax=ax)\n",
    "plt.xticks(rotation=25, size=30)\n",
    "plt.yticks(size=30)\n",
    "sns.despine()\n",
    "ax.set_ylim(bottom=0, top=1)\n",
    "ax.set_title('Model Precision', fontsize=35)\n",
    "# plt.savefig('Skyler_graph', bbox_inches='tight');"
   ]
  },
  {
   "cell_type": "code",
   "execution_count": 45,
   "id": "16b8c14e-82b5-4457-80f0-2d80ec751c62",
   "metadata": {},
   "outputs": [
    {
     "data": {
      "text/plain": [
       "Pipeline(steps=[('preprocessor',\n",
       "                 ColumnTransformer(transformers=[('num',\n",
       "                                                  Pipeline(steps=[('imputer',\n",
       "                                                                   SimpleImputer(add_indicator=True,\n",
       "                                                                                 strategy='median'))]),\n",
       "                                                  ['h1n1_concern',\n",
       "                                                   'h1n1_knowledge',\n",
       "                                                   'behavioral_antiviral_meds',\n",
       "                                                   'behavioral_avoidance',\n",
       "                                                   'behavioral_face_mask',\n",
       "                                                   'behavioral_wash_hands',\n",
       "                                                   'behavioral_large_gatherings',\n",
       "                                                   'behavioral_outside_home',\n",
       "                                                   'behaviora...\n",
       "                                                  Pipeline(steps=[('imputer',\n",
       "                                                                   SimpleImputer(add_indicator=True,\n",
       "                                                                                 strategy='most_frequent')),\n",
       "                                                                  ('ohe',\n",
       "                                                                   OneHotEncoder(handle_unknown='ignore'))]),\n",
       "                                                  ['age_group', 'education',\n",
       "                                                   'race', 'sex',\n",
       "                                                   'income_poverty',\n",
       "                                                   'marital_status',\n",
       "                                                   'rent_or_own',\n",
       "                                                   'employment_status',\n",
       "                                                   'census_msa'])])),\n",
       "                ('gbc',\n",
       "                 GradientBoostingClassifier(learning_rate=0.001, max_depth=7,\n",
       "                                            min_samples_leaf=5,\n",
       "                                            n_estimators=500))])"
      ]
     },
     "execution_count": 45,
     "metadata": {},
     "output_type": "execute_result"
    }
   ],
   "source": [
    "# Insert our final model in a pipeline to use it for the Feature Permutation Importance\n",
    "pipeline_f_i = Pipeline([('preprocessor', preprocessor),\n",
    "            ('gbc', GradientBoostingClassifier(min_samples_leaf=5, max_depth=7, n_estimators=500, learning_rate=0.001))])\n",
    "pipeline_f_i.fit(X_test, y_test.seasonal_vaccine)"
   ]
  },
  {
   "cell_type": "code",
   "execution_count": 58,
   "id": "15076515-0944-4555-a12c-542afa2260b6",
   "metadata": {},
   "outputs": [
    {
     "data": {
      "image/png": "[encoded data removed]",
      "text/plain": [
       "<Figure size 1296x864 with 1 Axes>"
      ]
     },
     "metadata": {
      "needs_background": "light"
     },
     "output_type": "display_data"
    }
   ],
   "source": [
    "result = permutation_importance(\n",
    "    pipeline_f_i, X_test, y_test.seasonal_vaccine, n_repeats=10, random_state=RANDOM_SEED, n_jobs=2\n",
    ")\n",
    "sorted_idx = result.importances_mean.argsort()\n",
    "\n",
    "fig, ax = plt.subplots(figsize=(18, 12))\n",
    "ax.boxplot(\n",
    "    result.importances[sorted_idx].T, vert=False, labels=X_test.columns[sorted_idx], showfliers=False\n",
    ")\n",
    "\n",
    "ax.set_title(\"Permutation Importances\", fontsize=30)#20\n",
    "plt.xticks(size=15)\n",
    "plt.yticks(size=15)\n",
    "sns.despine()\n",
    "# It the 3 following lines of code are commented out, this cell will plot the permutation importance of the whole dataset\n",
    "ax.set_ylim(bottom=25.5, top=32.5)\n",
    "labels = [i for i in range(0,25)] + ['Opinion on \\nH1N1 Risk', 'Education', 'Opinion on getting\\nSick by taking\\nSeasonal Vaccine', 'Age', 'Opinion about\\nSeasonal Vaccine\\nEffectiveness', 'Doctor Reccomendation\\non getting the Vaccine', 'Opinion on the\\nRisk of getting Sick\\nWithout the vaccine']\n",
    "ax.set_yticklabels(labels)\n",
    "\n",
    "# plt.savefig('Permutation_Importances2', bbox_inches='tight');"
   ]
  },
  {
   "cell_type": "markdown",
   "id": "a58236a1-1cb3-4f18-91c9-a8dbfe93c69f",
   "metadata": {},
   "source": [
    "This plot shows us the top seven features ranked by importance by our model. We can clearly see that opinions, which can be translated to level of information, have a very igh impact in predicting our target. That, paired with Doctors Recommendation, form an axis which the Department of Helth can influence with more information, that should lead into higher vaccination turnout."
   ]
  },
  {
   "cell_type": "markdown",
   "id": "343bc49d-0a32-46ff-b044-3af77f58db29",
   "metadata": {},
   "source": [
    "Since age group is also one of our most important features for predicting wheter an individual has taken the vaccine, we also looked into which percentage each group has taken the vaccine."
   ]
  },
  {
   "cell_type": "code",
   "execution_count": 47,
   "id": "60d5a7da-2464-462b-bf24-89d7da1f714c",
   "metadata": {},
   "outputs": [],
   "source": [
    "complete_df = features_df.join(labels_df, on='respondent_id', how='right', lsuffix='1', rsuffix='2')"
   ]
  },
  {
   "cell_type": "code",
   "execution_count": 98,
   "id": "b45fb19e-8289-4266-b3c4-6ecd872d3018",
   "metadata": {},
   "outputs": [
    {
     "data": {
      "text/plain": [
       "age_group      seasonal_vaccine\n",
       "18 - 34 Years  0                   0.715436\n",
       "               1                   0.284564\n",
       "35 - 44 Years  0                   0.637474\n",
       "               1                   0.362526\n",
       "45 - 54 Years  0                   0.598702\n",
       "               1                   0.401298\n",
       "55 - 64 Years  1                   0.511235\n",
       "               0                   0.488765\n",
       "65+ Years      1                   0.673681\n",
       "               0                   0.326319\n",
       "Name: seasonal_vaccine, dtype: float64"
      ]
     },
     "execution_count": 98,
     "metadata": {},
     "output_type": "execute_result"
    }
   ],
   "source": [
    "complete_df.groupby('age_group')['seasonal_vaccine'].value_counts(normalize=True)"
   ]
  },
  {
   "cell_type": "code",
   "execution_count": 108,
   "id": "41e3406e-2596-4cff-bb3f-b29bbbf4b3cd",
   "metadata": {},
   "outputs": [],
   "source": [
    "perc = [.2845, .3625, .4013, .5112, .6737]"
   ]
  },
  {
   "cell_type": "code",
   "execution_count": 109,
   "id": "ba0c391a-ee73-4039-b5b0-0eba35585fe8",
   "metadata": {},
   "outputs": [
    {
     "data": {
      "image/png": "[encoded data removed]",
      "text/plain": [
       "<Figure size 1152x864 with 1 Axes>"
      ]
     },
     "metadata": {
      "needs_background": "light"
     },
     "output_type": "display_data"
    }
   ],
   "source": [
    "fig, ax = plt.subplots(figsize=(16,12))\n",
    "\n",
    "sns.barplot(x=['18 - 34 Years', '35 - 44 Years', '45 - 54 Years', '55 - 64 Years', '65+ Years'],\n",
    "            y=perc,\n",
    "            ax = ax, \n",
    "            palette=\"BuGn\")\n",
    "plt.title('Percentage of People Vaccinated\\nFrom Seasonal Flu', size=30)\n",
    "ax.set_ylim(bottom=0, top=1)\n",
    "plt.xticks(size=20)\n",
    "plt.yticks(size=25)\n",
    "sns.despine()\n",
    "# plt.savefig('Age_group', bbox_inches='tight');"
   ]
  },
  {
   "cell_type": "markdown",
   "id": "db1458d7-517b-4636-99af-3a01948fe808",
   "metadata": {},
   "source": [
    "## Recommendations\n",
    "* Raise awareness of dangers of the seasonal flu via new campaigns to everyone\n",
    "  - Peoples own opinions about the risks of the flu are highly correlated with them getting the vaccine or not.New campaigns talking about the risks could have a positive effect in vaccination rollout.\n",
    "* A more specific campaign towards folks aged below their mid thirties could be more beneficial as they are the least likely age groups to be vaccinated\n",
    "  - People below their mid thirties are the least likely age group to take the seasonal flu vaccine. We reccomend campaings that target that group more specifically, since they'll be targeting a larger non vaccinated audience.\n",
    "* Have doctors and practitioners reach out to patients to take the vaccine\n",
    "  - Lastly, people tend to listen to their doctors. We suggest communicating to doctors about proactive campaigns, be it via email or telephone, where practitioners reach out to patients to comunicate the importance of the vaccine.\n",
    "***"
   ]
  }
 ],
 "metadata": {
  "kernelspec": {
   "display_name": "Python (learn-env)",
   "language": "python",
   "name": "learn-env"
  },
  "language_info": {
   "codemirror_mode": {
    "name": "ipython",
    "version": 3
   },
   "file_extension": ".py",
   "mimetype": "text/x-python",
   "name": "python",
   "nbconvert_exporter": "python",
   "pygments_lexer": "ipython3",
   "version": "3.8.5"
  }
 },
 "nbformat": 4,
 "nbformat_minor": 5
}
